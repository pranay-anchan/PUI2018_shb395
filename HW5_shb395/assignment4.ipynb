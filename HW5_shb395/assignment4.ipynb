{
 "cells": [
  {
   "cell_type": "markdown",
   "metadata": {},
   "source": [
    "# Overview of the analyses that follow:\n",
    "\n",
    "For this assignment, I performed a Kolmogorov-Smirnov (KS) test for differences in ride duration between all CitiBike rides that begin during the day versus all rides that begin at night. I also performed a KS test for differences in the age of riders who begin their CitiBike rides in Manhattan versus riders who begin in Brooklyn.\n",
    "\n",
    "After performing the KS test using all of the relevant rides, I took random samples of 200 rides for each category (day, night, Manhattan, and Brooklyn rides) and then performed two more KS tests for day versus night and Manhattan versus Brooklyn rides with the smaller samples. I conducted these tests with smaller sample sizes because with very large sample sizes, the KS test is more likely to find differences in their distributions. (Any two samples will not be identically distributed, and the more information provide to the KS test, the more likely it is to find differences in sample distributions.) With the smaller sample sizes, differences in distributions (if they exist) are more meaningful.\n",
    "\n",
    "In addition to the two KS tests, I also performed Pearson's and Spearman's correlation tests with 500 randomly selected data points. (I used the same sample sizes for both tests because the tests will otherwise not run.)\n",
    "\n",
    "See below for the null hypotheses and results for each test. For all of the analyses that follow, I used an $\\alpha$ level of .05 to test for true, statistically significant differences that affect related sample groups.\n",
    "\n",
    "**Note:** For my analysis of rides by time of day, I define daytime as 5 am to 4 pm and night as 8 pm to 3 am. And for my analysis of rides by their place of origin, I used four latitudinal and longitudinal coordinates that roughly define Manhattan and Brooklyn. This method is obviously not ideal since these boundaries allow for areas that overlap between Manhattan and Brooklyn and allow for the improper association of parts of other boroughs (especially the Bronx and Queens) with Manhattan and Brooklyn."
   ]
  },
  {
   "cell_type": "code",
   "execution_count": 1,
   "metadata": {
    "ExecuteTime": {
     "end_time": "2017-10-05T16:48:06.390950",
     "start_time": "2017-10-05T16:48:04.815178"
    },
    "run_control": {
     "frozen": false,
     "read_only": false
    },
    "scrolled": true
   },
   "outputs": [
    {
     "name": "stdout",
     "output_type": "stream",
     "text": [
      "Populating the interactive namespace from numpy and matplotlib\n"
     ]
    }
   ],
   "source": [
    "from __future__  import print_function, division\n",
    "import pylab as pl\n",
    "import pandas as pd\n",
    "import numpy as np\n",
    "import os\n",
    "import scipy.stats\n",
    "\n",
    "%pylab inline"
   ]
  },
  {
   "cell_type": "markdown",
   "metadata": {},
   "source": [
    "## Data wrangling:"
   ]
  },
  {
   "cell_type": "code",
   "execution_count": 2,
   "metadata": {},
   "outputs": [],
   "source": [
    "os.environ[\"PUIdata\"] = \"{}/PUIdata\".format(os.getenv(\"HOME\"))"
   ]
  },
  {
   "cell_type": "code",
   "execution_count": 3,
   "metadata": {},
   "outputs": [
    {
     "name": "stdout",
     "output_type": "stream",
     "text": [
      "  % Total    % Received % Xferd  Average Speed   Time    Time     Time  Current\n",
      "                                 Dload  Upload   Total   Spent    Left  Speed\n",
      "100 57.7M  100 57.7M    0     0  44.7M      0  0:00:01  0:00:01 --:--:-- 44.8M\n",
      "Archive:  201707-citibike-tripdata.csv.zip\n",
      "  inflating: /nfshome/shb395/PUIdata/201707-citibike-tripdata.csv  \n"
     ]
    }
   ],
   "source": [
    "# Read the January 2017 data\n",
    "!curl -O https://s3.amazonaws.com/tripdata/201707-citibike-tripdata.csv.zip\n",
    "# Upack it into PUIdata\n",
    "!unzip 201707-citibike-tripdata.csv.zip -d $PUIdata"
   ]
  },
  {
   "cell_type": "code",
   "execution_count": 4,
   "metadata": {},
   "outputs": [
    {
     "name": "stdout",
     "output_type": "stream",
     "text": [
      "  % Total    % Received % Xferd  Average Speed   Time    Time     Time  Current\n",
      "                                 Dload  Upload   Total   Spent    Left  Speed\n",
      "100 30.6M  100 30.6M    0     0  53.8M      0 --:--:-- --:--:-- --:--:-- 53.8M\n",
      "Archive:  201712-citibike-tripdata.csv.zip\n",
      "  inflating: /nfshome/shb395/PUIdata/201712-citibike-tripdata.csv  \n"
     ]
    }
   ],
   "source": [
    "# Read the July 2017 data\n",
    "!curl -O https://s3.amazonaws.com/tripdata/201712-citibike-tripdata.csv.zip\n",
    "# Upack it into PUIdata\n",
    "!unzip 201712-citibike-tripdata.csv.zip -d $PUIdata"
   ]
  },
  {
   "cell_type": "code",
   "execution_count": 5,
   "metadata": {},
   "outputs": [
    {
     "name": "stdout",
     "output_type": "stream",
     "text": [
      "201707-citibike-tripdata.csv  README.md\r\n",
      "201712-citibike-tripdata.csv  times.txt\r\n"
     ]
    }
   ],
   "source": [
    "# Make sure all the data has been loaded\n",
    "!ls $PUIdata"
   ]
  },
  {
   "cell_type": "code",
   "execution_count": 6,
   "metadata": {},
   "outputs": [],
   "source": [
    "# Read and concatenate data into a dataframe\n",
    "jul = pd.read_csv(os.getenv(\"PUIdata\") + '/' + '201707-citibike-tripdata.csv')\n",
    "dec = pd.read_csv(os.getenv(\"PUIdata\") + '/' + '201712-citibike-tripdata.csv')\n",
    "frames = [jul,dec]\n",
    "df_new = pd.concat(frames)"
   ]
  },
  {
   "cell_type": "code",
   "execution_count": 7,
   "metadata": {},
   "outputs": [
    {
     "data": {
      "text/plain": [
       "Index(['tripduration', 'starttime', 'stoptime', 'start station id',\n",
       "       'start station name', 'start station latitude',\n",
       "       'start station longitude', 'end station id', 'end station name',\n",
       "       'end station latitude', 'end station longitude', 'bikeid', 'usertype',\n",
       "       'birth year', 'gender'],\n",
       "      dtype='object')"
      ]
     },
     "execution_count": 7,
     "metadata": {},
     "output_type": "execute_result"
    }
   ],
   "source": [
    "df_new.columns"
   ]
  },
  {
   "cell_type": "code",
   "execution_count": 8,
   "metadata": {},
   "outputs": [],
   "source": [
    "df_new.rename(columns={'start station latitude':'start_lat', \\\n",
    "                       'start station longitude':'start_long'}, inplace=True)"
   ]
  },
  {
   "cell_type": "code",
   "execution_count": 9,
   "metadata": {},
   "outputs": [],
   "source": [
    "df_new = df_new.dropna(subset=['tripduration', 'starttime','start_lat','start_long'])"
   ]
  },
  {
   "cell_type": "code",
   "execution_count": 10,
   "metadata": {},
   "outputs": [],
   "source": [
    "df_new['hour'] = pd.to_datetime(df_new['starttime'])\n",
    "df_new['hour'] = df_new['hour'].dt.hour"
   ]
  },
  {
   "cell_type": "code",
   "execution_count": 11,
   "metadata": {},
   "outputs": [],
   "source": [
    "# Had to reset index because there was a problem of duplicate indexes\n",
    "df_new = df_new.reset_index(drop=True)"
   ]
  },
  {
   "cell_type": "code",
   "execution_count": 12,
   "metadata": {},
   "outputs": [],
   "source": [
    "# Adding column for rides started during the day\n",
    "df_new['day_dur'] = df_new['tripduration'][(df_new['hour'] >= 5) & \\\n",
    "                                               (df_new['hour'] <= 16)]"
   ]
  },
  {
   "cell_type": "code",
   "execution_count": 13,
   "metadata": {},
   "outputs": [],
   "source": [
    "# Adding column for rides started during at night\n",
    "df_new['night_dur'] = df_new['tripduration'][((df_new['hour'] >= 20) & \\\n",
    "                                               (df_new['hour'] <= 24)) | \\\n",
    "                                                ((df_new['hour'] >= 0) & \\\n",
    "                                               (df_new['hour'] <= 3))]"
   ]
  },
  {
   "cell_type": "code",
   "execution_count": 14,
   "metadata": {},
   "outputs": [],
   "source": [
    "# Add county origin location using lat long boundaries for Manhattan and Brooklyn\n",
    "# Source: http://www.mapdevelopers.com/geocode_bounding_box.php\n",
    "df_new['mnhtn'] = 2018 - df_new['birth year'][(df_new['start_lat'] <= 40.882214) & \\\n",
    "                           (df_new['start_lat'] >= 40.680396) & \\\n",
    "                           (df_new['start_long'] <= -73.907000) & \\\n",
    "                           (df_new['start_long'] >= -74.047285)]\n",
    "\n",
    "df_new['brkln'] = 2018 - df_new['birth year'][(df_new['start_lat'] <= 40.739446) & \\\n",
    "                           (df_new['start_lat'] >= 40.551042) & \\\n",
    "                           (df_new['start_long'] <= -73.833365) & \\\n",
    "                           (df_new['start_long'] >= -74.056630)]"
   ]
  },
  {
   "cell_type": "code",
   "execution_count": 15,
   "metadata": {},
   "outputs": [
    {
     "data": {
      "text/html": [
       "<div>\n",
       "<table border=\"1\" class=\"dataframe\">\n",
       "  <thead>\n",
       "    <tr style=\"text-align: right;\">\n",
       "      <th></th>\n",
       "      <th>tripduration</th>\n",
       "      <th>starttime</th>\n",
       "      <th>stoptime</th>\n",
       "      <th>start station id</th>\n",
       "      <th>start station name</th>\n",
       "      <th>start_lat</th>\n",
       "      <th>start_long</th>\n",
       "      <th>end station id</th>\n",
       "      <th>end station name</th>\n",
       "      <th>end station latitude</th>\n",
       "      <th>end station longitude</th>\n",
       "      <th>bikeid</th>\n",
       "      <th>usertype</th>\n",
       "      <th>birth year</th>\n",
       "      <th>gender</th>\n",
       "      <th>hour</th>\n",
       "      <th>day_dur</th>\n",
       "      <th>night_dur</th>\n",
       "      <th>mnhtn</th>\n",
       "      <th>brkln</th>\n",
       "    </tr>\n",
       "  </thead>\n",
       "  <tbody>\n",
       "    <tr>\n",
       "      <th>0</th>\n",
       "      <td>364</td>\n",
       "      <td>2017-07-01 00:00:00</td>\n",
       "      <td>2017-07-01 00:06:05</td>\n",
       "      <td>539</td>\n",
       "      <td>Metropolitan Ave &amp; Bedford Ave</td>\n",
       "      <td>40.715348</td>\n",
       "      <td>-73.960241</td>\n",
       "      <td>3107</td>\n",
       "      <td>Bedford Ave &amp; Nassau Ave</td>\n",
       "      <td>40.723117</td>\n",
       "      <td>-73.952123</td>\n",
       "      <td>14744</td>\n",
       "      <td>Subscriber</td>\n",
       "      <td>1986.0</td>\n",
       "      <td>1</td>\n",
       "      <td>0</td>\n",
       "      <td>NaN</td>\n",
       "      <td>364.0</td>\n",
       "      <td>32.0</td>\n",
       "      <td>32.0</td>\n",
       "    </tr>\n",
       "    <tr>\n",
       "      <th>1</th>\n",
       "      <td>2142</td>\n",
       "      <td>2017-07-01 00:00:03</td>\n",
       "      <td>2017-07-01 00:35:46</td>\n",
       "      <td>293</td>\n",
       "      <td>Lafayette St &amp; E 8 St</td>\n",
       "      <td>40.730207</td>\n",
       "      <td>-73.991026</td>\n",
       "      <td>3425</td>\n",
       "      <td>2 Ave  &amp; E 104 St</td>\n",
       "      <td>40.789210</td>\n",
       "      <td>-73.943708</td>\n",
       "      <td>19587</td>\n",
       "      <td>Subscriber</td>\n",
       "      <td>1981.0</td>\n",
       "      <td>1</td>\n",
       "      <td>0</td>\n",
       "      <td>NaN</td>\n",
       "      <td>2142.0</td>\n",
       "      <td>37.0</td>\n",
       "      <td>37.0</td>\n",
       "    </tr>\n",
       "    <tr>\n",
       "      <th>2</th>\n",
       "      <td>328</td>\n",
       "      <td>2017-07-01 00:00:08</td>\n",
       "      <td>2017-07-01 00:05:37</td>\n",
       "      <td>3242</td>\n",
       "      <td>Schermerhorn St &amp; Court St</td>\n",
       "      <td>40.691029</td>\n",
       "      <td>-73.991834</td>\n",
       "      <td>3397</td>\n",
       "      <td>Court St &amp; Nelson St</td>\n",
       "      <td>40.676395</td>\n",
       "      <td>-73.998699</td>\n",
       "      <td>27937</td>\n",
       "      <td>Subscriber</td>\n",
       "      <td>1984.0</td>\n",
       "      <td>2</td>\n",
       "      <td>0</td>\n",
       "      <td>NaN</td>\n",
       "      <td>328.0</td>\n",
       "      <td>34.0</td>\n",
       "      <td>34.0</td>\n",
       "    </tr>\n",
       "    <tr>\n",
       "      <th>3</th>\n",
       "      <td>2530</td>\n",
       "      <td>2017-07-01 00:00:11</td>\n",
       "      <td>2017-07-01 00:42:22</td>\n",
       "      <td>2002</td>\n",
       "      <td>Wythe Ave &amp; Metropolitan Ave</td>\n",
       "      <td>40.716887</td>\n",
       "      <td>-73.963198</td>\n",
       "      <td>398</td>\n",
       "      <td>Atlantic Ave &amp; Furman St</td>\n",
       "      <td>40.691652</td>\n",
       "      <td>-73.999979</td>\n",
       "      <td>26066</td>\n",
       "      <td>Subscriber</td>\n",
       "      <td>1985.0</td>\n",
       "      <td>1</td>\n",
       "      <td>0</td>\n",
       "      <td>NaN</td>\n",
       "      <td>2530.0</td>\n",
       "      <td>33.0</td>\n",
       "      <td>33.0</td>\n",
       "    </tr>\n",
       "    <tr>\n",
       "      <th>4</th>\n",
       "      <td>2534</td>\n",
       "      <td>2017-07-01 00:00:15</td>\n",
       "      <td>2017-07-01 00:42:29</td>\n",
       "      <td>2002</td>\n",
       "      <td>Wythe Ave &amp; Metropolitan Ave</td>\n",
       "      <td>40.716887</td>\n",
       "      <td>-73.963198</td>\n",
       "      <td>398</td>\n",
       "      <td>Atlantic Ave &amp; Furman St</td>\n",
       "      <td>40.691652</td>\n",
       "      <td>-73.999979</td>\n",
       "      <td>29408</td>\n",
       "      <td>Subscriber</td>\n",
       "      <td>1982.0</td>\n",
       "      <td>2</td>\n",
       "      <td>0</td>\n",
       "      <td>NaN</td>\n",
       "      <td>2534.0</td>\n",
       "      <td>36.0</td>\n",
       "      <td>36.0</td>\n",
       "    </tr>\n",
       "  </tbody>\n",
       "</table>\n",
       "</div>"
      ],
      "text/plain": [
       "   tripduration            starttime             stoptime  start station id  \\\n",
       "0           364  2017-07-01 00:00:00  2017-07-01 00:06:05               539   \n",
       "1          2142  2017-07-01 00:00:03  2017-07-01 00:35:46               293   \n",
       "2           328  2017-07-01 00:00:08  2017-07-01 00:05:37              3242   \n",
       "3          2530  2017-07-01 00:00:11  2017-07-01 00:42:22              2002   \n",
       "4          2534  2017-07-01 00:00:15  2017-07-01 00:42:29              2002   \n",
       "\n",
       "               start station name  start_lat  start_long  end station id  \\\n",
       "0  Metropolitan Ave & Bedford Ave  40.715348  -73.960241            3107   \n",
       "1           Lafayette St & E 8 St  40.730207  -73.991026            3425   \n",
       "2      Schermerhorn St & Court St  40.691029  -73.991834            3397   \n",
       "3    Wythe Ave & Metropolitan Ave  40.716887  -73.963198             398   \n",
       "4    Wythe Ave & Metropolitan Ave  40.716887  -73.963198             398   \n",
       "\n",
       "           end station name  end station latitude  end station longitude  \\\n",
       "0  Bedford Ave & Nassau Ave             40.723117             -73.952123   \n",
       "1         2 Ave  & E 104 St             40.789210             -73.943708   \n",
       "2      Court St & Nelson St             40.676395             -73.998699   \n",
       "3  Atlantic Ave & Furman St             40.691652             -73.999979   \n",
       "4  Atlantic Ave & Furman St             40.691652             -73.999979   \n",
       "\n",
       "   bikeid    usertype  birth year  gender  hour  day_dur  night_dur  mnhtn  \\\n",
       "0   14744  Subscriber      1986.0       1     0      NaN      364.0   32.0   \n",
       "1   19587  Subscriber      1981.0       1     0      NaN     2142.0   37.0   \n",
       "2   27937  Subscriber      1984.0       2     0      NaN      328.0   34.0   \n",
       "3   26066  Subscriber      1985.0       1     0      NaN     2530.0   33.0   \n",
       "4   29408  Subscriber      1982.0       2     0      NaN     2534.0   36.0   \n",
       "\n",
       "   brkln  \n",
       "0   32.0  \n",
       "1   37.0  \n",
       "2   34.0  \n",
       "3   33.0  \n",
       "4   36.0  "
      ]
     },
     "execution_count": 15,
     "metadata": {},
     "output_type": "execute_result"
    }
   ],
   "source": [
    "df_new.head(5)"
   ]
  },
  {
   "cell_type": "markdown",
   "metadata": {},
   "source": [
    "# KS tests:"
   ]
  },
  {
   "cell_type": "markdown",
   "metadata": {},
   "source": [
    "## Null hypotheses (for both the KS test of all data and the test of 200 random points):\n",
    "\n",
    "### CitiBike ride duration by time of day:\n",
    "\n",
    "When we compare the sample of CitiBike rides that begin at night (between 8 pm and 3 am) with the sample of rides that begin during the day (between 5 am and 4 pm), we will see the same distribution of ride durations. In other words, we will not see a large difference in ride duration between CitiBike rides that begin during the day and those that begin at night.\n",
    "\n",
    "** $H_0: P_0 = P_1$    **\n",
    "\n",
    "** $H_a: P_0 \\neq P_1 $    **\n",
    "\n",
    " $P_0$ = The distribution of CitiBike ride durations that begin at night (between 8 pm and 3 am).\n",
    " \n",
    " $P_1$ = The distribution of CitiBike ride durations that begin during the day (between 5 am and 4 pm).\n",
    " \n",
    " ### CitiBike rider age by ride originating location:\n",
    " \n",
    "When we compare the sample of CitiBike rides that begin in Manhattan with the sample of rides that begin in Brooklyn, we will see the same distribution of rider ages. In other words, we will not see a large difference in the age of riders between CitiBike rides that begin in Manhattan and those that begin in Brooklyn.\n",
    "\n",
    "** $H_0: P_0 = P_1$    **\n",
    "\n",
    "** $H_a: P_0 \\neq P_1 $    **\n",
    "\n",
    " $P_0$ = The distribution of CitiBike rider ages for rides that begin in Manhattan.\n",
    " \n",
    " $P_1$ = The distribution of CitiBike rider ages for rides that begin in Brooklyn."
   ]
  },
  {
   "cell_type": "markdown",
   "metadata": {},
   "source": [
    "## KS statistics:"
   ]
  },
  {
   "cell_type": "code",
   "execution_count": 18,
   "metadata": {},
   "outputs": [],
   "source": [
    "# For an alpha level of .05\n",
    "ca = 1.36"
   ]
  },
  {
   "cell_type": "code",
   "execution_count": 19,
   "metadata": {},
   "outputs": [],
   "source": [
    "# Test for rejecting the null for full samples\n",
    "def ks_sig(ca, samp1, samp2):\n",
    "    stat = scipy.stats.ks_2samp(samp1, samp2)\n",
    "    ks = stat.statistic\n",
    "    crit_val = stat.pvalue\n",
    "    samp1_count = samp1.count()\n",
    "    samp2_count = samp2.count()\n",
    "    sig = ca * sqrt((samp1_count + samp2_count)/(samp1_count*samp2_count))\n",
    "    if ks > sig:\n",
    "        return \"Reject the null: Our KS stat of \" + str(round(ks, 3)) + \" meets \"\\\n",
    "        \"our threshold for an alpha level of .05.\" \\\n",
    "            \" (p value = \" + str(round(crit_val,3)) + \")\"\n",
    "    else:\n",
    "        return \"Do not reject the null: Our KS stat of \" + str(round(ks, 3)) + \\\n",
    "        \" does not surpass our threshold for an alpha \"\\\n",
    "            \"level of .05. (p value = \" + str(round(crit_val,3)) + \")\""
   ]
  },
  {
   "cell_type": "code",
   "execution_count": 20,
   "metadata": {},
   "outputs": [
    {
     "name": "stdout",
     "output_type": "stream",
     "text": [
      "Test for time of day - Reject the null: Our KS stat of 0.463 meets our threshold for an alpha level of .05. (p value = 0.0)\n",
      "\n",
      "Test for location - Reject the null: Our KS stat of 0.391 meets our threshold for an alpha level of .05. (p value = 0.0)\n"
     ]
    }
   ],
   "source": [
    "# Result of test\n",
    "print(\"Test for time of day - \" + str(ks_sig(ca, df_new.day_dur, df_new.night_dur)))\n",
    "print(\"\")\n",
    "print(\"Test for location - \" + str(ks_sig(ca, df_new.mnhtn, df_new.brkln)))"
   ]
  },
  {
   "cell_type": "code",
   "execution_count": 21,
   "metadata": {},
   "outputs": [],
   "source": [
    "# 200 data points for day, night, Manhattan, and Brooklyn rides\n",
    "np.random.seed(101)\n",
    "sample_size = 200\n",
    "\n",
    "# Get a list of indexes to keep\n",
    "def new_indexes(df):\n",
    "    indexes = np.random.choice(arange(len(df)), sample_size, replace=True)\n",
    "    return indexes\n",
    "\n",
    "# day\n",
    "df_day_reduced_ks = df_new.dropna(subset=['day_dur']).reset_index()\n",
    "day_indexes_ks = new_indexes(df_day_reduced_ks)\n",
    "df_day_reduced_ks = df_day_reduced_ks.ix[day_indexes_ks]\n",
    "\n",
    "# night\n",
    "df_night_reduced_ks = df_new.dropna(subset=['night_dur']).reset_index()\n",
    "night_indexes_ks = new_indexes(df_night_reduced_ks)\n",
    "df_night_reduced_ks = df_night_reduced_ks.ix[night_indexes_ks]\n",
    "\n",
    "# Manhattan\n",
    "df_mnhtn_reduced_ks = df_new.dropna(subset=['mnhtn']).reset_index()\n",
    "mnhtn_indexes_ks = new_indexes(df_mnhtn_reduced_ks)\n",
    "df_mnhtn_reduced_ks = df_mnhtn_reduced_ks.ix[mnhtn_indexes_ks]\n",
    "\n",
    "# Brooklyn\n",
    "df_brkln_reduced_ks = df_new.dropna(subset=['brkln']).reset_index()\n",
    "brkln_indexes_ks = new_indexes(df_brkln_reduced_ks)\n",
    "df_brkln_reduced_ks = df_brkln_reduced_ks.ix[brkln_indexes_ks]"
   ]
  },
  {
   "cell_type": "code",
   "execution_count": 22,
   "metadata": {},
   "outputs": [
    {
     "name": "stdout",
     "output_type": "stream",
     "text": [
      "Test for time of day - Do not reject the null: Our KS stat of 0.055 does not surpass our threshold for an alpha level of .05. (p value = 0.915)\n",
      "\n",
      "Test for location - Do not reject the null: Our KS stat of 0.09 does not surpass our threshold for an alpha level of .05. (p value = 0.377)\n"
     ]
    }
   ],
   "source": [
    "# Tests for samples with 200 data points\n",
    "print(\"Test for time of day - \" + str(ks_sig(ca, df_day_reduced_ks.day_dur, \\\n",
    "                                             df_night_reduced_ks.night_dur)))\n",
    "print(\"\")\n",
    "print(\"Test for location - \" + str(ks_sig(ca, df_mnhtn_reduced_ks.mnhtn, \\\n",
    "                                          df_brkln_reduced_ks.brkln)))"
   ]
  },
  {
   "cell_type": "markdown",
   "metadata": {},
   "source": [
    "## KS tests conclusion:\n",
    "\n",
    "For the analyses of the complete samples of CitiBike ride duration by time of day and CitiBike rider age by ride origin, our KS statistics are greater than our critical values, leading us to conclude that we should reject the null hypotheses. The distributions of each pair of sample groups (day vs night rides, Manhattan vs Brooklyn rides) are not drawn from the same continuous distribution and we have arrived at this conclusion with high confidence due to our  p value (which is less than the $\\alpha$ value of .05 that we established at the beginning of this analysis).\n",
    "\n",
    "However, once we reduce our data sets to only 200 data points, the resulting KS statistics are less than the critical values and we therefore fail to reject the null. In other words, when we limit the amount of information we have about each data set, we are unable to determine the difference in their respective distributions with statistical confidence."
   ]
  },
  {
   "cell_type": "markdown",
   "metadata": {},
   "source": [
    "# Pearson's and Spearman's tests\n",
    "\n",
    "For the Pearson's and Spearman's tests that follow, I drew 500 (reproducibly) random samples each of day, night, Manhattan and Brooklyn rides. I then sorted the relevant column of data for each sample (ride duration for the time test and rider age for the location test) in ascending order and ran Pearson's and Spearman's tests on each sample."
   ]
  },
  {
   "cell_type": "markdown",
   "metadata": {},
   "source": [
    "## More data wrangling:"
   ]
  },
  {
   "cell_type": "code",
   "execution_count": 23,
   "metadata": {},
   "outputs": [],
   "source": [
    "# Reduced dfs for day, night, Manhattan, and Brooklyn rides\n",
    "np.random.seed(101)\n",
    "sample_size = 500\n",
    "\n",
    "# Get a list of indexes to keep\n",
    "def new_indexes(df):\n",
    "    indexes = np.random.choice(arange(len(df)), sample_size, replace=True)\n",
    "    return indexes\n",
    "\n",
    "df_day_reduced = df_new.dropna(subset=['day_dur']).reset_index()\n",
    "day_indexes = new_indexes(df_day_reduced)\n",
    "df_day_reduced = df_day_reduced.ix[day_indexes]\n",
    "df_day_reduced = df_day_reduced.sort_values('day_dur')\n",
    "\n",
    "df_night_reduced = df_new.dropna(subset=['night_dur']).reset_index()\n",
    "night_indexes = new_indexes(df_night_reduced)\n",
    "df_night_reduced = df_night_reduced.ix[night_indexes]\n",
    "df_night_reduced = df_night_reduced.sort_values('night_dur')\n",
    "\n",
    "df_mnhtn_reduced = df_new.dropna(subset=['mnhtn']).reset_index()\n",
    "mnhtn_indexes = new_indexes(df_mnhtn_reduced)\n",
    "df_mnhtn_reduced = df_mnhtn_reduced.ix[mnhtn_indexes]\n",
    "df_mnhtn_reduced = df_mnhtn_reduced.sort_values('mnhtn')\n",
    "\n",
    "df_brkln_reduced = df_new.dropna(subset=['brkln']).reset_index()\n",
    "brkln_indexes = new_indexes(df_brkln_reduced)\n",
    "df_brkln_reduced = df_brkln_reduced.ix[brkln_indexes]\n",
    "df_brkln_reduced = df_brkln_reduced.sort_values('brkln')"
   ]
  },
  {
   "cell_type": "markdown",
   "metadata": {},
   "source": [
    "## Null hypotheses for Pearson's tests:\n",
    "\n",
    "### CitiBike ride duration by time of day:\n",
    "\n",
    "When we compare the samples of CitiBike rides that begin at night (between 8 pm and 3 am) with the sample of rides that begin during the day (between 5 am and 4 pm), we will find no **linear** correlation in the ride durations of the two samples.\n",
    "\n",
    "** $H_0: \\rho = 0$**\n",
    "\n",
    "** $H_a: \\rho \\neq 0$    **\n",
    "\n",
    "$\\rho$ is the correlation coefficient.\n",
    " \n",
    " ### CitiBike rider age by ride originating location:\n",
    " \n",
    "When we compare the samples of CitiBike rides that begin in Manhattan with those that begin in Brooklyn, we will find no **linear** correlation in rider age across the two samples.\n",
    "\n",
    "** $H_0: \\rho = 0$**\n",
    "\n",
    "** $H_a: \\rho \\neq 0$    **\n",
    "\n",
    "$\\rho$ is the correlation coefficient."
   ]
  },
  {
   "cell_type": "code",
   "execution_count": 24,
   "metadata": {},
   "outputs": [],
   "source": [
    "# Code to calculate Pearson's tests:\n",
    "def peartest(dfsamp1, dfsamp2):\n",
    "    stat = scipy.stats.pearsonr(dfsamp1, dfsamp2)\n",
    "    pear = stat[0]\n",
    "    pval = stat[1]\n",
    "    return pear, round(pval,3)    "
   ]
  },
  {
   "cell_type": "code",
   "execution_count": 25,
   "metadata": {},
   "outputs": [
    {
     "name": "stdout",
     "output_type": "stream",
     "text": [
      "Pearson's test for day vs night rides - correlation coefficient and p value: (0.98236800718567308, 0.0)\n",
      "Pearson's test for Manhattan vs Brooklyn rides - correlation coefficient and p value: (0.99140045898652429, 0.0)\n"
     ]
    }
   ],
   "source": [
    "print(\"Pearson's test for day vs night rides - correlation coefficient and p value: \" \\\n",
    "      + str(peartest(df_day_reduced.day_dur,df_night_reduced.night_dur)))\n",
    "print(\"Pearson's test for Manhattan vs Brooklyn rides - correlation coefficient \"\\\n",
    "      \"and p value: \" + str(peartest(df_mnhtn_reduced.mnhtn, df_brkln_reduced.brkln)))"
   ]
  },
  {
   "cell_type": "markdown",
   "metadata": {},
   "source": [
    "## Pearson's tests conclusion:\n",
    "\n",
    "The results of our Pearson's test tell us that the ride duration and rider age data we tested for trip time of day and origin are highly correlated and that we can be very confident in these results (due to such low p values). We are therefore rejecting the null.\n",
    "\n",
    "This makes sense, intuitively, because we have taken two columns of numerical data, sorted them, and then compared the two sets of data. As the numbers from one column increase, the numbers in the second column also increase. Therefore, there is a predictable positive correlation between the two. And in this case, that relationship is almost perfeclty linear."
   ]
  },
  {
   "cell_type": "markdown",
   "metadata": {},
   "source": [
    "## Null hypotheses for Spearman's tests:\n",
    "\n",
    "### CitiBike ride duration by time of day:\n",
    "\n",
    "When we compare the samples of CitiBike rides that begin at night (between 8 pm and 3 am) with the sample of rides that begin during the day (between 5 am and 4 pm), we will find no **monotonic** correlation in the ride durations of the two samples.\n",
    "\n",
    "** $H_0: \\rho = 0$**\n",
    "\n",
    "** $H_a: \\rho \\neq 0$    **\n",
    "\n",
    "$\\rho$ is the correlation coefficient.\n",
    " \n",
    " ### CitiBike rider age by ride originating location:\n",
    " \n",
    "When we compare the samples of CitiBike rides that begin in Manhattan with those that begin in Brooklyn, we will find no **monotonic** correlation in rider age across the two samples.\n",
    "\n",
    "** $H_0: \\rho = 0$**\n",
    "\n",
    "** $H_a: \\rho \\neq 0$    **\n",
    "\n",
    "$\\rho$ is the correlation coefficient."
   ]
  },
  {
   "cell_type": "code",
   "execution_count": 26,
   "metadata": {
    "ExecuteTime": {
     "end_time": "2017-10-05T17:05:09.530148",
     "start_time": "2017-10-05T17:05:09.525214"
    },
    "run_control": {
     "frozen": false,
     "read_only": false
    }
   },
   "outputs": [],
   "source": [
    "# Code to calculate Spearman's tests:\n",
    "def speartest(dfsamp1, dfsamp2):\n",
    "    stat = scipy.stats.spearmanr(dfsamp1, dfsamp2)\n",
    "    spear = stat[0]\n",
    "    pval = stat[1]\n",
    "    return spear, round(pval,3)    "
   ]
  },
  {
   "cell_type": "code",
   "execution_count": 27,
   "metadata": {},
   "outputs": [
    {
     "name": "stdout",
     "output_type": "stream",
     "text": [
      "Spearman's test for day vs night rides - correlation coefficient and p value: (0.99999529595748027, 0.0)\n",
      "Spearman's test for Manhattan vs Brooklyn rides - correlation coefficient and p value: (0.99893952004956355, 0.0)\n"
     ]
    }
   ],
   "source": [
    "print(\"Spearman's test for day vs night rides - correlation coefficient and p value: \" + str(speartest(df_day_reduced.day_dur\\\n",
    "                                                                ,df_night_reduced.night_dur)))\n",
    "print(\"Spearman's test for Manhattan vs Brooklyn rides - correlation coefficient and p value: \" + str(speartest \\\n",
    "                                                                (df_mnhtn_reduced.mnhtn, df_brkln_reduced.brkln)))"
   ]
  },
  {
   "cell_type": "markdown",
   "metadata": {
    "run_control": {
     "frozen": false,
     "read_only": false
    }
   },
   "source": [
    "## Spearman's tests conclusion:\n",
    "\n",
    "The results of our Spearman's test tell us that the ride duration and rider age data we tested for trip time of day and origin are highly correlated and that we can be very confident in these results (due to such low p values). We are therefore rejecting the null.\n",
    "\n",
    "Again, this makes intuitive sense because we have taken two columns of numerical data, sorted them, and then compared the two sets of data. As the numbers from one column increase, the numbers in the second column also increase. Therefore, there is a predictable positive correlation between the two. In this case, the relationship is even stronger than the Pearson's test, which makes sense because the Spearman's test has more flexibility and is better able to detect correlations that are not strictly linear (the Spearman's test can detect monotonic relationships)."
   ]
  },
  {
   "cell_type": "code",
   "execution_count": null,
   "metadata": {},
   "outputs": [],
   "source": []
  }
 ],
 "metadata": {
  "anaconda-cloud": {},
  "kernelspec": {
   "display_name": "PUI2016_Python3",
   "language": "python",
   "name": "pui2016_python3"
  },
  "language_info": {
   "codemirror_mode": {
    "name": "ipython",
    "version": 3
   },
   "file_extension": ".py",
   "mimetype": "text/x-python",
   "name": "python",
   "nbconvert_exporter": "python",
   "pygments_lexer": "ipython3",
   "version": "3.5.4"
  },
  "latex_envs": {
   "LaTeX_envs_menu_present": true,
   "bibliofile": "biblio.bib",
   "cite_by": "apalike",
   "current_citInitial": 1,
   "eqLabelWithNumbers": true,
   "eqNumInitial": 1,
   "hotkeys": {
    "equation": "Ctrl-E",
    "itemize": "Ctrl-I"
   },
   "labels_anchors": false,
   "latex_user_defs": false,
   "report_style_numbering": false,
   "user_envs_cfg": false
  },
  "toc": {
   "colors": {
    "hover_highlight": "#DAA520",
    "running_highlight": "#FF0000",
    "selected_highlight": "#FFD700"
   },
   "moveMenuLeft": true,
   "nav_menu": {
    "height": "135px",
    "width": "251px"
   },
   "navigate_menu": true,
   "number_sections": true,
   "sideBar": true,
   "threshold": 4,
   "toc_cell": false,
   "toc_section_display": "block",
   "toc_window_display": false
  }
 },
 "nbformat": 4,
 "nbformat_minor": 1
}
