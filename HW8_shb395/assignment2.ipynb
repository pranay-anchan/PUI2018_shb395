{
 "cells": [
  {
   "cell_type": "markdown",
   "metadata": {},
   "source": [
    "## Overall idea:\n",
    "\n",
    "Younger men ride CitiBikes more than older men."
   ]
  },
  {
   "cell_type": "markdown",
   "metadata": {},
   "source": [
    "### Null hypothesis ($H_0$):\n",
    "\n",
    "CitiBike rides taken by Millenial aged males during the months of July and August 2018 have longer durations than CitiBike rides taken by Generation X males during those same months. Although there is no universally agreed upon range of years that define Millenials and Generation X, for this analysis I will adopt the standards set by the Pew Research Center, which defines Millenials as individuals born between 1981 and 1996 and Generation X as individuals born between 1965 and 1980 (http://www.pewresearch.org/fact-tank/2018/03/01/defining-generations-where-millennials-end-and-post-millennials-begin/)."
   ]
  },
  {
   "cell_type": "markdown",
   "metadata": {},
   "source": [
    "### Alternative hypothesis ($H_a$):\n",
    "\n",
    "The duration of CitiBike rides taken by Millenial aged males in the months of July and August 2018 are the same as or shorter than CitiBike rides taken by Generation X males during those same months."
   ]
  },
  {
   "cell_type": "markdown",
   "metadata": {},
   "source": [
    "## Confidence level ($\\alpha$)\n",
    "\n",
    "The confidence level for this analysis will be .05 ($\\alpha$ = .05), which is the generally accepted standard confidence level for statistical analysis."
   ]
  },
  {
   "cell_type": "markdown",
   "metadata": {},
   "source": [
    "## Data wrangling"
   ]
  },
  {
   "cell_type": "code",
   "execution_count": 1,
   "metadata": {},
   "outputs": [],
   "source": [
    "# Get the environmental variable called PUIdata for this notebook\n",
    "import os\n",
    "\n",
    "os.environ[\"PUIdata\"] = \"{}/PUIdata\".format(os.getenv(\"HOME\"))"
   ]
  },
  {
   "cell_type": "code",
   "execution_count": 2,
   "metadata": {},
   "outputs": [
    {
     "name": "stdout",
     "output_type": "stream",
     "text": [
      "Populating the interactive namespace from numpy and matplotlib\n",
      "Must set env variable PUI2018\n"
     ]
    }
   ],
   "source": [
    "# Import libraries\n",
    "from __future__  import print_function, division\n",
    "import pylab as pl\n",
    "import pandas as pd\n",
    "import numpy as np\n",
    "import matplotlib.pyplot as plt\n",
    "import os\n",
    "from matplotlib.pyplot import hist\n",
    "import statsmodels.formula.api as smf\n",
    "from statsmodels.graphics.api import abline_plot\n",
    "import scipy\n",
    "\n",
    "%pylab inline\n",
    "\n",
    "if os.getenv('PUI2018') is None:\n",
    "    print (\"Must set env variable PUI2018\")\n",
    "if os.getenv('PUIdata') is None:\n",
    "    print (\"Must set env variable PUIdata\")"
   ]
  },
  {
   "cell_type": "code",
   "execution_count": 3,
   "metadata": {},
   "outputs": [
    {
     "name": "stdout",
     "output_type": "stream",
     "text": [
      "Already have the file\r\n"
     ]
    }
   ],
   "source": [
    "# Read the July 2018 data\n",
    "!if [ -f 201807-citibike-tripdata.csv.zip ]; then echo \"Already have the file\"; \\\n",
    "else curl -O https://s3.amazonaws.com/tripdata/201807-citibike-tripdata.csv.zip > 201807-citibike-tripdata.csv.zip; fi"
   ]
  },
  {
   "cell_type": "code",
   "execution_count": 4,
   "metadata": {},
   "outputs": [
    {
     "name": "stdout",
     "output_type": "stream",
     "text": [
      "Already moved the file\r\n"
     ]
    }
   ],
   "source": [
    "# Upack it into PUIdata\n",
    "!if [ -f $PUIdata/201807-citibike-tripdata.csv ]; then echo \"Already moved the file\";\\\n",
    "else unzip 201807-citibike-tripdata.csv.zip -d $PUIdata; fi"
   ]
  },
  {
   "cell_type": "code",
   "execution_count": 5,
   "metadata": {},
   "outputs": [
    {
     "name": "stdout",
     "output_type": "stream",
     "text": [
      "Already have the file\r\n"
     ]
    }
   ],
   "source": [
    "# Read the August 2018 data\n",
    "!if [ -f 201808-citibike-tripdata.csv.zip ]; then echo \"Already have the file\"; \\\n",
    "else curl -O https://s3.amazonaws.com/tripdata/201808-citibike-tripdata.csv.zip > 201808-citibike-tripdata.csv.zip; fi"
   ]
  },
  {
   "cell_type": "code",
   "execution_count": 6,
   "metadata": {},
   "outputs": [
    {
     "name": "stdout",
     "output_type": "stream",
     "text": [
      "Already moved the file\r\n"
     ]
    }
   ],
   "source": [
    "# Upack it into PUIdata\n",
    "!if [ -f $PUIdata/201808-citibike-tripdata.csv ]; then echo \"Already moved the file\";\\\n",
    "else unzip 201808-citibike-tripdata.csv.zip -d $PUIdata; fi"
   ]
  },
  {
   "cell_type": "code",
   "execution_count": 7,
   "metadata": {},
   "outputs": [
    {
     "name": "stdout",
     "output_type": "stream",
     "text": [
      "201807-citibike-tripdata.csv  acs16_final.csv  prac\t  rows.csv\r\n",
      "201808-citibike-tripdata.csv  manTrees.csv     puma\t  times.txt\r\n",
      "ACS_16\t\t\t      PLUTO_for_WEB    README.md  zipfile\r\n"
     ]
    }
   ],
   "source": [
    "# Make sure all the data has been loaded\n",
    "!ls $PUIdata"
   ]
  },
  {
   "cell_type": "code",
   "execution_count": 8,
   "metadata": {},
   "outputs": [],
   "source": [
    "# Read the July 2018 data into a dataframe \n",
    "jul = pd.read_csv(os.getenv(\"PUIdata\") + '/' + '201807-citibike-tripdata.csv')\n",
    "aug = pd.read_csv(os.getenv(\"PUIdata\") + '/' + '201808-citibike-tripdata.csv')"
   ]
  },
  {
   "cell_type": "code",
   "execution_count": 9,
   "metadata": {},
   "outputs": [],
   "source": [
    "# Concatenate the two months of data\n",
    "frames = [jul,aug]\n",
    "df = pd.concat(frames)"
   ]
  },
  {
   "cell_type": "code",
   "execution_count": 10,
   "metadata": {},
   "outputs": [
    {
     "data": {
      "text/html": [
       "<div>\n",
       "<table border=\"1\" class=\"dataframe\">\n",
       "  <thead>\n",
       "    <tr style=\"text-align: right;\">\n",
       "      <th></th>\n",
       "      <th>tripduration</th>\n",
       "      <th>starttime</th>\n",
       "      <th>stoptime</th>\n",
       "      <th>start station id</th>\n",
       "      <th>start station name</th>\n",
       "      <th>start station latitude</th>\n",
       "      <th>start station longitude</th>\n",
       "      <th>end station id</th>\n",
       "      <th>end station name</th>\n",
       "      <th>end station latitude</th>\n",
       "      <th>end station longitude</th>\n",
       "      <th>bikeid</th>\n",
       "      <th>usertype</th>\n",
       "      <th>birth year</th>\n",
       "      <th>gender</th>\n",
       "    </tr>\n",
       "  </thead>\n",
       "  <tbody>\n",
       "    <tr>\n",
       "      <th>0</th>\n",
       "      <td>500</td>\n",
       "      <td>2018-07-01 00:33:51.2640</td>\n",
       "      <td>2018-07-01 00:42:12.0280</td>\n",
       "      <td>72.0</td>\n",
       "      <td>W 52 St &amp; 11 Ave</td>\n",
       "      <td>40.767272</td>\n",
       "      <td>-73.993929</td>\n",
       "      <td>3236.0</td>\n",
       "      <td>W 42 St &amp; Dyer Ave</td>\n",
       "      <td>40.758985</td>\n",
       "      <td>-73.993800</td>\n",
       "      <td>16583</td>\n",
       "      <td>Subscriber</td>\n",
       "      <td>1981</td>\n",
       "      <td>1</td>\n",
       "    </tr>\n",
       "    <tr>\n",
       "      <th>1</th>\n",
       "      <td>455</td>\n",
       "      <td>2018-07-01 02:06:54.0270</td>\n",
       "      <td>2018-07-01 02:14:29.0900</td>\n",
       "      <td>72.0</td>\n",
       "      <td>W 52 St &amp; 11 Ave</td>\n",
       "      <td>40.767272</td>\n",
       "      <td>-73.993929</td>\n",
       "      <td>529.0</td>\n",
       "      <td>W 42 St &amp; 8 Ave</td>\n",
       "      <td>40.757570</td>\n",
       "      <td>-73.990985</td>\n",
       "      <td>31481</td>\n",
       "      <td>Subscriber</td>\n",
       "      <td>1988</td>\n",
       "      <td>1</td>\n",
       "    </tr>\n",
       "    <tr>\n",
       "      <th>2</th>\n",
       "      <td>1080</td>\n",
       "      <td>2018-07-01 02:09:16.4640</td>\n",
       "      <td>2018-07-01 02:27:17.0290</td>\n",
       "      <td>72.0</td>\n",
       "      <td>W 52 St &amp; 11 Ave</td>\n",
       "      <td>40.767272</td>\n",
       "      <td>-73.993929</td>\n",
       "      <td>453.0</td>\n",
       "      <td>W 22 St &amp; 8 Ave</td>\n",
       "      <td>40.744751</td>\n",
       "      <td>-73.999154</td>\n",
       "      <td>25004</td>\n",
       "      <td>Subscriber</td>\n",
       "      <td>1982</td>\n",
       "      <td>2</td>\n",
       "    </tr>\n",
       "    <tr>\n",
       "      <th>3</th>\n",
       "      <td>632</td>\n",
       "      <td>2018-07-01 02:55:04.5870</td>\n",
       "      <td>2018-07-01 03:05:36.7910</td>\n",
       "      <td>72.0</td>\n",
       "      <td>W 52 St &amp; 11 Ave</td>\n",
       "      <td>40.767272</td>\n",
       "      <td>-73.993929</td>\n",
       "      <td>465.0</td>\n",
       "      <td>Broadway &amp; W 41 St</td>\n",
       "      <td>40.755136</td>\n",
       "      <td>-73.986580</td>\n",
       "      <td>25867</td>\n",
       "      <td>Subscriber</td>\n",
       "      <td>1986</td>\n",
       "      <td>1</td>\n",
       "    </tr>\n",
       "    <tr>\n",
       "      <th>4</th>\n",
       "      <td>1676</td>\n",
       "      <td>2018-07-01 03:24:27.4350</td>\n",
       "      <td>2018-07-01 03:52:23.7760</td>\n",
       "      <td>72.0</td>\n",
       "      <td>W 52 St &amp; 11 Ave</td>\n",
       "      <td>40.767272</td>\n",
       "      <td>-73.993929</td>\n",
       "      <td>3425.0</td>\n",
       "      <td>2 Ave &amp; E 104 St</td>\n",
       "      <td>40.789210</td>\n",
       "      <td>-73.943708</td>\n",
       "      <td>31351</td>\n",
       "      <td>Subscriber</td>\n",
       "      <td>1992</td>\n",
       "      <td>1</td>\n",
       "    </tr>\n",
       "  </tbody>\n",
       "</table>\n",
       "</div>"
      ],
      "text/plain": [
       "   tripduration                 starttime                  stoptime  \\\n",
       "0           500  2018-07-01 00:33:51.2640  2018-07-01 00:42:12.0280   \n",
       "1           455  2018-07-01 02:06:54.0270  2018-07-01 02:14:29.0900   \n",
       "2          1080  2018-07-01 02:09:16.4640  2018-07-01 02:27:17.0290   \n",
       "3           632  2018-07-01 02:55:04.5870  2018-07-01 03:05:36.7910   \n",
       "4          1676  2018-07-01 03:24:27.4350  2018-07-01 03:52:23.7760   \n",
       "\n",
       "   start station id start station name  start station latitude  \\\n",
       "0              72.0   W 52 St & 11 Ave               40.767272   \n",
       "1              72.0   W 52 St & 11 Ave               40.767272   \n",
       "2              72.0   W 52 St & 11 Ave               40.767272   \n",
       "3              72.0   W 52 St & 11 Ave               40.767272   \n",
       "4              72.0   W 52 St & 11 Ave               40.767272   \n",
       "\n",
       "   start station longitude  end station id    end station name  \\\n",
       "0               -73.993929          3236.0  W 42 St & Dyer Ave   \n",
       "1               -73.993929           529.0     W 42 St & 8 Ave   \n",
       "2               -73.993929           453.0     W 22 St & 8 Ave   \n",
       "3               -73.993929           465.0  Broadway & W 41 St   \n",
       "4               -73.993929          3425.0    2 Ave & E 104 St   \n",
       "\n",
       "   end station latitude  end station longitude  bikeid    usertype  \\\n",
       "0             40.758985             -73.993800   16583  Subscriber   \n",
       "1             40.757570             -73.990985   31481  Subscriber   \n",
       "2             40.744751             -73.999154   25004  Subscriber   \n",
       "3             40.755136             -73.986580   25867  Subscriber   \n",
       "4             40.789210             -73.943708   31351  Subscriber   \n",
       "\n",
       "   birth year  gender  \n",
       "0        1981       1  \n",
       "1        1988       1  \n",
       "2        1982       2  \n",
       "3        1986       1  \n",
       "4        1992       1  "
      ]
     },
     "execution_count": 10,
     "metadata": {},
     "output_type": "execute_result"
    }
   ],
   "source": [
    "# Data preview\n",
    "df.head(5)"
   ]
  },
  {
   "cell_type": "code",
   "execution_count": 11,
   "metadata": {},
   "outputs": [],
   "source": [
    "# Narrow the data to Millenial and Generation X aged male riders\n",
    "df = df[df['gender'] == 1]\n",
    "df = df[(df['birth year'] >= 1965) & (df['birth year'] <= 1996)]"
   ]
  },
  {
   "cell_type": "code",
   "execution_count": 12,
   "metadata": {},
   "outputs": [
    {
     "data": {
      "text/html": [
       "<div>\n",
       "<table border=\"1\" class=\"dataframe\">\n",
       "  <thead>\n",
       "    <tr style=\"text-align: right;\">\n",
       "      <th></th>\n",
       "      <th>birth year</th>\n",
       "      <th>tripduration</th>\n",
       "    </tr>\n",
       "  </thead>\n",
       "  <tbody>\n",
       "    <tr>\n",
       "      <th>0</th>\n",
       "      <td>1981</td>\n",
       "      <td>500</td>\n",
       "    </tr>\n",
       "    <tr>\n",
       "      <th>1</th>\n",
       "      <td>1988</td>\n",
       "      <td>455</td>\n",
       "    </tr>\n",
       "    <tr>\n",
       "      <th>3</th>\n",
       "      <td>1986</td>\n",
       "      <td>632</td>\n",
       "    </tr>\n",
       "    <tr>\n",
       "      <th>4</th>\n",
       "      <td>1992</td>\n",
       "      <td>1676</td>\n",
       "    </tr>\n",
       "    <tr>\n",
       "      <th>8</th>\n",
       "      <td>1974</td>\n",
       "      <td>1248</td>\n",
       "    </tr>\n",
       "  </tbody>\n",
       "</table>\n",
       "</div>"
      ],
      "text/plain": [
       "   birth year  tripduration\n",
       "0        1981           500\n",
       "1        1988           455\n",
       "3        1986           632\n",
       "4        1992          1676\n",
       "8        1974          1248"
      ]
     },
     "execution_count": 12,
     "metadata": {},
     "output_type": "execute_result"
    }
   ],
   "source": [
    "# Keep only the birth year and gender columns\n",
    "df = df[['birth year','tripduration']]\n",
    "df.head(5)"
   ]
  },
  {
   "cell_type": "code",
   "execution_count": 41,
   "metadata": {},
   "outputs": [
    {
     "data": {
      "text/plain": [
       "(2156178, 2)"
      ]
     },
     "execution_count": 41,
     "metadata": {},
     "output_type": "execute_result"
    }
   ],
   "source": [
    "df.shape"
   ]
  },
  {
   "cell_type": "code",
   "execution_count": 13,
   "metadata": {},
   "outputs": [],
   "source": [
    "# Rename the columns for ease of use\n",
    "df.columns = ['birth_year','trip_duration']"
   ]
  },
  {
   "cell_type": "markdown",
   "metadata": {},
   "source": [
    "## Final dataframe"
   ]
  },
  {
   "cell_type": "code",
   "execution_count": 42,
   "metadata": {},
   "outputs": [
    {
     "data": {
      "text/html": [
       "<div>\n",
       "<table border=\"1\" class=\"dataframe\">\n",
       "  <thead>\n",
       "    <tr style=\"text-align: right;\">\n",
       "      <th></th>\n",
       "      <th>birth_year</th>\n",
       "      <th>trip_duration</th>\n",
       "    </tr>\n",
       "  </thead>\n",
       "  <tbody>\n",
       "    <tr>\n",
       "      <th>0</th>\n",
       "      <td>1981</td>\n",
       "      <td>500</td>\n",
       "    </tr>\n",
       "    <tr>\n",
       "      <th>1</th>\n",
       "      <td>1988</td>\n",
       "      <td>455</td>\n",
       "    </tr>\n",
       "    <tr>\n",
       "      <th>3</th>\n",
       "      <td>1986</td>\n",
       "      <td>632</td>\n",
       "    </tr>\n",
       "    <tr>\n",
       "      <th>4</th>\n",
       "      <td>1992</td>\n",
       "      <td>1676</td>\n",
       "    </tr>\n",
       "    <tr>\n",
       "      <th>8</th>\n",
       "      <td>1974</td>\n",
       "      <td>1248</td>\n",
       "    </tr>\n",
       "  </tbody>\n",
       "</table>\n",
       "</div>"
      ],
      "text/plain": [
       "   birth_year  trip_duration\n",
       "0        1981            500\n",
       "1        1988            455\n",
       "3        1986            632\n",
       "4        1992           1676\n",
       "8        1974           1248"
      ]
     },
     "execution_count": 42,
     "metadata": {},
     "output_type": "execute_result"
    }
   ],
   "source": [
    "df.head(5)"
   ]
  },
  {
   "cell_type": "markdown",
   "metadata": {},
   "source": [
    "## Plotting"
   ]
  },
  {
   "cell_type": "code",
   "execution_count": 15,
   "metadata": {},
   "outputs": [
    {
     "data": {
      "text/plain": [
       "Text(0.5,0,'Birth Year')"
      ]
     },
     "execution_count": 15,
     "metadata": {},
     "output_type": "execute_result"
    },
    {
     "data": {
      "image/png": "[encoded data removed]",
      "text/plain": [
       "<matplotlib.figure.Figure at 0x7f97b0bdbc18>"
      ]
     },
     "metadata": {},
     "output_type": "display_data"
    }
   ],
   "source": [
    "# Create a scatter plot of the data\n",
    "fig = plt.figure(figsize=(15,10))\n",
    "ax = plt.gca()\n",
    "ax.plot(df.birth_year, df.trip_duration, 'o', c='blue', markersize=.5)\n",
    "ax.set_yscale('log')\n",
    "ax.set_title('Duration of Ride as a Function of Rider Age', fontsize = 25)\n",
    "ax.set_ylabel('Duration of ride in seconds (on a log scale)', fontsize = 20)\n",
    "ax.set_xlabel('Birth Year', fontsize = 20)"
   ]
  },
  {
   "cell_type": "markdown",
   "metadata": {},
   "source": [
    "## Notes on the above plot\n",
    "\n",
    "The plot above of shows the duration of each ride (in seconds) taken by Millenial and Generation X male CitiBike riders in the months of July and August 2018. \n",
    "\n",
    "Note that the y axis (trip duration) is plotted on a logarithmic scale in order to make the plot more readable. Without a logarithmic scale, the plot is skewed due to a select number of rides with durations in the hundreds of thousands or even millions (see the sample of the dataframe sorted by trip duration). These trips were either recorded in error (a trip lasting millions of seconds is equivalent to dozens of days) or were not actually rides but were cases where a bike was taken out and then not returned to a dock for other reasons (it may have been taken out of circulation for repair work or could have been stolen). These data points may need to be removed to conduct a more accurate analysis."
   ]
  },
  {
   "cell_type": "markdown",
   "metadata": {},
   "source": [
    "## Refining the analysis\n",
    "\n",
    "After reviewing the above plot, one of my peers pointed out that the plot does not clearly display any trends that may or may not exist between rider age and trip duration. In order to make the analysis more clear, my colleague suggested that I calculate the average ride duration for each birth year:"
   ]
  },
  {
   "cell_type": "code",
   "execution_count": 34,
   "metadata": {},
   "outputs": [],
   "source": [
    "# Calculate average ride duration per birth year\n",
    "avgride = df.groupby('birth_year')['trip_duration'].agg(np.mean).reset_index(name='trip_duration')"
   ]
  },
  {
   "cell_type": "code",
   "execution_count": 17,
   "metadata": {},
   "outputs": [
    {
     "data": {
      "text/html": [
       "<div>\n",
       "<table border=\"1\" class=\"dataframe\">\n",
       "  <thead>\n",
       "    <tr style=\"text-align: right;\">\n",
       "      <th></th>\n",
       "      <th>birth_year</th>\n",
       "      <th>trip_duration</th>\n",
       "    </tr>\n",
       "  </thead>\n",
       "  <tbody>\n",
       "    <tr>\n",
       "      <th>0</th>\n",
       "      <td>1965</td>\n",
       "      <td>794.952711</td>\n",
       "    </tr>\n",
       "    <tr>\n",
       "      <th>1</th>\n",
       "      <td>1966</td>\n",
       "      <td>847.231066</td>\n",
       "    </tr>\n",
       "    <tr>\n",
       "      <th>2</th>\n",
       "      <td>1967</td>\n",
       "      <td>867.866314</td>\n",
       "    </tr>\n",
       "    <tr>\n",
       "      <th>3</th>\n",
       "      <td>1968</td>\n",
       "      <td>800.016066</td>\n",
       "    </tr>\n",
       "    <tr>\n",
       "      <th>4</th>\n",
       "      <td>1969</td>\n",
       "      <td>821.547101</td>\n",
       "    </tr>\n",
       "  </tbody>\n",
       "</table>\n",
       "</div>"
      ],
      "text/plain": [
       "   birth_year  trip_duration\n",
       "0        1965     794.952711\n",
       "1        1966     847.231066\n",
       "2        1967     867.866314\n",
       "3        1968     800.016066\n",
       "4        1969     821.547101"
      ]
     },
     "execution_count": 17,
     "metadata": {},
     "output_type": "execute_result"
    }
   ],
   "source": [
    "avgride.head(5)"
   ]
  },
  {
   "cell_type": "code",
   "execution_count": 18,
   "metadata": {},
   "outputs": [
    {
     "data": {
      "text/plain": [
       "Text(0.5,0,'Birth Year')"
      ]
     },
     "execution_count": 18,
     "metadata": {},
     "output_type": "execute_result"
    },
    {
     "data": {
      "image/png": "[encoded data removed]",
      "text/plain": [
       "<matplotlib.figure.Figure at 0x7f97adab2f98>"
      ]
     },
     "metadata": {},
     "output_type": "display_data"
    }
   ],
   "source": [
    "# Create a scatter plot of the data\n",
    "fig = plt.figure(figsize=(15,10))\n",
    "ax = plt.gca()\n",
    "ax.plot(avgride.birth_year, avgride.trip_duration, 'o', c='blue')\n",
    "ax.set_title('Average Ride Duration by Rider Age', fontsize = 25)\n",
    "ax.set_ylabel('Duration of ride in seconds', fontsize = 20)\n",
    "ax.set_xlabel('Birth Year', fontsize = 20)"
   ]
  },
  {
   "cell_type": "markdown",
   "metadata": {},
   "source": [
    "## Notes on the above plot\n",
    "\n",
    "The plot above more clearly displays the relationship between rider birth year and ride duration. Here we can intuitively see a positive trend in average ride duration as the birth year increases (i.e. younger male CitiBike riders ride for longer, on average, than older riders)."
   ]
  },
  {
   "cell_type": "markdown",
   "metadata": {},
   "source": [
    "## Statistical tests\n",
    "\n",
    "Below, I prepare the data for Pearson's and Spearman's tests."
   ]
  },
  {
   "cell_type": "code",
   "execution_count": 19,
   "metadata": {},
   "outputs": [],
   "source": [
    "# Normalized data for Pearson's and Spearman's tests\n",
    "df_ages_sort = avgride.sort_values('birth_year')\n",
    "df_duration_sort = avgride.sort_values('trip_duration')"
   ]
  },
  {
   "cell_type": "code",
   "execution_count": 28,
   "metadata": {},
   "outputs": [
    {
     "data": {
      "text/plain": [
       "(32, 2)"
      ]
     },
     "execution_count": 28,
     "metadata": {},
     "output_type": "execute_result"
    }
   ],
   "source": [
    "df_ages_sort.shape"
   ]
  },
  {
   "cell_type": "code",
   "execution_count": 29,
   "metadata": {},
   "outputs": [
    {
     "data": {
      "text/plain": [
       "(32, 2)"
      ]
     },
     "execution_count": 29,
     "metadata": {},
     "output_type": "execute_result"
    }
   ],
   "source": [
    "df_duration_sort.shape"
   ]
  },
  {
   "cell_type": "code",
   "execution_count": 30,
   "metadata": {},
   "outputs": [
    {
     "data": {
      "text/html": [
       "<div>\n",
       "<table border=\"1\" class=\"dataframe\">\n",
       "  <thead>\n",
       "    <tr style=\"text-align: right;\">\n",
       "      <th></th>\n",
       "      <th>birth_year</th>\n",
       "      <th>trip_duration</th>\n",
       "    </tr>\n",
       "  </thead>\n",
       "  <tbody>\n",
       "    <tr>\n",
       "      <th>0</th>\n",
       "      <td>1965</td>\n",
       "      <td>794.952711</td>\n",
       "    </tr>\n",
       "    <tr>\n",
       "      <th>1</th>\n",
       "      <td>1966</td>\n",
       "      <td>847.231066</td>\n",
       "    </tr>\n",
       "    <tr>\n",
       "      <th>2</th>\n",
       "      <td>1967</td>\n",
       "      <td>867.866314</td>\n",
       "    </tr>\n",
       "    <tr>\n",
       "      <th>3</th>\n",
       "      <td>1968</td>\n",
       "      <td>800.016066</td>\n",
       "    </tr>\n",
       "    <tr>\n",
       "      <th>4</th>\n",
       "      <td>1969</td>\n",
       "      <td>821.547101</td>\n",
       "    </tr>\n",
       "  </tbody>\n",
       "</table>\n",
       "</div>"
      ],
      "text/plain": [
       "   birth_year  trip_duration\n",
       "0        1965     794.952711\n",
       "1        1966     847.231066\n",
       "2        1967     867.866314\n",
       "3        1968     800.016066\n",
       "4        1969     821.547101"
      ]
     },
     "execution_count": 30,
     "metadata": {},
     "output_type": "execute_result"
    }
   ],
   "source": [
    "df_ages_sort.head(5)"
   ]
  },
  {
   "cell_type": "code",
   "execution_count": 31,
   "metadata": {},
   "outputs": [
    {
     "data": {
      "text/html": [
       "<div>\n",
       "<table border=\"1\" class=\"dataframe\">\n",
       "  <thead>\n",
       "    <tr style=\"text-align: right;\">\n",
       "      <th></th>\n",
       "      <th>birth_year</th>\n",
       "      <th>trip_duration</th>\n",
       "    </tr>\n",
       "  </thead>\n",
       "  <tbody>\n",
       "    <tr>\n",
       "      <th>16</th>\n",
       "      <td>1981</td>\n",
       "      <td>786.922463</td>\n",
       "    </tr>\n",
       "    <tr>\n",
       "      <th>6</th>\n",
       "      <td>1971</td>\n",
       "      <td>794.080791</td>\n",
       "    </tr>\n",
       "    <tr>\n",
       "      <th>0</th>\n",
       "      <td>1965</td>\n",
       "      <td>794.952711</td>\n",
       "    </tr>\n",
       "    <tr>\n",
       "      <th>5</th>\n",
       "      <td>1970</td>\n",
       "      <td>796.569522</td>\n",
       "    </tr>\n",
       "    <tr>\n",
       "      <th>19</th>\n",
       "      <td>1984</td>\n",
       "      <td>796.745187</td>\n",
       "    </tr>\n",
       "  </tbody>\n",
       "</table>\n",
       "</div>"
      ],
      "text/plain": [
       "    birth_year  trip_duration\n",
       "16        1981     786.922463\n",
       "6         1971     794.080791\n",
       "0         1965     794.952711\n",
       "5         1970     796.569522\n",
       "19        1984     796.745187"
      ]
     },
     "execution_count": 31,
     "metadata": {},
     "output_type": "execute_result"
    }
   ],
   "source": [
    "df_duration_sort.head(5)"
   ]
  },
  {
   "cell_type": "code",
   "execution_count": 25,
   "metadata": {},
   "outputs": [],
   "source": [
    "# To run a Pearson's test\n",
    "def peartest(dfsamp1, dfsamp2):\n",
    "    stat = scipy.stats.pearsonr(dfsamp1, dfsamp2)\n",
    "    pear = stat[0]\n",
    "    pval = stat[1]\n",
    "    return pear, pval"
   ]
  },
  {
   "cell_type": "code",
   "execution_count": 26,
   "metadata": {},
   "outputs": [],
   "source": [
    "# To run a Spearman's test\n",
    "def speartest(dfsamp1, dfsamp2):\n",
    "    stat = scipy.stats.spearmanr(dfsamp1, dfsamp2)\n",
    "    spear = stat[0]\n",
    "    pval = stat[1]\n",
    "    return spear, pval    "
   ]
  },
  {
   "cell_type": "code",
   "execution_count": 27,
   "metadata": {},
   "outputs": [
    {
     "name": "stdout",
     "output_type": "stream",
     "text": [
      "Pearson's test for rider age v duration - correlation coefficient and p value: (0.82091275175984324, 8.6980211232492458e-09)\n",
      "\n",
      "Spearman's test for rider age v duration - correlation coefficient and p value: (1.0, 0.0)\n"
     ]
    }
   ],
   "source": [
    "print(\"Pearson's test for rider age v duration - correlation coefficient and p value: \" \\\n",
    "      + str(peartest(df_ages_sort.birth_year,df_duration_sort.trip_duration)))\n",
    "\n",
    "print(\"\")\n",
    "\n",
    "print(\"Spearman's test for rider age v duration - correlation coefficient and p value: \" \\\n",
    "      + str(speartest(df_ages_sort.birth_year,df_duration_sort.trip_duration)))"
   ]
  },
  {
   "cell_type": "markdown",
   "metadata": {},
   "source": [
    "## Results of tests and room for improvement\n",
    "\n",
    "Although the results of the Pearson's and Spearman's tests do confirm my initial theory that younger CitiBike riders tend to ride for longer, the results of the two tests cannot be taken at face value. Although the ride duration averages were calculated based on over 2 million individual CitiBike rides, each test was ultimately performed on only 32 data points. The results therefore are less powerful.\n",
    "\n",
    "One way to strengthen the analysis would be to incorporate more data both into the initial ride duration averaging and the final analysis of average rides by rider birth year. In the following cells, I create a second dataframe that includes rides from CitiBike riders of all genders and ages. I then calculate the average ride duration for each birth year and perform Pearson's and Spearman's statistical tests."
   ]
  },
  {
   "cell_type": "code",
   "execution_count": 32,
   "metadata": {},
   "outputs": [],
   "source": [
    "# Create alternate dataframe with no filtering for gender or birth year\n",
    "otherdf = pd.concat(frames)"
   ]
  },
  {
   "cell_type": "code",
   "execution_count": 35,
   "metadata": {},
   "outputs": [],
   "source": [
    "otherdf = otherdf[['birth year','tripduration']]\n",
    "otherdf.columns = ['birth_year','trip_duration']"
   ]
  },
  {
   "cell_type": "code",
   "execution_count": 36,
   "metadata": {},
   "outputs": [],
   "source": [
    "# Get averages\n",
    "otheravgride = otherdf.groupby('birth_year')['trip_duration'].agg(np.mean).reset_index(name='trip_duration')"
   ]
  },
  {
   "cell_type": "code",
   "execution_count": 37,
   "metadata": {},
   "outputs": [
    {
     "data": {
      "text/plain": [
       "Text(0.5,0,'Birth Year')"
      ]
     },
     "execution_count": 37,
     "metadata": {},
     "output_type": "execute_result"
    },
    {
     "data": {
      "image/png": "[encoded data removed]",
      "text/plain": [
       "<matplotlib.figure.Figure at 0x7f97ad79f978>"
      ]
     },
     "metadata": {},
     "output_type": "display_data"
    }
   ],
   "source": [
    "# Create a scatter plot of the data\n",
    "fig = plt.figure(figsize=(15,10))\n",
    "ax = plt.gca()\n",
    "ax.plot(otheravgride.birth_year, otheravgride.trip_duration, 'o', c='blue')\n",
    "ax.set_title('Average Ride Duration by Rider Age', fontsize = 25)\n",
    "ax.set_ylabel('Duration of ride in seconds', fontsize = 20)\n",
    "ax.set_xlabel('Birth Year', fontsize = 20)"
   ]
  },
  {
   "cell_type": "markdown",
   "metadata": {},
   "source": [
    "## Notes on the above plot:\n",
    "\n",
    "Like the previous plot, we see a positive trend in average ride duration as birth year increases. But we'll want to run tests on the data to confirm whether or not this correlation actually exists and whether or not it is statistically significant."
   ]
  },
  {
   "cell_type": "code",
   "execution_count": 38,
   "metadata": {},
   "outputs": [],
   "source": [
    "otherdf_ages_sort = otheravgride.sort_values('birth_year')\n",
    "otherdf_duration_sort = otheravgride.sort_values('trip_duration')"
   ]
  },
  {
   "cell_type": "code",
   "execution_count": 40,
   "metadata": {},
   "outputs": [
    {
     "name": "stdout",
     "output_type": "stream",
     "text": [
      "Pearson's test for rider age v duration - correlation coefficient and p value: (0.69077292590433514, 2.5323780406206721e-16)\n",
      "\n",
      "Spearman's test for rider age v duration - correlation coefficient and p value: (1.0, 0.0)\n"
     ]
    }
   ],
   "source": [
    "print(\"Pearson's test for rider age v duration - correlation coefficient and p value: \" \\\n",
    "      + str(peartest(otherdf_ages_sort.birth_year,otherdf_duration_sort.trip_duration)))\n",
    "\n",
    "print(\"\")\n",
    "\n",
    "print(\"Spearman's test for rider age v duration - correlation coefficient and p value: \" \\\n",
    "      + str(speartest(otherdf_ages_sort.birth_year,otherdf_duration_sort.trip_duration)))"
   ]
  },
  {
   "cell_type": "markdown",
   "metadata": {},
   "source": [
    "## Conclusion\n",
    "\n",
    "With more data, we see the correlation coefficient for the Pearson's test decrease and the p-value increase past my CI threshold of .05. Still, the Spearman's test produces a perfect correlation coefficient of 1 with a p-value of 0. The results of the tests for the larger data sets do not necessarily undermine the results of the previous tests with the data for male riders born between 1965 and 1996. But they do suggest that the correlational relationship between birth year and average ride duration isn't quite as cut and dry as one might think upon first glance. An additional analysis could further explore the limitations of Pearson's and Spearman's tests in this context."
   ]
  },
  {
   "cell_type": "code",
   "execution_count": null,
   "metadata": {},
   "outputs": [],
   "source": []
  }
 ],
 "metadata": {
  "kernelspec": {
   "display_name": "PUI2016_Python3",
   "language": "python",
   "name": "pui2016_python3"
  },
  "language_info": {
   "codemirror_mode": {
    "name": "ipython",
    "version": 3
   },
   "file_extension": ".py",
   "mimetype": "text/x-python",
   "name": "python",
   "nbconvert_exporter": "python",
   "pygments_lexer": "ipython3",
   "version": "3.5.4"
  }
 },
 "nbformat": 4,
 "nbformat_minor": 2
}
