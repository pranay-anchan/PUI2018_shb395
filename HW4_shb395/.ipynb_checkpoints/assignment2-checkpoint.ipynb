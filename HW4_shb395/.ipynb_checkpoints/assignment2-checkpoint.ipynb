{
 "cells": [
  {
   "cell_type": "markdown",
   "metadata": {},
   "source": [
    "## Overall idea:\n",
    "\n",
    "Younger men ride CitiBikes more than older men."
   ]
  },
  {
   "cell_type": "markdown",
   "metadata": {},
   "source": [
    "### Null hypothesis ($H_0$):\n",
    "\n",
    "CitiBike rides taken by Millenial aged males during the months of July and August 2018 have longer durations than CitiBike rides taken by Generation X males during those same months. Although there is no universally agreed upon range of years that define Millenials and Generation X, for this analysis I will adopt the standards set by the Pew Research Center, which defines Millenials as individuals born between 1981 and 1996 and Generation X as individuals born between 1965 and 1980 (http://www.pewresearch.org/fact-tank/2018/03/01/defining-generations-where-millennials-end-and-post-millennials-begin/)."
   ]
  },
  {
   "cell_type": "markdown",
   "metadata": {},
   "source": [
    "### Alternative hypothesis ($H_a$):\n",
    "\n",
    "The duration of CitiBike rides taken by Millenial aged males in the months of July and August 2018 are the same as or shorter than CitiBike rides taken by Generation X males during those same months."
   ]
  },
  {
   "cell_type": "markdown",
   "metadata": {},
   "source": [
    "## Confidence level ($\\alpha$)\n",
    "\n",
    "The confidence level for this analysis will be .05 ($\\alpha$ = .05), which is the generally accepted standard confidence level for statistical analysis."
   ]
  },
  {
   "cell_type": "code",
   "execution_count": 1,
   "metadata": {},
   "outputs": [],
   "source": [
    "# Get the environmental variable called PUIdata for this notebook\n",
    "import os\n",
    "\n",
    "os.environ[\"PUIdata\"] = \"{}/PUIdata\".format(os.getenv(\"HOME\"))"
   ]
  },
  {
   "cell_type": "code",
   "execution_count": 2,
   "metadata": {},
   "outputs": [
    {
     "name": "stdout",
     "output_type": "stream",
     "text": [
      "Populating the interactive namespace from numpy and matplotlib\n",
      "Must set env variable PUI2018\n"
     ]
    }
   ],
   "source": [
    "# Import libraries\n",
    "from __future__  import print_function, division\n",
    "import pylab as pl\n",
    "import pandas as pd\n",
    "import numpy as np\n",
    "import matplotlib.pyplot as plt\n",
    "import os\n",
    "from matplotlib.pyplot import hist\n",
    "\n",
    "%pylab inline\n",
    "\n",
    "if os.getenv('PUI2018') is None:\n",
    "    print (\"Must set env variable PUI2018\")\n",
    "if os.getenv('PUIdata') is None:\n",
    "    print (\"Must set env variable PUIdata\")"
   ]
  },
  {
   "cell_type": "code",
   "execution_count": 3,
   "metadata": {},
   "outputs": [
    {
     "name": "stdout",
     "output_type": "stream",
     "text": [
      "  % Total    % Received % Xferd  Average Speed   Time    Time     Time  Current\n",
      "                                 Dload  Upload   Total   Spent    Left  Speed\n",
      "100 60.2M  100 60.2M    0     0  51.6M      0  0:00:01  0:00:01 --:--:-- 51.6M\n",
      "Archive:  201807-citibike-tripdata.csv.zip\n",
      "  inflating: /nfshome/shb395/PUIdata/201807-citibike-tripdata.csv  \n"
     ]
    }
   ],
   "source": [
    "# Read the July 2018 data\n",
    "!curl -O https://s3.amazonaws.com/tripdata/201807-citibike-tripdata.csv.zip > 201807-citibike-tripdata.csv.zip\n",
    "# Upack it into PUIdata\n",
    "!unzip 201807-citibike-tripdata.csv.zip -d $PUIdata"
   ]
  },
  {
   "cell_type": "code",
   "execution_count": 4,
   "metadata": {},
   "outputs": [
    {
     "name": "stdout",
     "output_type": "stream",
     "text": [
      "  % Total    % Received % Xferd  Average Speed   Time    Time     Time  Current\n",
      "                                 Dload  Upload   Total   Spent    Left  Speed\n",
      "100 80.4M  100 80.4M    0     0  59.3M      0  0:00:01  0:00:01 --:--:-- 59.4M\n",
      "Archive:  201808-citibike-tripdata.csv.zip\n",
      "  inflating: /nfshome/shb395/PUIdata/201808-citibike-tripdata.csv  \n"
     ]
    }
   ],
   "source": [
    "# Read the August 2018 data\n",
    "!curl -O https://s3.amazonaws.com/tripdata/201808-citibike-tripdata.csv.zip > 201808-citibike-tripdata.csv.zip\n",
    "# Upack it into PUIdata\n",
    "!unzip 201808-citibike-tripdata.csv.zip -d $PUIdata"
   ]
  },
  {
   "cell_type": "code",
   "execution_count": 5,
   "metadata": {},
   "outputs": [
    {
     "name": "stdout",
     "output_type": "stream",
     "text": [
      "201807-citibike-tripdata.csv  README.md\r\n",
      "201808-citibike-tripdata.csv  times.txt\r\n"
     ]
    }
   ],
   "source": [
    "# Make sure all the data has been loaded\n",
    "!ls $PUIdata"
   ]
  },
  {
   "cell_type": "code",
   "execution_count": 6,
   "metadata": {},
   "outputs": [],
   "source": [
    "# Read the July 2018 data into a dataframe \n",
    "jul = pd.read_csv(os.getenv(\"PUIdata\") + '/' + '201807-citibike-tripdata.csv')\n",
    "aug = pd.read_csv(os.getenv(\"PUIdata\") + '/' + '201808-citibike-tripdata.csv')"
   ]
  },
  {
   "cell_type": "code",
   "execution_count": 7,
   "metadata": {},
   "outputs": [],
   "source": [
    "# Concatenate the two months of data\n",
    "frames = [jul,aug]\n",
    "df = pd.concat(frames)"
   ]
  },
  {
   "cell_type": "code",
   "execution_count": 8,
   "metadata": {},
   "outputs": [
    {
     "data": {
      "text/html": [
       "<div>\n",
       "<table border=\"1\" class=\"dataframe\">\n",
       "  <thead>\n",
       "    <tr style=\"text-align: right;\">\n",
       "      <th></th>\n",
       "      <th>tripduration</th>\n",
       "      <th>starttime</th>\n",
       "      <th>stoptime</th>\n",
       "      <th>start station id</th>\n",
       "      <th>start station name</th>\n",
       "      <th>start station latitude</th>\n",
       "      <th>start station longitude</th>\n",
       "      <th>end station id</th>\n",
       "      <th>end station name</th>\n",
       "      <th>end station latitude</th>\n",
       "      <th>end station longitude</th>\n",
       "      <th>bikeid</th>\n",
       "      <th>usertype</th>\n",
       "      <th>birth year</th>\n",
       "      <th>gender</th>\n",
       "    </tr>\n",
       "  </thead>\n",
       "  <tbody>\n",
       "    <tr>\n",
       "      <th>0</th>\n",
       "      <td>500</td>\n",
       "      <td>2018-07-01 00:33:51.2640</td>\n",
       "      <td>2018-07-01 00:42:12.0280</td>\n",
       "      <td>72.0</td>\n",
       "      <td>W 52 St &amp; 11 Ave</td>\n",
       "      <td>40.767272</td>\n",
       "      <td>-73.993929</td>\n",
       "      <td>3236.0</td>\n",
       "      <td>W 42 St &amp; Dyer Ave</td>\n",
       "      <td>40.758985</td>\n",
       "      <td>-73.993800</td>\n",
       "      <td>16583</td>\n",
       "      <td>Subscriber</td>\n",
       "      <td>1981</td>\n",
       "      <td>1</td>\n",
       "    </tr>\n",
       "    <tr>\n",
       "      <th>1</th>\n",
       "      <td>455</td>\n",
       "      <td>2018-07-01 02:06:54.0270</td>\n",
       "      <td>2018-07-01 02:14:29.0900</td>\n",
       "      <td>72.0</td>\n",
       "      <td>W 52 St &amp; 11 Ave</td>\n",
       "      <td>40.767272</td>\n",
       "      <td>-73.993929</td>\n",
       "      <td>529.0</td>\n",
       "      <td>W 42 St &amp; 8 Ave</td>\n",
       "      <td>40.757570</td>\n",
       "      <td>-73.990985</td>\n",
       "      <td>31481</td>\n",
       "      <td>Subscriber</td>\n",
       "      <td>1988</td>\n",
       "      <td>1</td>\n",
       "    </tr>\n",
       "    <tr>\n",
       "      <th>2</th>\n",
       "      <td>1080</td>\n",
       "      <td>2018-07-01 02:09:16.4640</td>\n",
       "      <td>2018-07-01 02:27:17.0290</td>\n",
       "      <td>72.0</td>\n",
       "      <td>W 52 St &amp; 11 Ave</td>\n",
       "      <td>40.767272</td>\n",
       "      <td>-73.993929</td>\n",
       "      <td>453.0</td>\n",
       "      <td>W 22 St &amp; 8 Ave</td>\n",
       "      <td>40.744751</td>\n",
       "      <td>-73.999154</td>\n",
       "      <td>25004</td>\n",
       "      <td>Subscriber</td>\n",
       "      <td>1982</td>\n",
       "      <td>2</td>\n",
       "    </tr>\n",
       "    <tr>\n",
       "      <th>3</th>\n",
       "      <td>632</td>\n",
       "      <td>2018-07-01 02:55:04.5870</td>\n",
       "      <td>2018-07-01 03:05:36.7910</td>\n",
       "      <td>72.0</td>\n",
       "      <td>W 52 St &amp; 11 Ave</td>\n",
       "      <td>40.767272</td>\n",
       "      <td>-73.993929</td>\n",
       "      <td>465.0</td>\n",
       "      <td>Broadway &amp; W 41 St</td>\n",
       "      <td>40.755136</td>\n",
       "      <td>-73.986580</td>\n",
       "      <td>25867</td>\n",
       "      <td>Subscriber</td>\n",
       "      <td>1986</td>\n",
       "      <td>1</td>\n",
       "    </tr>\n",
       "    <tr>\n",
       "      <th>4</th>\n",
       "      <td>1676</td>\n",
       "      <td>2018-07-01 03:24:27.4350</td>\n",
       "      <td>2018-07-01 03:52:23.7760</td>\n",
       "      <td>72.0</td>\n",
       "      <td>W 52 St &amp; 11 Ave</td>\n",
       "      <td>40.767272</td>\n",
       "      <td>-73.993929</td>\n",
       "      <td>3425.0</td>\n",
       "      <td>2 Ave &amp; E 104 St</td>\n",
       "      <td>40.789210</td>\n",
       "      <td>-73.943708</td>\n",
       "      <td>31351</td>\n",
       "      <td>Subscriber</td>\n",
       "      <td>1992</td>\n",
       "      <td>1</td>\n",
       "    </tr>\n",
       "  </tbody>\n",
       "</table>\n",
       "</div>"
      ],
      "text/plain": [
       "   tripduration                 starttime                  stoptime  \\\n",
       "0           500  2018-07-01 00:33:51.2640  2018-07-01 00:42:12.0280   \n",
       "1           455  2018-07-01 02:06:54.0270  2018-07-01 02:14:29.0900   \n",
       "2          1080  2018-07-01 02:09:16.4640  2018-07-01 02:27:17.0290   \n",
       "3           632  2018-07-01 02:55:04.5870  2018-07-01 03:05:36.7910   \n",
       "4          1676  2018-07-01 03:24:27.4350  2018-07-01 03:52:23.7760   \n",
       "\n",
       "   start station id start station name  start station latitude  \\\n",
       "0              72.0   W 52 St & 11 Ave               40.767272   \n",
       "1              72.0   W 52 St & 11 Ave               40.767272   \n",
       "2              72.0   W 52 St & 11 Ave               40.767272   \n",
       "3              72.0   W 52 St & 11 Ave               40.767272   \n",
       "4              72.0   W 52 St & 11 Ave               40.767272   \n",
       "\n",
       "   start station longitude  end station id    end station name  \\\n",
       "0               -73.993929          3236.0  W 42 St & Dyer Ave   \n",
       "1               -73.993929           529.0     W 42 St & 8 Ave   \n",
       "2               -73.993929           453.0     W 22 St & 8 Ave   \n",
       "3               -73.993929           465.0  Broadway & W 41 St   \n",
       "4               -73.993929          3425.0    2 Ave & E 104 St   \n",
       "\n",
       "   end station latitude  end station longitude  bikeid    usertype  \\\n",
       "0             40.758985             -73.993800   16583  Subscriber   \n",
       "1             40.757570             -73.990985   31481  Subscriber   \n",
       "2             40.744751             -73.999154   25004  Subscriber   \n",
       "3             40.755136             -73.986580   25867  Subscriber   \n",
       "4             40.789210             -73.943708   31351  Subscriber   \n",
       "\n",
       "   birth year  gender  \n",
       "0        1981       1  \n",
       "1        1988       1  \n",
       "2        1982       2  \n",
       "3        1986       1  \n",
       "4        1992       1  "
      ]
     },
     "execution_count": 8,
     "metadata": {},
     "output_type": "execute_result"
    }
   ],
   "source": [
    "# Data preview\n",
    "df.head(5)"
   ]
  },
  {
   "cell_type": "code",
   "execution_count": 9,
   "metadata": {},
   "outputs": [],
   "source": [
    "# Narrow the data to Millenial and Generation X aged male riders\n",
    "df = df[df['gender'] == 1]\n",
    "df = df[(df['birth year'] >= 1965) & (df['birth year'] <= 1996)]"
   ]
  },
  {
   "cell_type": "code",
   "execution_count": 10,
   "metadata": {},
   "outputs": [
    {
     "data": {
      "text/html": [
       "<div>\n",
       "<table border=\"1\" class=\"dataframe\">\n",
       "  <thead>\n",
       "    <tr style=\"text-align: right;\">\n",
       "      <th></th>\n",
       "      <th>birth year</th>\n",
       "      <th>tripduration</th>\n",
       "    </tr>\n",
       "  </thead>\n",
       "  <tbody>\n",
       "    <tr>\n",
       "      <th>0</th>\n",
       "      <td>1981</td>\n",
       "      <td>500</td>\n",
       "    </tr>\n",
       "    <tr>\n",
       "      <th>1</th>\n",
       "      <td>1988</td>\n",
       "      <td>455</td>\n",
       "    </tr>\n",
       "    <tr>\n",
       "      <th>3</th>\n",
       "      <td>1986</td>\n",
       "      <td>632</td>\n",
       "    </tr>\n",
       "    <tr>\n",
       "      <th>4</th>\n",
       "      <td>1992</td>\n",
       "      <td>1676</td>\n",
       "    </tr>\n",
       "    <tr>\n",
       "      <th>8</th>\n",
       "      <td>1974</td>\n",
       "      <td>1248</td>\n",
       "    </tr>\n",
       "  </tbody>\n",
       "</table>\n",
       "</div>"
      ],
      "text/plain": [
       "   birth year  tripduration\n",
       "0        1981           500\n",
       "1        1988           455\n",
       "3        1986           632\n",
       "4        1992          1676\n",
       "8        1974          1248"
      ]
     },
     "execution_count": 10,
     "metadata": {},
     "output_type": "execute_result"
    }
   ],
   "source": [
    "# Keep only the birth year and gender columns\n",
    "df = df[['birth year','tripduration']]\n",
    "df.head(5)"
   ]
  },
  {
   "cell_type": "code",
   "execution_count": 11,
   "metadata": {},
   "outputs": [],
   "source": [
    "# Rename the columns for ease of use\n",
    "df.columns = ['birth_year','trip_duration']"
   ]
  },
  {
   "cell_type": "code",
   "execution_count": 12,
   "metadata": {},
   "outputs": [
    {
     "name": "stderr",
     "output_type": "stream",
     "text": [
      "/usr/local/Anaconda3-5.0.0-Linux-x86_64/envs/PUI2016_Python3/lib/python3.5/site-packages/ipykernel/__main__.py:2: FutureWarning: sort(columns=....) is deprecated, use sort_values(by=.....)\n",
      "  from ipykernel import kernelapp as app\n"
     ]
    },
    {
     "data": {
      "text/html": [
       "<div>\n",
       "<table border=\"1\" class=\"dataframe\">\n",
       "  <thead>\n",
       "    <tr style=\"text-align: right;\">\n",
       "      <th></th>\n",
       "      <th>birth_year</th>\n",
       "      <th>trip_duration</th>\n",
       "    </tr>\n",
       "  </thead>\n",
       "  <tbody>\n",
       "    <tr>\n",
       "      <th>1830192</th>\n",
       "      <td>1989</td>\n",
       "      <td>4829587</td>\n",
       "    </tr>\n",
       "    <tr>\n",
       "      <th>1812108</th>\n",
       "      <td>1977</td>\n",
       "      <td>4274285</td>\n",
       "    </tr>\n",
       "    <tr>\n",
       "      <th>1158278</th>\n",
       "      <td>1992</td>\n",
       "      <td>3982310</td>\n",
       "    </tr>\n",
       "    <tr>\n",
       "      <th>1731319</th>\n",
       "      <td>1991</td>\n",
       "      <td>3980490</td>\n",
       "    </tr>\n",
       "    <tr>\n",
       "      <th>1812240</th>\n",
       "      <td>1967</td>\n",
       "      <td>3642689</td>\n",
       "    </tr>\n",
       "  </tbody>\n",
       "</table>\n",
       "</div>"
      ],
      "text/plain": [
       "         birth_year  trip_duration\n",
       "1830192        1989        4829587\n",
       "1812108        1977        4274285\n",
       "1158278        1992        3982310\n",
       "1731319        1991        3980490\n",
       "1812240        1967        3642689"
      ]
     },
     "execution_count": 12,
     "metadata": {},
     "output_type": "execute_result"
    }
   ],
   "source": [
    "# Sort the trip_duration to get an idea of the highest values we should see in the plot\n",
    "df.sort('trip_duration', ascending=False).head(5)"
   ]
  },
  {
   "cell_type": "code",
   "execution_count": 13,
   "metadata": {},
   "outputs": [
    {
     "data": {
      "text/plain": [
       "Text(0.5,0,'Birth Year')"
      ]
     },
     "execution_count": 13,
     "metadata": {},
     "output_type": "execute_result"
    },
    {
     "data": {
      "image/png": "[encoded data removed]",
      "text/plain": [
       "<matplotlib.figure.Figure at 0x7f9d3462ef28>"
      ]
     },
     "metadata": {},
     "output_type": "display_data"
    }
   ],
   "source": [
    "# Create a scatter plot of the data\n",
    "fig = plt.figure(figsize=(15,10))\n",
    "ax = plt.gca()\n",
    "ax.plot(df.birth_year, df.trip_duration, 'o', c='blue')\n",
    "ax.set_yscale('log')\n",
    "ax.set_title('Duration of Ride as a Function of Rider Age', fontsize = 25)\n",
    "ax.set_ylabel('Duration of ride in seconds (on a log scale)', fontsize = 20)\n",
    "ax.set_xlabel('Birth Year', fontsize = 20)"
   ]
  },
  {
   "cell_type": "markdown",
   "metadata": {},
   "source": [
    "## Notes on the above plot:\n",
    "\n",
    "The plot above of shows the duration of each ride (in seconds) taken by Millenial and Generation X male CitiBike riders in the months of July and August 2018. \n",
    "\n",
    "Note that the y axis (trip duration) is plotted on a logarithmic scale in order to make the plot more readable. Without a logarithmic scale, the plot is skewed due to a select number of rides with durations in the hundreds of thousands or even millions (see the sample of the dataframe sorted by trip duration). These trips were either recorded in error (a trip lasting millions of seconds is equivalent to dozens of days) or were not actually rides but were cases where a bike was taken out and then not returned to a dock for other reasons (it may have been taken out of circulation for repair work or could have been stolen). These data points may need to be removed to conduct a more accurate analysis."
   ]
  },
  {
   "cell_type": "code",
   "execution_count": null,
   "metadata": {},
   "outputs": [],
   "source": []
  }
 ],
 "metadata": {
  "kernelspec": {
   "display_name": "PUI2016_Python3",
   "language": "python",
   "name": "pui2016_python3"
  },
  "language_info": {
   "codemirror_mode": {
    "name": "ipython",
    "version": 3
   },
   "file_extension": ".py",
   "mimetype": "text/x-python",
   "name": "python",
   "nbconvert_exporter": "python",
   "pygments_lexer": "ipython3",
   "version": "3.5.4"
  }
 },
 "nbformat": 4,
 "nbformat_minor": 2
}
