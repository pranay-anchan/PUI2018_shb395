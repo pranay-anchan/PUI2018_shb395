{
 "cells": [
  {
   "cell_type": "markdown",
   "metadata": {
    "run_control": {
     "frozen": false,
     "read_only": false
    }
   },
   "source": [
    "# exercise with pandas\n",
    "\n",
    "every \"...\" should be replaced with a line of code"
   ]
  },
  {
   "cell_type": "code",
   "execution_count": null,
   "metadata": {
    "ExecuteTime": {
     "end_time": "2018-10-04T02:23:56.093901Z",
     "start_time": "2018-10-04T02:23:55.338254Z"
    },
    "run_control": {
     "frozen": false,
     "read_only": false
    }
   },
   "outputs": [],
   "source": [
    "import pandas as pd\n",
    "import os\n",
    "\n",
    "# Use PUIdata environmental variable to store data\n",
    "PUIdata = os.getenv('PUIDATA')\n",
    "\n",
    "print (PUIdata)"
   ]
  },
  {
   "cell_type": "markdown",
   "metadata": {
    "run_control": {
     "frozen": false,
     "read_only": false
    }
   },
   "source": [
    "Read what the PLUTO data is [here](https://www.wired.com/2013/08/nyc-pluto-data-map-party/)\n",
    "\n",
    "Find the PLUTO dataset online, find the cvs file data (not the shape file), it should be about 46M\n",
    "\n",
    "Download it as a zip file, unpack it in PUIDATAEach borough will be in a different file. The goal is to find land plot categories of which there is a higher number in Manhattan (MN) than in Brooklyn (BK)\n",
    "\n",
    "Read in csv data as pandas dataframes (with pd.read_csv() )\n",
    "\n",
    "In a Pandas DataFrame each column is a _series_ (a pandas datatype) to manipulate the data here you will mostly use methods (functions that are defined for a specific datatype and invoked with the _object.method()_ syntax) of the DataFrames (e.g. df.groupby() ) or of the series therein (e.g. series.astype() )"
   ]
  },
  {
   "cell_type": "code",
   "execution_count": null,
   "metadata": {
    "run_control": {
     "frozen": false,
     "read_only": false
    }
   },
   "outputs": [],
   "source": [
    "!curl -O https://www1.nyc.gov/assets/planning/download/zip/data-maps/open-data/nyc_pluto_18v1.zip\n",
    "!unzip nyc_pluto_18v1.zip -d $PUIdata"
   ]
  },
  {
   "cell_type": "code",
   "execution_count": null,
   "metadata": {},
   "outputs": [],
   "source": [
    "!ls $PUIdata"
   ]
  },
  {
   "cell_type": "markdown",
   "metadata": {
    "run_control": {
     "frozen": false,
     "read_only": false
    }
   },
   "source": [
    "# read in te Manhattan and Brooklyn data in 2 separate dataframes w pandas"
   ]
  },
  {
   "cell_type": "markdown",
   "metadata": {
    "ExecuteTime": {
     "end_time": "2018-10-03T05:19:13.282296Z",
     "start_time": "2018-10-03T05:19:13.275852Z"
    },
    "run_control": {
     "frozen": false,
     "read_only": false
    }
   },
   "source": [
    "## show the first 10 lines of each df"
   ]
  },
  {
   "cell_type": "code",
   "execution_count": null,
   "metadata": {
    "ExecuteTime": {
     "end_time": "2018-10-03T05:21:12.960779Z",
     "start_time": "2018-10-03T05:21:12.876994Z"
    },
    "run_control": {
     "frozen": false,
     "read_only": false
    }
   },
   "outputs": [],
   "source": [
    "# show manhattan 10 rows\n",
    "mn = pd.read_csv(PUIdata + '/PLUTO_for_WEB/MN_18v1.csv')\n",
    "mn.head(10)"
   ]
  },
  {
   "cell_type": "code",
   "execution_count": null,
   "metadata": {
    "ExecuteTime": {
     "end_time": "2018-10-03T05:21:13.024006Z",
     "start_time": "2018-10-03T05:21:12.964164Z"
    },
    "run_control": {
     "frozen": false,
     "read_only": false
    }
   },
   "outputs": [],
   "source": [
    "# show brooklyn 10 rows\n",
    "bk = pd.read_csv(PUIdata + '/PLUTO_for_WEB/BK_18v1.csv')\n",
    "bk.head(10)"
   ]
  },
  {
   "cell_type": "markdown",
   "metadata": {
    "run_control": {
     "frozen": false,
     "read_only": false
    }
   },
   "source": [
    "## display all columns in each file"
   ]
  },
  {
   "cell_type": "code",
   "execution_count": null,
   "metadata": {
    "ExecuteTime": {
     "end_time": "2018-10-03T05:21:13.034672Z",
     "start_time": "2018-10-03T05:21:13.027534Z"
    },
    "run_control": {
     "frozen": false,
     "read_only": false
    }
   },
   "outputs": [],
   "source": [
    "# show bk\n",
    "bk.columns.get_values()"
   ]
  },
  {
   "cell_type": "code",
   "execution_count": null,
   "metadata": {
    "ExecuteTime": {
     "end_time": "2018-10-03T05:21:14.347420Z",
     "start_time": "2018-10-03T05:21:14.340626Z"
    },
    "run_control": {
     "frozen": false,
     "read_only": false
    }
   },
   "outputs": [],
   "source": [
    "# show mn\n",
    "mn.columns.get_values()"
   ]
  },
  {
   "cell_type": "markdown",
   "metadata": {
    "ExecuteTime": {
     "end_time": "2018-10-03T04:53:20.197095Z",
     "start_time": "2018-10-03T04:53:20.190599Z"
    },
    "run_control": {
     "frozen": false,
     "read_only": false
    }
   },
   "source": [
    "# drop all columns but ZipCode and LandUse"
   ]
  },
  {
   "cell_type": "code",
   "execution_count": null,
   "metadata": {
    "ExecuteTime": {
     "end_time": "2018-10-03T05:21:44.952730Z",
     "start_time": "2018-10-03T05:21:44.940640Z"
    },
    "run_control": {
     "frozen": false,
     "read_only": false
    }
   },
   "outputs": [],
   "source": [
    "# drop columns here. Use the .drop method of pandas dataframes, i.e. something like bk.drop()... \n",
    "# make sure you drop \"in place\" and that you drop along the right axis - i.e. the columns. \n",
    "# you can use bk.drop? to the help with this function \n",
    "mn_del_cols = []\n",
    "mn_cols = mn.columns.get_values()\n",
    "for col in mn_cols:\n",
    "    if col != 'ZipCode' and col != 'LandUse':\n",
    "        mn_del_cols.append(col)\n",
    "mn.drop(mn_del_cols, axis=1, inplace=True)\n",
    "mn.head()"
   ]
  },
  {
   "cell_type": "code",
   "execution_count": null,
   "metadata": {
    "ExecuteTime": {
     "end_time": "2018-10-03T05:21:20.155607Z",
     "start_time": "2018-10-03T05:21:20.144262Z"
    },
    "run_control": {
     "frozen": false,
     "read_only": false
    }
   },
   "outputs": [],
   "source": [
    "# Drop columns from bk df\n",
    "bk_del_cols = []\n",
    "bk_cols = bk.columns.get_values()\n",
    "for col in bk_cols:\n",
    "    if col != 'ZipCode' and col != 'LandUse':\n",
    "        bk_del_cols.append(col)\n",
    "bk.drop(bk_del_cols, axis=1, inplace=True)\n",
    "bk.head()"
   ]
  },
  {
   "cell_type": "markdown",
   "metadata": {
    "run_control": {
     "frozen": false,
     "read_only": false
    }
   },
   "source": [
    "# use groupby to count the building per LandUse code "
   ]
  },
  {
   "cell_type": "code",
   "execution_count": null,
   "metadata": {},
   "outputs": [],
   "source": [
    "mngrouped = mn.groupby('LandUse').count().reset_index()\n",
    "mngrouped = mngrouped.rename(columns = {'ZipCode':'Count'})\n",
    "mngrouped.head(100)"
   ]
  },
  {
   "cell_type": "code",
   "execution_count": null,
   "metadata": {
    "ExecuteTime": {
     "end_time": "2018-10-03T05:22:51.222154Z",
     "start_time": "2018-10-03T05:22:51.203841Z"
    },
    "run_control": {
     "frozen": false,
     "read_only": false
    }
   },
   "outputs": [],
   "source": [
    "# group Manhattan by land use. Make sure you understand how to use the groupby() method:\n",
    "# this method returns a group object. those objects have methods and some of these methods return dataframes. \n",
    "# What do you want to do? you want to count all objects per each land use type. \n",
    "# So you want to use .groupby() to group by LandUse and then .count() to get the number of element per LandUse\n",
    "# Other methods include .mean() to get the mean of a group, .std(), \n",
    "# and a generic method .apply() to which you can pass any function that operates on a column.\n",
    "# All these methods return dataframes \n",
    "# (hint: use also reset_index) for each df\n",
    "mngrouped = mn.groupby('LandUse').count().reset_index()\n",
    "mngrouped.rename(columns = {'ZipCode':'CountMN'}, inplace=True)\n",
    "mngrouped"
   ]
  },
  {
   "cell_type": "code",
   "execution_count": null,
   "metadata": {
    "ExecuteTime": {
     "end_time": "2018-10-03T05:22:46.813021Z",
     "start_time": "2018-10-03T05:22:46.785221Z"
    },
    "run_control": {
     "frozen": false,
     "read_only": false
    }
   },
   "outputs": [],
   "source": [
    "# group BK by land use\n",
    "bkgrouped = bk.groupby('LandUse').count().reset_index()\n",
    "bkgrouped.rename(columns = {'ZipCode':'CountBK'}, inplace=True)\n",
    "bkgrouped"
   ]
  },
  {
   "cell_type": "markdown",
   "metadata": {
    "run_control": {
     "frozen": false,
     "read_only": false
    }
   },
   "source": [
    "# convert the landuse to integer "
   ]
  },
  {
   "cell_type": "code",
   "execution_count": null,
   "metadata": {
    "ExecuteTime": {
     "end_time": "2018-10-03T05:23:26.209963Z",
     "start_time": "2018-10-03T05:23:26.197623Z"
    },
    "run_control": {
     "frozen": false,
     "read_only": false
    }
   },
   "outputs": [],
   "source": [
    "# convert LandUse to int using the .astype() method of the series\n",
    "mngrouped['LandUse'] = mngrouped['LandUse'].astype(int)\n",
    "bkgrouped['LandUse'] = bkgrouped['LandUse'].astype(int)\n",
    "bkgrouped.head()"
   ]
  },
  {
   "cell_type": "markdown",
   "metadata": {
    "run_control": {
     "frozen": false,
     "read_only": false
    }
   },
   "source": [
    "# merge the dataframes on land use "
   ]
  },
  {
   "cell_type": "code",
   "execution_count": null,
   "metadata": {
    "ExecuteTime": {
     "end_time": "2018-10-04T02:41:24.261784Z",
     "start_time": "2018-10-04T02:41:24.176481Z"
    },
    "run_control": {
     "frozen": false,
     "read_only": false
    }
   },
   "outputs": [],
   "source": [
    "# merge the dataframes on LandUse. You can use the pandas function merge ( _pd.merge)\n",
    "both = bkgrouped.merge(mngrouped, how='outer', on='LandUse')\n",
    "both"
   ]
  },
  {
   "cell_type": "markdown",
   "metadata": {
    "run_control": {
     "frozen": false,
     "read_only": false
    }
   },
   "source": [
    "# rename things so that you have descriptive names"
   ]
  },
  {
   "cell_type": "markdown",
   "metadata": {
    "ExecuteTime": {
     "end_time": "2018-10-04T03:01:27.055823Z",
     "start_time": "2018-10-04T03:01:27.048997Z"
    }
   },
   "source": [
    "## rename the columns with descriptive names. \n"
   ]
  },
  {
   "cell_type": "code",
   "execution_count": null,
   "metadata": {
    "ExecuteTime": {
     "end_time": "2018-10-03T05:25:08.735314Z",
     "start_time": "2018-10-03T05:25:08.720514Z"
    },
    "run_control": {
     "frozen": false,
     "read_only": false
    }
   },
   "outputs": [],
   "source": [
    "# Use the df.rename() method (hint: it takes a dictionary)\n",
    "# now you can just call \"both\" instead of \"both.head()\" since the file should only have 11 columns\n",
    "both.rename(columns = {'CountBK':'landuse_count_bk', 'CountMN':'landuse_count_mn'}, inplace=True)\n",
    "both"
   ]
  },
  {
   "cell_type": "markdown",
   "metadata": {
    "run_control": {
     "frozen": false,
     "read_only": false
    }
   },
   "source": [
    "## find online the LandUse data dictionary and replace code w the verbose description of it\n"
   ]
  },
  {
   "cell_type": "code",
   "execution_count": null,
   "metadata": {
    "ExecuteTime": {
     "end_time": "2018-10-03T05:25:34.659631Z",
     "start_time": "2018-10-03T05:25:34.643151Z"
    },
    "run_control": {
     "frozen": false,
     "read_only": false
    }
   },
   "outputs": [],
   "source": [
    "# set up Land Use values to descriptive tag\n",
    "# Found descriptions here: \n",
    "# https://www1.nyc.gov/assets/planning/download/pdf/data-maps/open-data/pluto_datadictionary.pdf?r=18v1\n",
    "both.loc[0,'LandUse'] = 'One & Two Family Buildings'\n",
    "both.loc[1,'LandUse'] = 'Multi-Family Walk-Up Buildings'\n",
    "both.loc[2,'LandUse'] = 'Multi-Family Elevator Buildings'\n",
    "both.loc[3,'LandUse'] = 'Mixed Residential & Commercial Buildings'\n",
    "both.loc[4,'LandUse'] = 'Commercial & Office Buildings'\n",
    "both.loc[5,'LandUse'] = 'Industrial & Manufacturing Buildings'\n",
    "both.loc[6,'LandUse'] = 'Transportation & Utility'\n",
    "both.loc[7,'LandUse'] = 'Public Facilities & Institutions'\n",
    "both.loc[8,'LandUse'] = 'Open Space & Outdoor Recreation'\n",
    "both.loc[9,'LandUse'] = 'Parking Facilities'\n",
    "both.loc[10,'LandUse'] = 'Vacant Land'\n",
    "\n",
    "both"
   ]
  },
  {
   "cell_type": "markdown",
   "metadata": {
    "run_control": {
     "frozen": false,
     "read_only": false
    }
   },
   "source": [
    "# create a feature (a column, a series) with the ratio of number of buildings in BK vs MN and find out in which LandUse class Manhattan has more buildings than BK "
   ]
  },
  {
   "cell_type": "code",
   "execution_count": null,
   "metadata": {
    "ExecuteTime": {
     "end_time": "2018-10-03T05:26:56.697630Z",
     "start_time": "2018-10-03T05:26:56.677403Z"
    },
    "run_control": {
     "frozen": false,
     "read_only": false
    }
   },
   "outputs": [],
   "source": [
    "# calculate the ratio of BK to Man buildings per LandUse category\n",
    "both['luratio'] = both.landuse_count_mn / both.landuse_count_bk\n",
    "both"
   ]
  },
  {
   "cell_type": "code",
   "execution_count": null,
   "metadata": {
    "ExecuteTime": {
     "end_time": "2018-10-03T05:27:07.762699Z",
     "start_time": "2018-10-03T05:27:07.744993Z"
    },
    "run_control": {
     "frozen": false,
     "read_only": false
    }
   },
   "outputs": [],
   "source": [
    "# defined function that returns True if the ratio is larger than 0, False otherwise. \n",
    "# Use the series.apply() method to apply that function to the luratio series you jusrt created\n",
    "def ratio_check(ratio):\n",
    "    if ratio > 1:\n",
    "        return True\n",
    "    else:\n",
    "        return False\n",
    "\n",
    "both['Manhattan wins'] = both['luratio'].apply(ratio_check) \n",
    "both"
   ]
  },
  {
   "cell_type": "markdown",
   "metadata": {
    "run_control": {
     "frozen": false,
     "read_only": false
    }
   },
   "source": [
    "# comment on what you found out. Does it make sense? "
   ]
  },
  {
   "cell_type": "markdown",
   "metadata": {},
   "source": [
    "Since we are comparing absolute values between Brooklyn and Manhattan, it would make sense that Brooklyn will have more instances of many land types since Brooklyn's population is greater than Manhattan's by approximately one million people. The one land use category for which Manhattan has more properties (multi-family elevator buildings) makes intuitive sense because Manhattan has more high-rises due to the limited land area available for property development on the island."
   ]
  },
  {
   "cell_type": "code",
   "execution_count": null,
   "metadata": {},
   "outputs": [],
   "source": []
  }
 ],
 "metadata": {
  "kernelspec": {
   "display_name": "PUI2016_Python2",
   "language": "python",
   "name": "pui2016_python2"
  },
  "language_info": {
   "codemirror_mode": {
    "name": "ipython",
    "version": 2
   },
   "file_extension": ".py",
   "mimetype": "text/x-python",
   "name": "python",
   "nbconvert_exporter": "python",
   "pygments_lexer": "ipython2",
   "version": "2.7.12"
  },
  "toc": {
   "colors": {
    "hover_highlight": "#DAA520",
    "running_highlight": "#FF0000",
    "selected_highlight": "#FFD700"
   },
   "moveMenuLeft": true,
   "nav_menu": {
    "height": "168px",
    "width": "252px"
   },
   "navigate_menu": true,
   "number_sections": true,
   "sideBar": true,
   "threshold": 4,
   "toc_cell": false,
   "toc_section_display": "block",
   "toc_window_display": true
  }
 },
 "nbformat": 4,
 "nbformat_minor": 2
}
