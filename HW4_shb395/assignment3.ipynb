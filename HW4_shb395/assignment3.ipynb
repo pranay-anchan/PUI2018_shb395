{
 "cells": [
  {
   "cell_type": "markdown",
   "metadata": {},
   "source": [
    "# Analysis of the New Bus Route for the X8 Line\n",
    "\n",
    "## Overall question:\n",
    "\n",
    "Is the average commute time on the new route faster than that of the old route?\n",
    "\n",
    "## Null Hypothesis ($H_0$):\n",
    "\n",
    "The average commute time for the new route ($T_{new}$) is the same as or longer than the average commute time of the old route ($T_{old}$).\n",
    "\n",
    "$H_0$: $T_{new}$ - $T_{old}$ >= 0\n",
    "\n",
    "## Alternative Hypothesis ($H_a$):\n",
    "\n",
    "The average commute time for the new route is faster than the average commute time of the old route.\n",
    "\n",
    "$H_a$: $T_{new}$ - $T_{old}$ < 0\n",
    "\n",
    "## Testing:\n",
    "\n",
    "I will set the $\\alpha$ at .05 ($\\alpha$ = .05) when testing the sample from the new bus route. An $\\alpha$ value this high seems reasonable (or possibly too high) given that we are testing data from an uncontrolled, real-world environment with many outside factors that could affect the speed of the X8 along the new bus route.\n",
    "\n",
    "I will obtain the Z-score for the new route to determine if it is (statistically) significantly different from the mean of the standard route for the X8 line. The Z-score can be calculated as follows:\n",
    "\n",
    "$Z = \\frac{\\mu_{pop}-\\mu_{sample}}{\\sigma/\\sqrt{N}}$"
   ]
  },
  {
   "cell_type": "code",
   "execution_count": 1,
   "metadata": {},
   "outputs": [],
   "source": [
    "# Get the environmental variable called PUIdata for this notebook\n",
    "import os\n",
    "\n",
    "os.environ[\"PUIdata\"] = \"{}/PUIdata\".format(os.getenv(\"HOME\"))"
   ]
  },
  {
   "cell_type": "code",
   "execution_count": 2,
   "metadata": {},
   "outputs": [
    {
     "name": "stdout",
     "output_type": "stream",
     "text": [
      "Populating the interactive namespace from numpy and matplotlib\n",
      "Must set env variable PUI2018\n"
     ]
    }
   ],
   "source": [
    "# Import libraries\n",
    "from __future__  import print_function, division\n",
    "import pylab as pl\n",
    "import pandas as pd\n",
    "import numpy as np\n",
    "\n",
    "%pylab inline\n",
    "\n",
    "if os.getenv('PUI2018') is None:\n",
    "    print (\"Must set env variable PUI2018\")\n",
    "if os.getenv('PUIdata') is None:\n",
    "    print (\"Must set env variable PUIdata\")\n",
    "\n",
    "import os\n",
    "import json"
   ]
  },
  {
   "cell_type": "code",
   "execution_count": 3,
   "metadata": {},
   "outputs": [
    {
     "name": "stdout",
     "output_type": "stream",
     "text": [
      "  % Total    % Received % Xferd  Average Speed   Time    Time     Time  Current\n",
      "                                 Dload  Upload   Total   Spent    Left  Speed\n",
      "100  1179  100  1179    0     0   7481      0 --:--:-- --:--:-- --:--:--  7509\n"
     ]
    }
   ],
   "source": [
    "# Read the bus data into PUIdata\n",
    "!curl --url https://raw.githubusercontent.com/fedhere/PUI2018_fb55/master/Lab4_fb55/times.txt --output \\\n",
    "    $PUIdata/times.txt > times.txt"
   ]
  },
  {
   "cell_type": "code",
   "execution_count": 4,
   "metadata": {},
   "outputs": [],
   "source": [
    "# Read the bus data into a dataframe\n",
    "x8 = pd.read_csv(os.getenv(\"PUIdata\") + '/' + 'times.txt', sep=\" \", header=None)\n",
    "x8.columns = ['times']"
   ]
  },
  {
   "cell_type": "code",
   "execution_count": 5,
   "metadata": {},
   "outputs": [
    {
     "data": {
      "text/html": [
       "<div>\n",
       "<table border=\"1\" class=\"dataframe\">\n",
       "  <thead>\n",
       "    <tr style=\"text-align: right;\">\n",
       "      <th></th>\n",
       "      <th>times</th>\n",
       "    </tr>\n",
       "  </thead>\n",
       "  <tbody>\n",
       "    <tr>\n",
       "      <th>0</th>\n",
       "      <td>31.622239</td>\n",
       "    </tr>\n",
       "    <tr>\n",
       "      <th>1</th>\n",
       "      <td>32.821376</td>\n",
       "    </tr>\n",
       "    <tr>\n",
       "      <th>2</th>\n",
       "      <td>30.229101</td>\n",
       "    </tr>\n",
       "    <tr>\n",
       "      <th>3</th>\n",
       "      <td>31.413766</td>\n",
       "    </tr>\n",
       "    <tr>\n",
       "      <th>4</th>\n",
       "      <td>39.010550</td>\n",
       "    </tr>\n",
       "  </tbody>\n",
       "</table>\n",
       "</div>"
      ],
      "text/plain": [
       "       times\n",
       "0  31.622239\n",
       "1  32.821376\n",
       "2  30.229101\n",
       "3  31.413766\n",
       "4  39.010550"
      ]
     },
     "execution_count": 5,
     "metadata": {},
     "output_type": "execute_result"
    }
   ],
   "source": [
    "# Preview of the first 5 rows\n",
    "x8.head(5)"
   ]
  },
  {
   "cell_type": "code",
   "execution_count": 6,
   "metadata": {},
   "outputs": [],
   "source": [
    "# Get the count and mean of the travel times\n",
    "sampm = x8['times'].mean()\n",
    "n = x8['times'].count()"
   ]
  },
  {
   "cell_type": "code",
   "execution_count": 7,
   "metadata": {},
   "outputs": [
    {
     "name": "stdout",
     "output_type": "stream",
     "text": [
      "Z score: 2.56\n"
     ]
    }
   ],
   "source": [
    "# Calculate the z statistic\n",
    "popm = 36\n",
    "popsd = 6\n",
    "z = (popm - sampm)/(popsd/sqrt(n))\n",
    "zround = round(z,2)\n",
    "print(\"Z score: \" + str(zround))"
   ]
  },
  {
   "cell_type": "markdown",
   "metadata": {},
   "source": [
    "## Conclusion\n",
    "\n",
    "The $\\alpha$ value of .05 that was previously stated corresponds to 2 standard deviations from our population mean of 36. But with a calculated Z score of 2.56 (which is, of course, greater than the 2 standard deviations for our $\\alpha$ value), we are led to conclude that there is a statistically significant effect of the new X8 bus route on average travel time. Therefore, we should reject our null hypothesis. The new bus route, in fact, does reduce travel time for passengers on the X8."
   ]
  }
 ],
 "metadata": {
  "kernelspec": {
   "display_name": "PUI2016_Python3",
   "language": "python",
   "name": "pui2016_python3"
  },
  "language_info": {
   "codemirror_mode": {
    "name": "ipython",
    "version": 3
   },
   "file_extension": ".py",
   "mimetype": "text/x-python",
   "name": "python",
   "nbconvert_exporter": "python",
   "pygments_lexer": "ipython3",
   "version": "3.5.4"
  }
 },
 "nbformat": 4,
 "nbformat_minor": 2
}
