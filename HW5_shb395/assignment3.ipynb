{
 "cells": [
  {
   "cell_type": "markdown",
   "metadata": {
    "run_control": {
     "frozen": false,
     "read_only": false
    }
   },
   "source": [
    "\n",
    "August 2015  \n",
    "Modified September 2017, October 2018\n",
    "\n",
    "Author: FBB\n",
    "\n",
    "** reproduce the result in **\n",
    "http://www.mdrc.org/sites/default/files/What%20Strategies%20Work%20for%20the%20Hard%20FR.pdf "
   ]
  },
  {
   "cell_type": "code",
   "execution_count": 1,
   "metadata": {
    "ExecuteTime": {
     "end_time": "2018-10-03T03:56:25.982146Z",
     "start_time": "2018-10-03T03:56:24.071017Z"
    },
    "run_control": {
     "frozen": false,
     "read_only": false
    }
   },
   "outputs": [
    {
     "name": "stdout",
     "output_type": "stream",
     "text": [
      "Populating the interactive namespace from numpy and matplotlib\n"
     ]
    }
   ],
   "source": [
    "import os\n",
    "import sys\n",
    "import numpy as np\n",
    "import pylab as pl\n",
    "\n",
    "%pylab inline"
   ]
  },
  {
   "cell_type": "markdown",
   "metadata": {
    "run_control": {
     "frozen": false,
     "read_only": false
    }
   },
   "source": [
    "# NULL HYPOTHESIS: the % of former prisoners employed after release is the same or lower for candidates who participated in the program as for the control group, significance level p=0.05"
   ]
  },
  {
   "cell_type": "markdown",
   "metadata": {
    "run_control": {
     "frozen": false,
     "read_only": false
    }
   },
   "source": [
    "** $H_0: P_0 - P_1 \\geq$    0 **\n",
    "    \n",
    "** $H_a: P_0 - P_1 $< 0    **\n",
    "    \n",
    "    \n",
    "** $\\alpha$ = 0.05    **\n",
    "\n",
    "** this is a TEST OF PROPORTIONS. we use the Binomial distribution since it is a yes/no (bernulli) test for each subject: the former inmate was or was not ever employed in a CEO transitional job (second row in the table above): **\n",
    "\n",
    "** $P_0=0.035, P_1=0.701$**"
   ]
  },
  {
   "cell_type": "code",
   "execution_count": 2,
   "metadata": {
    "ExecuteTime": {
     "end_time": "2018-10-03T03:56:26.188112Z",
     "start_time": "2018-10-03T03:56:26.168425Z"
    },
    "run_control": {
     "frozen": false,
     "read_only": false
    }
   },
   "outputs": [
    {
     "name": "stdout",
     "output_type": "stream",
     "text": [
      "we must assess the statistical significance\n"
     ]
    }
   ],
   "source": [
    "\n",
    "# first thing: choose your significance threshold\n",
    "alpha=0.05\n",
    "\n",
    "\n",
    "\n",
    "# we like fractions better then percentages. as a rule of thumb, either use fractions or counts. \n",
    "# 0 for control group, 1 for program group\n",
    "\n",
    "P_0 = 3.5 * 0.01 \n",
    "P_1 = 70.1 * 0.01\n",
    "\n",
    "if P_0 - P_1 >= 0:\n",
    "    # we are done\n",
    "    print (\"the Null holds\")\n",
    "else:\n",
    "    print (\"we must assess the statistical significance\")\n",
    "\n",
    "#sample sizes \n",
    "\n",
    "n_0 = 409\n",
    "n_1 = 564\n",
    "    \n",
    "#lets get the counts by multiplying by the sample size\n",
    "\n",
    "Nt_0 = P_0 * n_0\n",
    "Nt_1 = P_1 * n_1\n"
   ]
  },
  {
   "cell_type": "markdown",
   "metadata": {
    "run_control": {
     "frozen": false,
     "read_only": false
    }
   },
   "source": [
    "# WHICH  TEST?\n",
    "\n",
    "samples, categorical data\n",
    " \n",
    " ** TWO OPTIONS z test, or chi-square test.  **"
   ]
  },
  {
   "cell_type": "markdown",
   "metadata": {
    "run_control": {
     "frozen": false,
     "read_only": false
    }
   },
   "source": [
    "# START WITH Z TEST\n",
    "\n",
    "** the z test compares the stanrard deviation of the expected distribution and the observed result. it tells you literally how many standard deviations from the tail an observation is, under the _assumption of normality_ **\n"
   ]
  },
  {
   "cell_type": "markdown",
   "metadata": {},
   "source": [
    "must define the sample standard deviation (standard error)"
   ]
  },
  {
   "cell_type": "code",
   "execution_count": 3,
   "metadata": {
    "ExecuteTime": {
     "end_time": "2018-10-03T03:56:26.257273Z",
     "start_time": "2018-10-03T03:56:26.241254Z"
    },
    "run_control": {
     "frozen": false,
     "read_only": false
    }
   },
   "outputs": [
    {
     "name": "stdout",
     "output_type": "stream",
     "text": [
      "0.4210472764645426\n"
     ]
    }
   ],
   "source": [
    "#define the sample proportion first\n",
    "sp = (P_0 * n_0 + P_1 * n_1) / (n_1 + n_0)\n",
    "print (sp)"
   ]
  },
  {
   "cell_type": "markdown",
   "metadata": {
    "run_control": {
     "frozen": false,
     "read_only": false
    }
   },
   "source": [
    "** standard deviation of the sampling distribution the distribution is Binomial, the binomial stdev is **\n",
    "\n",
    "(see a proof here!: http://stats.stackexchange.com/questions/29641/standard-error-for-the-mean-of-a-sample-of-binomial-random-variables!): \n",
    "\n",
    "$\\sqrt{\\frac{p(1 - p)}{n}}$\n",
    "\n",
    "for 2 samples this becomes \n",
    "\n",
    "$\\sqrt{ \\frac{ \\hat{p}(1 - \\hat{p})} {n0} + \\frac{ \\hat{p}(1 - \\hat{p})} {n1} }$\n",
    "\n",
    "cfr: page 138 of Statistics in a Nutshell, eq. 5.12 and here http://stattrek.com/hypothesis-test/difference-in-proportions.aspx?Tutorial=AP\n",
    "\n",
    "** $\\hat{p} =\\frac{p_0  n_0 + p_1  n_1}{n_0+n_1}$ **\n"
   ]
  },
  {
   "cell_type": "markdown",
   "metadata": {
    "run_control": {
     "frozen": false,
     "read_only": false
    }
   },
   "source": [
    "Note that in the online version of Statistics in a Nutshell, $\\bar{x}$  should be  $\\hat{p}$!!"
   ]
  },
  {
   "cell_type": "code",
   "execution_count": 4,
   "metadata": {
    "ExecuteTime": {
     "end_time": "2018-10-03T03:56:26.271816Z",
     "start_time": "2018-10-03T03:56:26.262189Z"
    },
    "run_control": {
     "frozen": false,
     "read_only": false
    }
   },
   "outputs": [],
   "source": [
    "# I am goonna create a little one line function to calculate the standard error\n",
    "# and to calculate p\n",
    "\n",
    "p = lambda p0, p1, n0, n1: (p0 * n0 + p1 * n1) / (n0 + n1)\n",
    "#standard error\n",
    "se = lambda p, n0, n1: np.sqrt(p * (1 - p) * (1.0 / n0 + 1.0 / n1)) "
   ]
  },
  {
   "cell_type": "markdown",
   "metadata": {
    "run_control": {
     "frozen": false,
     "read_only": false
    }
   },
   "source": [
    "** z score: how many standard deviation away from the population parameter is my statistic? **\n",
    "\n",
    " $z=\\frac{P_1-P_0}{\\sigma}$"
   ]
  },
  {
   "cell_type": "code",
   "execution_count": 5,
   "metadata": {
    "ExecuteTime": {
     "end_time": "2018-10-03T03:56:26.292608Z",
     "start_time": "2018-10-03T03:56:26.277966Z"
    },
    "run_control": {
     "frozen": false,
     "read_only": false
    }
   },
   "outputs": [
    {
     "name": "stdout",
     "output_type": "stream",
     "text": [
      "20.7697865408\n"
     ]
    }
   ],
   "source": [
    "zscore = lambda p0, p1, s : (p0 - p1) / s\n",
    "z_2y = zscore(P_1, P_0, se(p(P_0, P_1, n_0, n_1), n_0, n_1))\n",
    "print (z_2y)\n"
   ]
  },
  {
   "cell_type": "markdown",
   "metadata": {
    "run_control": {
     "frozen": false,
     "read_only": false
    }
   },
   "source": [
    "note that using p0-p1 or p1-p0 at the numerator is equivalent because the standardizes normal value of z has mean 0 (see image below) so that we can use the absolute value of the z score, or equivalently look for $P[Z<z]$ if z is positive, and $P[Z>z]$ if z is negative."
   ]
  },
  {
   "cell_type": "markdown",
   "metadata": {
    "run_control": {
     "frozen": false,
     "read_only": false
    }
   },
   "source": [
    "* if $p<\\alpha$ : reject H0 **\n",
    "\n",
    "IMPORTANT!! note that this P in the bottom line of the table is not the p-value, but \n",
    "\n",
    "p-value = 1-P"
   ]
  },
  {
   "cell_type": "code",
   "execution_count": 6,
   "metadata": {
    "ExecuteTime": {
     "end_time": "2018-10-03T03:56:28.851851Z",
     "start_time": "2018-10-03T03:56:28.732068Z"
    },
    "run_control": {
     "frozen": false,
     "read_only": false
    }
   },
   "outputs": [
    {
     "name": "stdout",
     "output_type": "stream",
     "text": [
      "is the p value 0.00 smaller than the critical value 0.05?\n",
      "YES!\n",
      "the Null hypothesis is rejected\n"
     ]
    }
   ],
   "source": [
    "## p-value for employment after 2 years: \n",
    "## since the largest number we read off the table for is (way) smaller \n",
    "## than the value for our statistic \n",
    "## our p-value will be smaller than it would be if calculated using \n",
    "## (e.g.) .9998 (and in fact using 1.0000 which is the largest number \n",
    "## in the table). Using 0.9998 is a **conservative** approach. \n",
    "\n",
    "p_2y = 1 - 0.9984\n",
    "\n",
    "\n",
    "def report_result(p,a):\n",
    "    print ('is the p value ' + \n",
    "           '{0:.2f} smaller than the critical value {1:.2f}?'.format(p,a))\n",
    "    if p < a:\n",
    "        print (\"YES!\")\n",
    "    else: \n",
    "        print (\"NO!\")\n",
    "    \n",
    "    print ('the Null hypothesis is {}'.format(\\\n",
    "                            'rejected' if p < a  else 'not rejected') )\n",
    "\n",
    "    \n",
    "report_result(p_2y, alpha)"
   ]
  },
  {
   "cell_type": "markdown",
   "metadata": {},
   "source": [
    "# Results of our test for the overall employment data:\n",
    "\n",
    "Since we have rejected the null hypothesis, we are saying that former prisoners who participate in the CEO program have a higher rate of employment than those who do not participate in the program and that this difference is real, statistically significant, and likely not due to chance. "
   ]
  },
  {
   "cell_type": "markdown",
   "metadata": {
    "run_control": {
     "frozen": false,
     "read_only": false
    }
   },
   "source": [
    "# what if we used the values for where the former inmate was or was not \"Convicted of a felony\" (row 10) in the Recidivism (Years 1-3)?\n",
    "\n",
    "## Null hypothesis:\n",
    "\n",
    "For those individuals from the study who experienced recidivism within 3 years and were convicted of a crime, individuals who received the CEO employment program training (program/test grou) are just as or more likely to be convicted of a felony as those who did not receive the full CEO employment training (control group).\n",
    "\n",
    "$H_0: P_0 - P_1 \\leq$    0 \n",
    "\n",
    "$H_a: P_0 - P_1 $ > 0    \n",
    "\n",
    " $P_0$ = The rate of felony convictions for the control group.\n",
    " \n",
    " $P_1$= The rate of felony convictions for the program/test group."
   ]
  },
  {
   "cell_type": "markdown",
   "metadata": {
    "run_control": {
     "frozen": false,
     "read_only": false
    }
   },
   "source": [
    " look up data table and insert the appropriate values to get the appropriate result! you can use the functions I defined above, with different arguments. "
   ]
  },
  {
   "cell_type": "code",
   "execution_count": 7,
   "metadata": {},
   "outputs": [
    {
     "name": "stdout",
     "output_type": "stream",
     "text": [
      "-0.846282982605\n"
     ]
    }
   ],
   "source": [
    "P_0=.117\n",
    "P_1=.1\n",
    "\n",
    "z_3y = zscore(P_1, P_0, se(p(P_0, P_1, n_0, n_1), n_0, n_1))\n",
    "print(z_3y)"
   ]
  },
  {
   "cell_type": "code",
   "execution_count": 8,
   "metadata": {},
   "outputs": [
    {
     "name": "stdout",
     "output_type": "stream",
     "text": [
      "is the p value 0.20 smaller than the critical value 0.05?\n",
      "NO!\n",
      "the Null hypothesis is not rejected\n"
     ]
    }
   ],
   "source": [
    "p_3y=1-.8023\n",
    "\n",
    "report_result(p_3y, alpha)"
   ]
  },
  {
   "cell_type": "markdown",
   "metadata": {},
   "source": [
    "# Result of analysis:\n",
    "\n",
    "Since we have not rejected the null, we must conclude that members of the test/program group were just as likely to have felony convictionions as members of the control group. In other words, the CEO program does not have a real effect on felony conviction rates for program participants."
   ]
  },
  {
   "cell_type": "markdown",
   "metadata": {
    "run_control": {
     "frozen": false,
     "read_only": false
    }
   },
   "source": [
    "# Now lets do it with the $\\chi^2$ test"
   ]
  },
  {
   "cell_type": "markdown",
   "metadata": {
    "run_control": {
     "frozen": false,
     "read_only": false
    }
   },
   "source": [
    "this analysis can also be done with the $\\chi^2$ test, and the  $\\chi^2$ distribution, \n",
    "\n",
    "see  flowcharts for how to choose a test and \"Statistics In a Nutshell Chapter 4\", or http://math.hws.edu/javamath/ryan/ChiSquare.html (if you are really just interested in the formula at face value)"
   ]
  },
  {
   "cell_type": "markdown",
   "metadata": {
    "run_control": {
     "frozen": false,
     "read_only": false
    }
   },
   "source": [
    "** The chisq statistics tests the statistics calculated as : **\n",
    "\n",
    "$\\chi^2 = \\sum_{i} \\frac{(observation_i - expectation_i)^2}{expectation_i}$\n",
    "\n",
    " against a chi sq distribution.\n",
    " If we talk about sample fractions  that is \n",
    "\n",
    "$\\chi^2 = \\sum_i \\frac{(f_{i,observed} - f_{i,expectated})^2}{f_{i,expected}}$\n",
    "\n",
    " Where _i_ indicates the sum over _each cell_.\n",
    " turns out this quantity is distributed according to a chi square distribution, so if i get the $\\chi^2$ statistics i can compare it to the full chisq distribution and see how far in the tail it is\n",
    "\n",
    " The trickiest part (but not that tricky) is to figure out how to construct the table of values. please see Statistics In a Nutshell Chapter 4, for our data for example: Thisis called a CONTINGENCY TABLE"
   ]
  },
  {
   "cell_type": "markdown",
   "metadata": {
    "run_control": {
     "frozen": false,
     "read_only": false
    }
   },
   "source": [
    "|                 |     success         | failure|    |               \n",
    "|-----------------|:-------------------:|:-------------------:|---------------------------|\n",
    "| test sample     | number of successes in test    | number of failures in test    | number members of test sample |\n",
    "| control sample  | number of successes in control | number of failures in control | number members of control sample| \n",
    "|                 | total successes                |  total failures               | number of all members         |\n",
    "\n",
    "|employed in subsadized job |     employed          | not employed     |                   \n",
    "|---------------------------|:---------------------:|------------------|---------------------------|\n",
    "| test sample               | $0.701*564$           | $0.299*564$      | 564                       |\n",
    "| control sample            | $0.035*409$           | $0.965*4.09$     | 409                       |\n",
    "|                           |                       |                  |                           |\n",
    "| total                     | 409.679               |  562.912         | 973                       |"
   ]
  },
  {
   "cell_type": "markdown",
   "metadata": {
    "run_control": {
     "frozen": false,
     "read_only": false
    }
   },
   "source": [
    " for each cell the expected ratio is the product of the total of all rows and all columns, devided by the total"
   ]
  },
  {
   "cell_type": "markdown",
   "metadata": {
    "run_control": {
     "frozen": false,
     "read_only": false
    }
   },
   "source": [
    "** FOR EACH CELL: **\n",
    "**  expected_cell = $\\frac{row~tot * col~tot}{total}$ **\n"
   ]
  },
  {
   "cell_type": "markdown",
   "metadata": {
    "run_control": {
     "frozen": false,
     "read_only": false
    }
   },
   "source": [
    "This number must be compared to the chi sq distribution. \n",
    "You must calculate the number of degrees of freedom forthis experiment. \n",
    "Generally: DOF = Number of observations - number of Independent Variables\n",
    "\n",
    "so here DOF = 1. Now you can look at the table below and draw conclusions about the rejection of the Null"
   ]
  },
  {
   "cell_type": "markdown",
   "metadata": {
    "run_control": {
     "frozen": false,
     "read_only": false
    }
   },
   "source": [
    "432 is hella larger then 3.84\n",
    "\n",
    "why am i mentioning 3.84?\n",
    "\n",
    "how does the chi square statistic that you derived compare?\n",
    "\n",
    "please  state what that means in terms of your Null hypothesis in a markdown cell below!"
   ]
  },
  {
   "cell_type": "markdown",
   "metadata": {
    "run_control": {
     "frozen": false,
     "read_only": false
    }
   },
   "source": [
    "# !!!!!! TODO FOR YOU!\n",
    "lets see what the chi sq statistics says about the conviction for fellonies (row 10)"
   ]
  },
  {
   "cell_type": "markdown",
   "metadata": {},
   "source": [
    "# Response:\n",
    "\n",
    "For the question above, regarding the note on 3.84, you have compared the Chi Square value of 432 from your sample data set to 3.84 because for one degree of freedom (which your sample data set has), a Chi Square value of 3.84 corresponds with an $\\alpha$ level of .05. A Chi Square value greater than 3.84 (for one degree of freedom) would correspond with an $\\alpha$ level less than .05. Therefore, we know that for the sample set the alpha level is less than .05 and we should reject the null hypothesis.\n",
    "\n",
    "See below for my Chi Square statistic for convicted felons who received the complete employment program from CEO and the control group, which received minimal assistance:"
   ]
  },
  {
   "cell_type": "code",
   "execution_count": 9,
   "metadata": {},
   "outputs": [
    {
     "name": "stdout",
     "output_type": "stream",
     "text": [
      "0.9\n",
      "0.883\n",
      "568.0\n",
      "409.0\n",
      "104.653\n",
      "872.347\n",
      "977\n"
     ]
    }
   ],
   "source": [
    "# Calculations for table\n",
    "ts = 568\n",
    "cs = 409\n",
    "t_p = .1\n",
    "c_p = .117\n",
    "t_no = 1 - t_p\n",
    "c_no = 1 - c_p\n",
    "t_tot = t_p*ts + t_no*ts\n",
    "c_tot = c_p*cs + c_no*cs\n",
    "y = t_p*ts + c_p*cs\n",
    "n = t_no*ts + c_no*cs\n",
    "tot = ts + cs\n",
    "print(t_no)\n",
    "print(c_no)\n",
    "print(t_tot)\n",
    "print(c_tot)\n",
    "print(y)\n",
    "print(n)\n",
    "print(tot)"
   ]
  },
  {
   "cell_type": "markdown",
   "metadata": {
    "run_control": {
     "frozen": false,
     "read_only": false
    }
   },
   "source": [
    "# Chi Square table for program and felony rate\n",
    "\n",
    "|convicted of a felony      |     yes   | no        |Total                   \n",
    "|---------------------------|-----------|-----------|----------------|\n",
    "| test sample               |$.1*568   $|$.9*568   $|$568           $|\n",
    "| control sample            |$.117*409 $|$.883*409 $|$409           $|\n",
    "|                           |           |           |                |\n",
    "| total                     |$104.653  $|$872.347  $|$977           $|"
   ]
  },
  {
   "cell_type": "code",
   "execution_count": 10,
   "metadata": {},
   "outputs": [
    {
     "name": "stdout",
     "output_type": "stream",
     "text": [
      "Chi Square stat: 0.7184939175052886\n"
     ]
    }
   ],
   "source": [
    "chi_pris = (tot*((t_p*ts*c_no*cs) - (t_no*ts*c_p*cs))**2)/(t_tot*c_tot*y*n)\n",
    "print(\"Chi Square stat: \" + str(chi_pris))"
   ]
  },
  {
   "cell_type": "markdown",
   "metadata": {
    "collapsed": true,
    "run_control": {
     "frozen": false,
     "read_only": false
    }
   },
   "source": [
    "# Analysis of felony rate Chi Square statistic\n",
    "\n",
    "Now that we have our Chi Square statistic of .718, we can go to our Chi Square distribution table and search for values in the row for one degree of freedom (since we have one degree of freedom in this case). Our Chi Square value of .718 does not match with an $\\alpha$ level listed on the table, but we can deduce that the $\\alpha$ is between .25 and .5 because the Chi Square statistics associated with those two $\\alpha$ values are below and above .718.\n",
    "\n",
    "Now that we know our Chi Square statistic corresponds with an $\\alpha$ value somewhere between .25 and .5, we must conclude that we are not rejecting the null hypothesis since we set our $\\alpha$ value at .05 for this study and the $\\alpha$ value we derived from the study is greater than our threshold.\n",
    "\n",
    "In conclusion, we cannot say with confidence that the CEO program has a real effect on the test/program group in terms of lowering their felony conviction rate. This conclusion matches our result from the z test."
   ]
  },
  {
   "cell_type": "code",
   "execution_count": 11,
   "metadata": {},
   "outputs": [
    {
     "name": "stdout",
     "output_type": "stream",
     "text": [
      "0.29900000000000004\n",
      "0.965\n",
      "564.0\n",
      "409.0\n",
      "409.679\n",
      "563.321\n",
      "973\n"
     ]
    }
   ],
   "source": [
    "# Calculations for table\n",
    "ts = 564\n",
    "cs = 409\n",
    "t_p = .701\n",
    "c_p = .035\n",
    "t_no = 1 - t_p\n",
    "c_no = 1 - c_p\n",
    "t_tot = t_p*ts + t_no*ts\n",
    "c_tot = c_p*cs + c_no*cs\n",
    "y = t_p*ts + c_p*cs\n",
    "n = t_no*ts + c_no*cs\n",
    "tot = ts + cs\n",
    "print(t_no)\n",
    "print(c_no)\n",
    "print(t_tot)\n",
    "print(c_tot)\n",
    "print(y)\n",
    "print(n)\n",
    "print(tot)"
   ]
  },
  {
   "cell_type": "code",
   "execution_count": 12,
   "metadata": {},
   "outputs": [
    {
     "name": "stdout",
     "output_type": "stream",
     "text": [
      "Chi Square stat: 431.38403295126477\n"
     ]
    }
   ],
   "source": [
    "chi_pris = (tot*((t_p*ts*c_no*cs) - (t_no*ts*c_p*cs))**2)/(t_tot*c_tot*y*n)\n",
    "print(\"Chi Square stat: \" + str(chi_pris))"
   ]
  },
  {
   "cell_type": "code",
   "execution_count": null,
   "metadata": {},
   "outputs": [],
   "source": []
  }
 ],
 "metadata": {
  "anaconda-cloud": {},
  "kernelspec": {
   "display_name": "PUI2016_Python3",
   "language": "python",
   "name": "pui2016_python3"
  },
  "language_info": {
   "codemirror_mode": {
    "name": "ipython",
    "version": 3
   },
   "file_extension": ".py",
   "mimetype": "text/x-python",
   "name": "python",
   "nbconvert_exporter": "python",
   "pygments_lexer": "ipython3",
   "version": "3.5.4"
  },
  "latex_envs": {
   "LaTeX_envs_menu_present": true,
   "bibliofile": "biblio.bib",
   "cite_by": "apalike",
   "current_citInitial": 1,
   "eqLabelWithNumbers": true,
   "eqNumInitial": 1,
   "hotkeys": {
    "equation": "Ctrl-E",
    "itemize": "Ctrl-I"
   },
   "labels_anchors": false,
   "latex_user_defs": false,
   "report_style_numbering": false,
   "user_envs_cfg": false
  },
  "toc": {
   "colors": {
    "hover_highlight": "#DAA520",
    "running_highlight": "#FF0000",
    "selected_highlight": "#FFD700"
   },
   "moveMenuLeft": true,
   "nav_menu": {
    "height": "513px",
    "width": "251px"
   },
   "navigate_menu": true,
   "number_sections": true,
   "sideBar": true,
   "threshold": 4,
   "toc_cell": false,
   "toc_section_display": "block",
   "toc_window_display": false
  }
 },
 "nbformat": 4,
 "nbformat_minor": 1
}
