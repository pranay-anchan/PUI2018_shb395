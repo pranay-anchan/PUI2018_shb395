{
 "cells": [
  {
   "cell_type": "code",
   "execution_count": 2,
   "metadata": {},
   "outputs": [],
   "source": [
    "from __future__ import print_function"
   ]
  },
  {
   "cell_type": "code",
   "execution_count": 3,
   "metadata": {},
   "outputs": [
    {
     "name": "stdout",
     "output_type": "stream",
     "text": [
      "Populating the interactive namespace from numpy and matplotlib\n"
     ]
    }
   ],
   "source": [
    "import os\n",
    "import numpy as np\n",
    "import pandas as pd\n",
    "import pylab as pl\n",
    "import matplotlib.pyplot as plt\n",
    "%pylab inline"
   ]
  },
  {
   "cell_type": "code",
   "execution_count": 12,
   "metadata": {},
   "outputs": [
    {
     "name": "stdout",
     "output_type": "stream",
     "text": [
      "14112\n"
     ]
    }
   ],
   "source": [
    "# Loading the csv data directly from the URL and finding the number of rows of data\n",
    "df = pd.read_csv(\"https://data.cityofnewyork.us/api/views/5gde-fmj3/rows.csv?accessType=DOWNLOAD\")\n",
    "print(len(df))"
   ]
  },
  {
   "cell_type": "code",
   "execution_count": 13,
   "metadata": {},
   "outputs": [
    {
     "data": {
      "text/html": [
       "<div>\n",
       "<style>\n",
       "    .dataframe thead tr:only-child th {\n",
       "        text-align: right;\n",
       "    }\n",
       "\n",
       "    .dataframe thead th {\n",
       "        text-align: left;\n",
       "    }\n",
       "\n",
       "    .dataframe tbody tr th {\n",
       "        vertical-align: top;\n",
       "    }\n",
       "</style>\n",
       "<table border=\"1\" class=\"dataframe\">\n",
       "  <thead>\n",
       "    <tr style=\"text-align: right;\">\n",
       "      <th></th>\n",
       "      <th>BBL</th>\n",
       "      <th>Street Number</th>\n",
       "      <th>Street Name</th>\n",
       "      <th>Borough</th>\n",
       "      <th>Postcode</th>\n",
       "      <th>Benchmarking Submission</th>\n",
       "      <th>Entry Number</th>\n",
       "      <th>Site EUI(kBtu/ft2)</th>\n",
       "      <th>Weather Normalized Source EUI(kBtu/ft2)</th>\n",
       "      <th>Indoor Water Intensity (All Water Sources)(gal/ft2)</th>\n",
       "      <th>...</th>\n",
       "      <th>Property Floor Area (Buildngs and Parking)(ft2)</th>\n",
       "      <th>Primary Property Type - Self Selected</th>\n",
       "      <th>Number of Buildings</th>\n",
       "      <th>BIN</th>\n",
       "      <th>Latitude</th>\n",
       "      <th>Longitude</th>\n",
       "      <th>Community Board</th>\n",
       "      <th>Council District</th>\n",
       "      <th>Census Tract</th>\n",
       "      <th>NTA</th>\n",
       "    </tr>\n",
       "  </thead>\n",
       "  <tbody>\n",
       "    <tr>\n",
       "      <th>0</th>\n",
       "      <td>1000010010</td>\n",
       "      <td>1.0</td>\n",
       "      <td>GOVERNORS ISLAND</td>\n",
       "      <td>MANHATTAN</td>\n",
       "      <td>10004</td>\n",
       "      <td>No Record as of 08/1/13</td>\n",
       "      <td>NaN</td>\n",
       "      <td>NaN</td>\n",
       "      <td>NaN</td>\n",
       "      <td>NaN</td>\n",
       "      <td>...</td>\n",
       "      <td>NaN</td>\n",
       "      <td>NaN</td>\n",
       "      <td>1</td>\n",
       "      <td>NaN</td>\n",
       "      <td>40.690096</td>\n",
       "      <td>-74.012866</td>\n",
       "      <td>1.0</td>\n",
       "      <td>1.0</td>\n",
       "      <td>5.0</td>\n",
       "      <td>park-cemetery-etc-Manhattan                   ...</td>\n",
       "    </tr>\n",
       "    <tr>\n",
       "      <th>1</th>\n",
       "      <td>1000020002</td>\n",
       "      <td>NaN</td>\n",
       "      <td>MARGINAL STREET</td>\n",
       "      <td>MANHATTAN</td>\n",
       "      <td>10004</td>\n",
       "      <td>No Record as of 08/1/13</td>\n",
       "      <td>NaN</td>\n",
       "      <td>NaN</td>\n",
       "      <td>NaN</td>\n",
       "      <td>NaN</td>\n",
       "      <td>...</td>\n",
       "      <td>NaN</td>\n",
       "      <td>NaN</td>\n",
       "      <td>0</td>\n",
       "      <td>NaN</td>\n",
       "      <td>NaN</td>\n",
       "      <td>NaN</td>\n",
       "      <td>NaN</td>\n",
       "      <td>NaN</td>\n",
       "      <td>NaN</td>\n",
       "      <td>NaN</td>\n",
       "    </tr>\n",
       "    <tr>\n",
       "      <th>2</th>\n",
       "      <td>1000047501</td>\n",
       "      <td>1.0</td>\n",
       "      <td>WATER STREET</td>\n",
       "      <td>MANHATTAN</td>\n",
       "      <td>10004</td>\n",
       "      <td>Yes</td>\n",
       "      <td>41.0</td>\n",
       "      <td>102.0</td>\n",
       "      <td>287.9</td>\n",
       "      <td>16.37</td>\n",
       "      <td>...</td>\n",
       "      <td>2428325.0</td>\n",
       "      <td>Office</td>\n",
       "      <td>1</td>\n",
       "      <td>1000005</td>\n",
       "      <td>40.702444</td>\n",
       "      <td>-74.012742</td>\n",
       "      <td>1.0</td>\n",
       "      <td>1.0</td>\n",
       "      <td>9.0</td>\n",
       "      <td>Battery Park City-Lower Manhattan             ...</td>\n",
       "    </tr>\n",
       "    <tr>\n",
       "      <th>3</th>\n",
       "      <td>1000057501</td>\n",
       "      <td>125.0</td>\n",
       "      <td>BROAD STREET</td>\n",
       "      <td>MANHATTAN</td>\n",
       "      <td>10004</td>\n",
       "      <td>Yes</td>\n",
       "      <td>3871.0</td>\n",
       "      <td>119.6</td>\n",
       "      <td>261.5</td>\n",
       "      <td>NaN</td>\n",
       "      <td>...</td>\n",
       "      <td>1338000.0</td>\n",
       "      <td>Office</td>\n",
       "      <td>1</td>\n",
       "      <td>1000006</td>\n",
       "      <td>40.702112</td>\n",
       "      <td>-74.011249</td>\n",
       "      <td>1.0</td>\n",
       "      <td>1.0</td>\n",
       "      <td>9.0</td>\n",
       "      <td>Battery Park City-Lower Manhattan             ...</td>\n",
       "    </tr>\n",
       "    <tr>\n",
       "      <th>4</th>\n",
       "      <td>1003620001</td>\n",
       "      <td>134.0</td>\n",
       "      <td>AVENUE D</td>\n",
       "      <td>MANHATTAN</td>\n",
       "      <td>10009</td>\n",
       "      <td>Yes</td>\n",
       "      <td>8312.0</td>\n",
       "      <td>30.3</td>\n",
       "      <td>85.7</td>\n",
       "      <td>1.57</td>\n",
       "      <td>...</td>\n",
       "      <td>5207812.0</td>\n",
       "      <td>Multifamily Housing</td>\n",
       "      <td>7</td>\n",
       "      <td>1077504;1077538;1077539;1077540;1077541;107754...</td>\n",
       "      <td>40.724447</td>\n",
       "      <td>-73.975464</td>\n",
       "      <td>3.0</td>\n",
       "      <td>2.0</td>\n",
       "      <td>24.0</td>\n",
       "      <td>Lower East Side                               ...</td>\n",
       "    </tr>\n",
       "    <tr>\n",
       "      <th>5</th>\n",
       "      <td>1000090001</td>\n",
       "      <td>34.0</td>\n",
       "      <td>WHITEHALL STREET</td>\n",
       "      <td>MANHATTAN</td>\n",
       "      <td>10004</td>\n",
       "      <td>Yes</td>\n",
       "      <td>8575.0</td>\n",
       "      <td>99.5</td>\n",
       "      <td>302.6</td>\n",
       "      <td>NaN</td>\n",
       "      <td>...</td>\n",
       "      <td>852840.0</td>\n",
       "      <td>Office</td>\n",
       "      <td>1</td>\n",
       "      <td>1000018</td>\n",
       "      <td>40.703034</td>\n",
       "      <td>-74.012991</td>\n",
       "      <td>1.0</td>\n",
       "      <td>1.0</td>\n",
       "      <td>9.0</td>\n",
       "      <td>Battery Park City-Lower Manhattan             ...</td>\n",
       "    </tr>\n",
       "    <tr>\n",
       "      <th>6</th>\n",
       "      <td>1000090014</td>\n",
       "      <td>17.0</td>\n",
       "      <td>STATE STREET</td>\n",
       "      <td>MANHATTAN</td>\n",
       "      <td>10004</td>\n",
       "      <td>Yes</td>\n",
       "      <td>735.0</td>\n",
       "      <td>79.7</td>\n",
       "      <td>210.0</td>\n",
       "      <td>NaN</td>\n",
       "      <td>...</td>\n",
       "      <td>574095.0</td>\n",
       "      <td>Office</td>\n",
       "      <td>1</td>\n",
       "      <td>1000020</td>\n",
       "      <td>40.702798</td>\n",
       "      <td>-74.014246</td>\n",
       "      <td>1.0</td>\n",
       "      <td>1.0</td>\n",
       "      <td>9.0</td>\n",
       "      <td>Battery Park City-Lower Manhattan             ...</td>\n",
       "    </tr>\n",
       "  </tbody>\n",
       "</table>\n",
       "<p>7 rows × 23 columns</p>\n",
       "</div>"
      ],
      "text/plain": [
       "          BBL  Street Number       Street Name    Borough  Postcode  \\\n",
       "0  1000010010            1.0  GOVERNORS ISLAND  MANHATTAN     10004   \n",
       "1  1000020002            NaN   MARGINAL STREET  MANHATTAN     10004   \n",
       "2  1000047501            1.0      WATER STREET  MANHATTAN     10004   \n",
       "3  1000057501          125.0      BROAD STREET  MANHATTAN     10004   \n",
       "4  1003620001          134.0          AVENUE D  MANHATTAN     10009   \n",
       "5  1000090001           34.0  WHITEHALL STREET  MANHATTAN     10004   \n",
       "6  1000090014           17.0      STATE STREET  MANHATTAN     10004   \n",
       "\n",
       "   Benchmarking Submission  Entry Number  Site EUI(kBtu/ft2)  \\\n",
       "0  No Record as of 08/1/13           NaN                 NaN   \n",
       "1  No Record as of 08/1/13           NaN                 NaN   \n",
       "2                      Yes          41.0               102.0   \n",
       "3                      Yes        3871.0               119.6   \n",
       "4                      Yes        8312.0                30.3   \n",
       "5                      Yes        8575.0                99.5   \n",
       "6                      Yes         735.0                79.7   \n",
       "\n",
       "   Weather Normalized Source EUI(kBtu/ft2)  \\\n",
       "0                                      NaN   \n",
       "1                                      NaN   \n",
       "2                                    287.9   \n",
       "3                                    261.5   \n",
       "4                                     85.7   \n",
       "5                                    302.6   \n",
       "6                                    210.0   \n",
       "\n",
       "   Indoor Water Intensity (All Water Sources)(gal/ft2)  \\\n",
       "0                                                NaN     \n",
       "1                                                NaN     \n",
       "2                                              16.37     \n",
       "3                                                NaN     \n",
       "4                                               1.57     \n",
       "5                                                NaN     \n",
       "6                                                NaN     \n",
       "\n",
       "                         ...                          \\\n",
       "0                        ...                           \n",
       "1                        ...                           \n",
       "2                        ...                           \n",
       "3                        ...                           \n",
       "4                        ...                           \n",
       "5                        ...                           \n",
       "6                        ...                           \n",
       "\n",
       "  Property Floor Area (Buildngs and Parking)(ft2)  \\\n",
       "0                                             NaN   \n",
       "1                                             NaN   \n",
       "2                                       2428325.0   \n",
       "3                                       1338000.0   \n",
       "4                                       5207812.0   \n",
       "5                                        852840.0   \n",
       "6                                        574095.0   \n",
       "\n",
       "  Primary Property Type - Self Selected  Number of Buildings  \\\n",
       "0                                   NaN                    1   \n",
       "1                                   NaN                    0   \n",
       "2                                Office                    1   \n",
       "3                                Office                    1   \n",
       "4                   Multifamily Housing                    7   \n",
       "5                                Office                    1   \n",
       "6                                Office                    1   \n",
       "\n",
       "                                                 BIN   Latitude  Longitude  \\\n",
       "0                                                NaN  40.690096 -74.012866   \n",
       "1                                                NaN        NaN        NaN   \n",
       "2                                            1000005  40.702444 -74.012742   \n",
       "3                                            1000006  40.702112 -74.011249   \n",
       "4  1077504;1077538;1077539;1077540;1077541;107754...  40.724447 -73.975464   \n",
       "5                                            1000018  40.703034 -74.012991   \n",
       "6                                            1000020  40.702798 -74.014246   \n",
       "\n",
       "  Community Board  Council District  Census Tract  \\\n",
       "0             1.0               1.0           5.0   \n",
       "1             NaN               NaN           NaN   \n",
       "2             1.0               1.0           9.0   \n",
       "3             1.0               1.0           9.0   \n",
       "4             3.0               2.0          24.0   \n",
       "5             1.0               1.0           9.0   \n",
       "6             1.0               1.0           9.0   \n",
       "\n",
       "                                                 NTA  \n",
       "0  park-cemetery-etc-Manhattan                   ...  \n",
       "1                                                NaN  \n",
       "2  Battery Park City-Lower Manhattan             ...  \n",
       "3  Battery Park City-Lower Manhattan             ...  \n",
       "4  Lower East Side                               ...  \n",
       "5  Battery Park City-Lower Manhattan             ...  \n",
       "6  Battery Park City-Lower Manhattan             ...  \n",
       "\n",
       "[7 rows x 23 columns]"
      ]
     },
     "execution_count": 13,
     "metadata": {},
     "output_type": "execute_result"
    }
   ],
   "source": [
    "# Printing the top 7 rows\n",
    "df.head(7)"
   ]
  },
  {
   "cell_type": "code",
   "execution_count": 7,
   "metadata": {},
   "outputs": [
    {
     "name": "stdout",
     "output_type": "stream",
     "text": [
      "['BBL', 'Street Number', 'Street Name', 'Borough', 'Postcode', 'Benchmarking Submission', 'Entry Number', 'Site EUI(kBtu/ft2)', 'Weather Normalized Source EUI(kBtu/ft2)', 'Indoor Water Intensity (All Water Sources)(gal/ft2)', 'Reported Water Method', 'ENERGY STAR Score', 'Total GHG Emissions(MtCO2e)', 'Property Floor Area (Buildngs and Parking)(ft2)', 'Primary Property Type - Self Selected', 'Number of Buildings', 'BIN', 'Latitude', 'Longitude', 'Community Board', 'Council District', 'Census Tract', 'NTA']\n"
     ]
    }
   ],
   "source": [
    "# Getting the list of all column headers\n",
    "print(list(df))"
   ]
  },
  {
   "cell_type": "code",
   "execution_count": 116,
   "metadata": {},
   "outputs": [
    {
     "data": {
      "text/html": [
       "<div>\n",
       "<style>\n",
       "    .dataframe thead tr:only-child th {\n",
       "        text-align: right;\n",
       "    }\n",
       "\n",
       "    .dataframe thead th {\n",
       "        text-align: left;\n",
       "    }\n",
       "\n",
       "    .dataframe tbody tr th {\n",
       "        vertical-align: top;\n",
       "    }\n",
       "</style>\n",
       "<table border=\"1\" class=\"dataframe\">\n",
       "  <thead>\n",
       "    <tr style=\"text-align: right;\">\n",
       "      <th></th>\n",
       "      <th>Site EUI(kBtu/ft2)</th>\n",
       "      <th>Total GHG Emissions(MtCO2e)</th>\n",
       "    </tr>\n",
       "  </thead>\n",
       "  <tbody>\n",
       "    <tr>\n",
       "      <th>0</th>\n",
       "      <td>NaN</td>\n",
       "      <td>NaN</td>\n",
       "    </tr>\n",
       "    <tr>\n",
       "      <th>1</th>\n",
       "      <td>NaN</td>\n",
       "      <td>NaN</td>\n",
       "    </tr>\n",
       "    <tr>\n",
       "      <th>2</th>\n",
       "      <td>102.0</td>\n",
       "      <td>25932.68</td>\n",
       "    </tr>\n",
       "    <tr>\n",
       "      <th>3</th>\n",
       "      <td>119.6</td>\n",
       "      <td>11637.42</td>\n",
       "    </tr>\n",
       "    <tr>\n",
       "      <th>4</th>\n",
       "      <td>30.3</td>\n",
       "      <td>13709.99</td>\n",
       "    </tr>\n",
       "    <tr>\n",
       "      <th>5</th>\n",
       "      <td>99.5</td>\n",
       "      <td>7771.16</td>\n",
       "    </tr>\n",
       "    <tr>\n",
       "      <th>6</th>\n",
       "      <td>79.7</td>\n",
       "      <td>4033.53</td>\n",
       "    </tr>\n",
       "  </tbody>\n",
       "</table>\n",
       "</div>"
      ],
      "text/plain": [
       "   Site EUI(kBtu/ft2)  Total GHG Emissions(MtCO2e)\n",
       "0                 NaN                          NaN\n",
       "1                 NaN                          NaN\n",
       "2               102.0                     25932.68\n",
       "3               119.6                     11637.42\n",
       "4                30.3                     13709.99\n",
       "5                99.5                      7771.16\n",
       "6                79.7                      4033.53"
      ]
     },
     "execution_count": 116,
     "metadata": {},
     "output_type": "execute_result"
    }
   ],
   "source": [
    "# Removing all columns from the dataframe except for the two numerical columns I want to keep\n",
    "df = df[['Site EUI(kBtu/ft2)','Total GHG Emissions(MtCO2e)']]\n",
    "df.head(7)"
   ]
  },
  {
   "cell_type": "code",
   "execution_count": 117,
   "metadata": {},
   "outputs": [
    {
     "data": {
      "image/png": "[encoded data removed]",
      "text/plain": [
       "<matplotlib.figure.Figure at 0x7f60f4978c18>"
      ]
     },
     "metadata": {},
     "output_type": "display_data"
    }
   ],
   "source": [
    "# Plotting the data\n",
    "df.plot(kind='scatter',x='Site EUI(kBtu/ft2)',y='Total GHG Emissions(MtCO2e)')\n",
    "plt.show()"
   ]
  },
  {
   "cell_type": "markdown",
   "metadata": {},
   "source": [
    "## Data Overview:\n",
    "\n",
    "This data set, published on NYC Open Data, includes the annual energy and water usage for commercial and residential buildings in NYC. Note that the data does not include the energy and water usage for all buildings in NYC, only \"tax lots with a single building with a gross floor area greater than 50,000 sq ft and tax lots having more than one building with a gross floor area of more than 100,000 sq ft.\" Also note that the energy and water usage amounts are self-reported.\n",
    "\n",
    "### Initial Analysis:\n",
    "\n",
    "The plot above reflects two columns from the original data set: the amount of energy consumed at a particular building per square foot and the total direct and indirect greenhouse gases emitted due to energy used by the property. However, as you can see in the plot above, outliers make the plot difficult to interpret. Therefore, in the next few cells, I calculated the mean and standard deviation for the energy usage per square foot (the x axis) and then replot the data in order to make it more intelligible."
   ]
  },
  {
   "cell_type": "code",
   "execution_count": 118,
   "metadata": {},
   "outputs": [
    {
     "name": "stdout",
     "output_type": "stream",
     "text": [
      "441.91851183\n",
      "6792.63589531\n"
     ]
    }
   ],
   "source": [
    "# Since the above plot is skewed by outliers, find the mean and standard deviation for the plot below.\n",
    "mn = df['Site EUI(kBtu/ft2)'].mean()\n",
    "sd = df['Site EUI(kBtu/ft2)'].std()\n",
    "print(mn)\n",
    "print(sd)"
   ]
  },
  {
   "cell_type": "code",
   "execution_count": 119,
   "metadata": {},
   "outputs": [],
   "source": [
    "# Creating a new dataframe that only includes points on the x axis that are below or above 2 standard deviations\n",
    "# from the mean.\n",
    "df_no_outliers = df[(df['Site EUI(kBtu/ft2)'] >= mn - 2*sd) & (df['Site EUI(kBtu/ft2)'] <= mn + 2*sd)]"
   ]
  },
  {
   "cell_type": "code",
   "execution_count": 120,
   "metadata": {},
   "outputs": [
    {
     "name": "stdout",
     "output_type": "stream",
     "text": [
      "13880.3\n",
      "0.0\n"
     ]
    }
   ],
   "source": [
    "print(df_no_outliers['Site EUI(kBtu/ft2)'].max())\n",
    "print(df_no_outliers['Site EUI(kBtu/ft2)'].min())"
   ]
  },
  {
   "cell_type": "code",
   "execution_count": 122,
   "metadata": {},
   "outputs": [
    {
     "data": {
      "image/png": "[encoded data removed]",
      "text/plain": [
       "<matplotlib.figure.Figure at 0x7f60f4888c50>"
      ]
     },
     "metadata": {},
     "output_type": "display_data"
    }
   ],
   "source": [
    "df_no_outliers.plot(kind='scatter',x='Site EUI(kBtu/ft2)',y='Total GHG Emissions(MtCO2e)')\n",
    "plt.show()"
   ]
  },
  {
   "cell_type": "markdown",
   "metadata": {},
   "source": [
    "### Interpretation:\n",
    "\n",
    "Even after reducing the data on the x axis to within 2 standard deviations of the mean, the plot is still difficult to interpret. In the final cells (below), I only include data in which the x value is greater than 1."
   ]
  },
  {
   "cell_type": "code",
   "execution_count": 123,
   "metadata": {},
   "outputs": [],
   "source": [
    "# Reducing the dataframe to only include data with an x value greater than 1.\n",
    "df_no_outliers = df_no_outliers[df_no_outliers['Site EUI(kBtu/ft2)'] > 1]"
   ]
  },
  {
   "cell_type": "code",
   "execution_count": 124,
   "metadata": {},
   "outputs": [
    {
     "data": {
      "image/png": "[encoded data removed]",
      "text/plain": [
       "<matplotlib.figure.Figure at 0x7f60f47cb2b0>"
      ]
     },
     "metadata": {},
     "output_type": "display_data"
    }
   ],
   "source": [
    "# Final plot with logarithmic scales for the x and y axis\n",
    "df_no_outliers.plot(kind='scatter',x='Site EUI(kBtu/ft2)',y='Total GHG Emissions(MtCO2e)', logx=True, logy=True)\n",
    "plt.show()"
   ]
  },
  {
   "cell_type": "markdown",
   "metadata": {},
   "source": [
    "## Final Analysis:\n",
    "\n",
    "As you can see in the plot above, there is a strong positive correlation between the energy usage of a particular building and the total amount of greenhouse gas emissions produced by that property. This result makes sense intuitively."
   ]
  }
 ],
 "metadata": {
  "kernelspec": {
   "display_name": "ucsl17_python3",
   "language": "python",
   "name": "ucsl17_python3"
  },
  "language_info": {
   "codemirror_mode": {
    "name": "ipython",
    "version": 3
   },
   "file_extension": ".py",
   "mimetype": "text/x-python",
   "name": "python",
   "nbconvert_exporter": "python",
   "pygments_lexer": "ipython3",
   "version": "3.6.2"
  }
 },
 "nbformat": 4,
 "nbformat_minor": 2
}
