{
 "cells": [
  {
   "cell_type": "code",
   "execution_count": 1,
   "metadata": {},
   "outputs": [
    {
     "name": "stdout",
     "output_type": "stream",
     "text": [
      "Populating the interactive namespace from numpy and matplotlib\n"
     ]
    },
    {
     "name": "stderr",
     "output_type": "stream",
     "text": [
      "/usr/local/Anaconda3-5.0.0-Linux-x86_64/envs/PUI2016_Python3/lib/python3.5/site-packages/IPython/core/magics/pylab.py:161: UserWarning: pylab import has clobbered these variables: ['plt']\n",
      "`%matplotlib` prevents importing * from pylab and numpy\n",
      "  \"\\n`%matplotlib` prevents importing * from pylab and numpy\"\n"
     ]
    }
   ],
   "source": [
    "import os\n",
    "import urllib.request\n",
    "from urllib.request import urlopen as urlopen\n",
    "import geopandas as gpd\n",
    "import json\n",
    "import matplotlib.pylab as plt\n",
    "import requests\n",
    "import numpy as np\n",
    "import pandas as pd\n",
    "import shapely\n",
    "import io\n",
    "from io import BytesIO\n",
    "from fiona.crs import from_epsg\n",
    "from geopandas.tools import sjoin\n",
    "\n",
    "%pylab inline"
   ]
  },
  {
   "cell_type": "code",
   "execution_count": 2,
   "metadata": {},
   "outputs": [],
   "source": [
    "os.environ[\"PUIdata\"] = \"{}/PUIdata\".format(os.getenv(\"HOME\"))"
   ]
  },
  {
   "cell_type": "markdown",
   "metadata": {},
   "source": [
    "# 1. PUMA : Public Use Microdata Area"
   ]
  },
  {
   "cell_type": "markdown",
   "metadata": {},
   "source": [
    "### 1.1 Download the NYC Public Use Microdata Areas (PUMA) geometry from the NYC Open Data API and read it in with geopandas"
   ]
  },
  {
   "cell_type": "code",
   "execution_count": 3,
   "metadata": {},
   "outputs": [],
   "source": [
    "# Clear out any old versions of the NYC spatial data\n",
    "!if [ -f file.gz ]; then rm -r file.gz; fi\n",
    "!if [ $PUIDATA/puma ]; then rm -r $PUIDATA/puma; fi"
   ]
  },
  {
   "cell_type": "code",
   "execution_count": 4,
   "metadata": {},
   "outputs": [
    {
     "data": {
      "text/plain": [
       "('file.gz', <http.client.HTTPMessage at 0x7f60d9f7d978>)"
      ]
     },
     "execution_count": 4,
     "metadata": {},
     "output_type": "execute_result"
    }
   ],
   "source": [
    "# Download data\n",
    "urllib.request.urlretrieve('https://data.cityofnewyork.us/api/geospatial/cwiz-gcty?'\\\n",
    "                           + 'method=export&format=Shapefile', \"file.gz\")"
   ]
  },
  {
   "cell_type": "code",
   "execution_count": 5,
   "metadata": {},
   "outputs": [
    {
     "name": "stdout",
     "output_type": "stream",
     "text": [
      "Archive:  file.gz\n",
      "  inflating: /nfshome/shb395/PUIdata/puma/geo_export_b7f65807-da45-433b-9b97-b4680f684253.dbf  \n",
      "  inflating: /nfshome/shb395/PUIdata/puma/geo_export_b7f65807-da45-433b-9b97-b4680f684253.shp  \n",
      "  inflating: /nfshome/shb395/PUIdata/puma/geo_export_b7f65807-da45-433b-9b97-b4680f684253.shx  \n",
      "  inflating: /nfshome/shb395/PUIdata/puma/geo_export_b7f65807-da45-433b-9b97-b4680f684253.prj  \n"
     ]
    }
   ],
   "source": [
    "# Unzip to PUIData\n",
    "!unzip file.gz -d $PUIdata/puma\n",
    "!cd $PUIdata/puma"
   ]
  },
  {
   "cell_type": "code",
   "execution_count": 6,
   "metadata": {},
   "outputs": [
    {
     "name": "stdout",
     "output_type": "stream",
     "text": [
      "['geo_export_b7f65807-da45-433b-9b97-b4680f684253.dbf', 'geo_export_b7f65807-da45-433b-9b97-b4680f684253.prj', 'geo_export_b7f65807-da45-433b-9b97-b4680f684253.shp', 'geo_export_b7f65807-da45-433b-9b97-b4680f684253.shx']\n"
     ]
    }
   ],
   "source": [
    "# Get list of files in file.gz\n",
    "files = !ls $PUIdata/puma\n",
    "print(files)"
   ]
  },
  {
   "cell_type": "code",
   "execution_count": 7,
   "metadata": {},
   "outputs": [
    {
     "data": {
      "text/html": [
       "<div>\n",
       "<table border=\"1\" class=\"dataframe\">\n",
       "  <thead>\n",
       "    <tr style=\"text-align: right;\">\n",
       "      <th></th>\n",
       "      <th>puma</th>\n",
       "      <th>shape_area</th>\n",
       "      <th>shape_leng</th>\n",
       "      <th>geometry</th>\n",
       "    </tr>\n",
       "  </thead>\n",
       "  <tbody>\n",
       "    <tr>\n",
       "      <th>0</th>\n",
       "      <td>3701</td>\n",
       "      <td>9.792852e+07</td>\n",
       "      <td>53227.144461</td>\n",
       "      <td>POLYGON ((-73.89641133483133 40.90450452082026...</td>\n",
       "    </tr>\n",
       "    <tr>\n",
       "      <th>1</th>\n",
       "      <td>3702</td>\n",
       "      <td>1.889860e+08</td>\n",
       "      <td>106050.002302</td>\n",
       "      <td>POLYGON ((-73.8442314689986 40.86942035096838,...</td>\n",
       "    </tr>\n",
       "    <tr>\n",
       "      <th>2</th>\n",
       "      <td>3703</td>\n",
       "      <td>2.670137e+08</td>\n",
       "      <td>304071.257466</td>\n",
       "      <td>(POLYGON ((-73.78833349834532 40.8346671297593...</td>\n",
       "    </tr>\n",
       "    <tr>\n",
       "      <th>3</th>\n",
       "      <td>3704</td>\n",
       "      <td>1.062129e+08</td>\n",
       "      <td>47970.901277</td>\n",
       "      <td>POLYGON ((-73.84792614069238 40.8713422330779,...</td>\n",
       "    </tr>\n",
       "    <tr>\n",
       "      <th>4</th>\n",
       "      <td>4015</td>\n",
       "      <td>8.105438e+07</td>\n",
       "      <td>50007.415493</td>\n",
       "      <td>POLYGON ((-73.95374853778468 40.63858633758547...</td>\n",
       "    </tr>\n",
       "  </tbody>\n",
       "</table>\n",
       "</div>"
      ],
      "text/plain": [
       "   puma    shape_area     shape_leng  \\\n",
       "0  3701  9.792852e+07   53227.144461   \n",
       "1  3702  1.889860e+08  106050.002302   \n",
       "2  3703  2.670137e+08  304071.257466   \n",
       "3  3704  1.062129e+08   47970.901277   \n",
       "4  4015  8.105438e+07   50007.415493   \n",
       "\n",
       "                                            geometry  \n",
       "0  POLYGON ((-73.89641133483133 40.90450452082026...  \n",
       "1  POLYGON ((-73.8442314689986 40.86942035096838,...  \n",
       "2  (POLYGON ((-73.78833349834532 40.8346671297593...  \n",
       "3  POLYGON ((-73.84792614069238 40.8713422330779,...  \n",
       "4  POLYGON ((-73.95374853778468 40.63858633758547...  "
      ]
     },
     "execution_count": 7,
     "metadata": {},
     "output_type": "execute_result"
    }
   ],
   "source": [
    "# Load the shapefile and convert puma column to ints for later merge\n",
    "shp = files[2]\n",
    "loc = os.environ[\"PUIdata\"] + '/puma/' + shp\n",
    "pumashp = gpd.GeoDataFrame.from_file(loc)\n",
    "pumashp['puma'] = pumashp['puma'].astype('int')\n",
    "pumashp.head()"
   ]
  },
  {
   "cell_type": "markdown",
   "metadata": {},
   "source": [
    "### 1.2 plot the PUMA NYC regions"
   ]
  },
  {
   "cell_type": "code",
   "execution_count": 8,
   "metadata": {},
   "outputs": [
    {
     "data": {
      "image/png": "[encoded data removed]",
      "text/plain": [
       "<matplotlib.figure.Figure at 0x7f60cfefd550>"
      ]
     },
     "metadata": {},
     "output_type": "display_data"
    }
   ],
   "source": [
    "f, ax = plt.subplots(figsize=(10,10))\n",
    "ax.get_xaxis().set_visible(False)\n",
    "ax.get_yaxis().set_visible(False)\n",
    "pumashp.plot(alpha=1,linewidth=0.5,ax=ax,color='w',edgecolor='black')\n",
    "plt.title(\"NYC PUMAs\", fontsize=20)\n",
    "plt.show()"
   ]
  },
  {
   "cell_type": "markdown",
   "metadata": {},
   "source": [
    "## Note on above plot:\n",
    "\n",
    "This is a plot of every Public Use Microdata Area (PUMA) in NYC. PUMAs are statistical geographic areas defined for the dissemination of Public Use Microdata Sample (PUMS) data. PUMAs have a minimum population of 100,000, are aggregated from census tracts, and approximate Community Districts (CDs), or combinations of CDs. This geography is also used for disseminating American Community Survey (ACS) estimates."
   ]
  },
  {
   "cell_type": "markdown",
   "metadata": {},
   "source": [
    "# 2. American Fact Finder data on percentage of houses with broadband internet access"
   ]
  },
  {
   "cell_type": "markdown",
   "metadata": {},
   "source": [
    "### 2.1 Get data with American Fact Finder (AFF) API:"
   ]
  },
  {
   "cell_type": "code",
   "execution_count": 9,
   "metadata": {},
   "outputs": [],
   "source": [
    "#read in in the variables available. the info you need is in the 1year ACS data\n",
    "url = \"https://api.census.gov/data/2016/acs/acs1/variables.json\"\n",
    "resp = requests.request('GET', url)\n",
    "aff1y = json.loads(resp.text)"
   ]
  },
  {
   "cell_type": "code",
   "execution_count": 10,
   "metadata": {},
   "outputs": [],
   "source": [
    "affkeys = np.array(list(aff1y['variables'].keys()))"
   ]
  },
  {
   "cell_type": "code",
   "execution_count": 11,
   "metadata": {},
   "outputs": [
    {
     "name": "stdout",
     "output_type": "stream",
     "text": [
      "['B11004_004E' 'B08526_072E' 'B24122_366E' ..., 'B23003_012E'\n",
      " 'B17001G_059E' 'B12002G_013E']\n"
     ]
    }
   ],
   "source": [
    "print(affkeys)"
   ]
  },
  {
   "cell_type": "code",
   "execution_count": 12,
   "metadata": {},
   "outputs": [
    {
     "data": {
      "text/plain": [
       "[('B28002_007E',\n",
       "  'Estimate!!Total!!With an Internet subscription!!Broadband such as cable, fiber optic or DSL'),\n",
       " ('B28002_004E',\n",
       "  'Estimate!!Total!!With an Internet subscription!!Broadband of any type'),\n",
       " ('B28002_008E',\n",
       "  'Estimate!!Total!!With an Internet subscription!!Broadband such as cable, fiber optic or DSL!!Broadband such as cable, fiber optic or DSL with no other type of Internet subscription')]"
      ]
     },
     "execution_count": 12,
     "metadata": {},
     "output_type": "execute_result"
    }
   ],
   "source": [
    "[(k, aff1y['variables'][k]['label'])  for k in affkeys if k.startswith (\"B28002\") and \n",
    " 'Broadband' in aff1y['variables'][k]['label']]"
   ]
  },
  {
   "cell_type": "code",
   "execution_count": 13,
   "metadata": {},
   "outputs": [
    {
     "data": {
      "text/plain": [
       "{'attributes': 'B28002_001M,B28002_001EA',\n",
       " 'concept': 'PRESENCE AND TYPES OF INTERNET SUBSCRIPTIONS IN HOUSEHOLD',\n",
       " 'group': 'B28002',\n",
       " 'label': 'Estimate!!Total',\n",
       " 'limit': 0,\n",
       " 'predicateType': 'int'}"
      ]
     },
     "execution_count": 13,
     "metadata": {},
     "output_type": "execute_result"
    }
   ],
   "source": [
    "# Keyword for the number of households\n",
    "keyNhouseholds = 'B28002_001E'\n",
    "aff1y['variables'][keyNhouseholds]"
   ]
  },
  {
   "cell_type": "code",
   "execution_count": 14,
   "metadata": {},
   "outputs": [
    {
     "data": {
      "text/plain": [
       "{'attributes': 'B28002_004M,B28002_004EA',\n",
       " 'concept': 'PRESENCE AND TYPES OF INTERNET SUBSCRIPTIONS IN HOUSEHOLD',\n",
       " 'group': 'B28002',\n",
       " 'label': 'Estimate!!Total!!With an Internet subscription!!Broadband of any type',\n",
       " 'limit': 0,\n",
       " 'predicateType': 'int'}"
      ]
     },
     "execution_count": 14,
     "metadata": {},
     "output_type": "execute_result"
    }
   ],
   "source": [
    "# Keyword for the number of households with broadband access\n",
    "keyNBB = 'B28002_004E'\n",
    "aff1y['variables'][keyNBB]"
   ]
  },
  {
   "cell_type": "code",
   "execution_count": 15,
   "metadata": {},
   "outputs": [
    {
     "name": "stdout",
     "output_type": "stream",
     "text": [
      "b'[[\"B28002_001E\",\"NAME\",\"state\",\"public use microdata area\"],\\n[\"40479\",\"St. Lawrence County PUMA, New York\",\"36\",\"00100\"],\\n[\"67092\",\"Clinton, Franklin, Essex & Hamilton Counties PUMA; New York\",\"36\",\"00200\"],\\n[\"51614\",\"Warren & Washington Counties PUMA, New York\",\"36\",\"00300\"],\\n[\"44300\",\"Herkimer (North & Central) & Oneida (Outer) Counties PUMA, New York\",\"36\",\"00401\"],\\n[\"61146\",\"Oneida County (Central)--Greater Utica & Rome Cities PUMA, New York\",\"36\",\"00402\"],\\n[\"42081\",\"Otsego, Schoharie, Oneida (South) & Herkimer (South) Counties PUMA; New York\",\"36\",\"00403\"],\\n[\"50860\",\"Jefferson & Lewis Counties PUMA, New York\",\"36\",\"00500\"],\\n[\"44633\",\"Oswego County PUMA, New York\",\"36\",\"00600\"],\\n[\"56295\",\"Onondaga County (Central)--Syracuse City PUMA, New York\",\"36\",\"00701\"],\\n[\"47988\",\"Onondaga County (North) PUMA, New York\",\"36\",\"00702\"],\\n[\"65650\",\"Onondaga County (Central)--Syracuse City (Outer) PUMA, New York\",\"36\",\"00703\"],\\n[\"44017\",\"Cayuga & Onondaga (South) Counties PUMA, New York\",\"36\",\"00704\"],\\n[\"50496\",\"Wayne & Seneca Counties PUMA, New York\",\"36\",\"00800\"],\\n[\"54567\",\"Monroe County (East) PUMA, New York\",\"36\",\"00901\"],\\n[\"47005\",\"Monroe County (Central)--Rochester City (East) PUMA, New York\",\"36\",\"00902\"],\\n[\"37435\",\"Monroe County (Central)--Rochester City (West) PUMA, New York\",\"36\",\"00903\"],\\n[\"53507\",\"Monroe County (Central)--Greece & Gates Towns PUMA, New York\",\"36\",\"00904\"],\\n[\"39808\",\"Monroe County (North & West) PUMA, New York\",\"36\",\"00905\"],\\n[\"66902\",\"Monroe County (South) PUMA, New York\",\"36\",\"00906\"],\\n[\"39793\",\"Genesee & Orleans Counties PUMA, New York\",\"36\",\"01000\"],\\n[\"44915\",\"Niagara County (Southwest)--Greater Niagara Falls & North Tonawanda Area PUMA, New York\",\"36\",\"01101\"],\\n[\"41871\",\"Niagara County (North & East) PUMA, New York\",\"36\",\"01102\"],\\n[\"44657\",\"Erie County (Northwest) PUMA, New York\",\"36\",\"01201\"],\\n[\"50286\",\"Erie County (North Central) PUMA, New York\",\"36\",\"01202\"],\\n[\"46712\",\"Erie County (Northeast) PUMA, New York\",\"36\",\"01203\"],\\n[\"66143\",\"Erie County (Central) PUMA, New York\",\"36\",\"01204\"],\\n[\"58418\",\"Erie County (West Central)--Buffalo City (East) PUMA, New York\",\"36\",\"01205\"],\\n[\"47721\",\"Erie County (West Central)--Buffalo City (West) PUMA, New York\",\"36\",\"01206\"],\\n[\"66536\",\"Erie County (South) PUMA, New York\",\"36\",\"01207\"],\\n[\"39642\",\"Livingston & Wyoming Counties PUMA, New York\",\"36\",\"01300\"],\\n[\"53915\",\"Ontario & Yates Counties PUMA, New York\",\"36\",\"01400\"],\\n[\"42758\",\"Madison & Cortland Counties PUMA, New York\",\"36\",\"01500\"],\\n[\"42734\",\"Fulton & Montgomery Counties PUMA, New York\",\"36\",\"01600\"],\\n[\"48720\",\"Schenectady County--Schenectady City PUMA, New York\",\"36\",\"01700\"],\\n[\"44377\",\"Saratoga County (South & Central) PUMA, New York\",\"36\",\"01801\"],\\n[\"49326\",\"Saratoga County (Outer) PUMA, New York\",\"36\",\"01802\"],\\n[\"62816\",\"Rensselaer County--Troy City PUMA, New York\",\"36\",\"01900\"],\\n[\"44892\",\"Albany County (East Central)--Albany City PUMA, New York\",\"36\",\"02001\"],\\n[\"80437\",\"Albany County (Outside Albany City) PUMA, New York\",\"36\",\"02002\"],\\n[\"41558\",\"Columbia & Greene Counties PUMA, New York\",\"36\",\"02100\"],\\n[\"50253\",\"Broome County (West Central)--Greater Binghamton City & Greater Johnson City Village PUMA, New York\",\"36\",\"02201\"],\\n[\"41883\",\"Broome (Outer West) & Tioga Counties PUMA, New York\",\"36\",\"02202\"],\\n[\"42770\",\"Chenango, Delaware & Broome (East) Counties PUMA; New York\",\"36\",\"02203\"],\\n[\"37683\",\"Tompkins County PUMA, New York\",\"36\",\"02300\"],\\n[\"41759\",\"Chemung (South) & Steuben (East) Counties--Greater Elmira & Greater Corning Cities PUMA, New York\",\"36\",\"02401\"],\\n[\"37389\",\"Steuben (North & West), Schuyler & Chemung (North) Counties PUMA; New York\",\"36\",\"02402\"],\\n[\"49474\",\"Cattaraugus & Allegany Counties PUMA, New York\",\"36\",\"02500\"],\\n[\"51705\",\"Chautauqua County PUMA, New York\",\"36\",\"02600\"],\\n[\"36989\",\"Sullivan & Ulster (West) Counties PUMA, New York\",\"36\",\"02701\"],\\n[\"56340\",\"Ulster County (East) PUMA, New York\",\"36\",\"02702\"],\\n[\"44811\",\"Dutchess County (North & East) PUMA, New York\",\"36\",\"02801\"],\\n[\"63389\",\"Dutchess County (Southwest) PUMA, New York\",\"36\",\"02802\"],\\n[\"43781\",\"Orange County (Northeast)--Greater Newburgh City PUMA, New York\",\"36\",\"02901\"],\\n[\"41041\",\"Orange County (Northwest) PUMA, New York\",\"36\",\"02902\"],\\n[\"39543\",\"Orange County (Southeast) PUMA, New York\",\"36\",\"02903\"],\\n[\"34028\",\"Rockland County (North)--New City & Congers PUMA, New York\",\"36\",\"03001\"],\\n[\"36245\",\"Rockland County (South)--Orangetown, Clarkstown (South) & Ramapo (Southeast) Towns PUMA; New York\",\"36\",\"03002\"],\\n[\"28984\",\"Rockland County (West)--Spring Valley, Suffern Villages & Monsey PUMA; New York\",\"36\",\"03003\"],\\n[\"35871\",\"Putnam County PUMA, New York\",\"36\",\"03101\"],\\n[\"50768\",\"Westchester County (Northwest) PUMA, New York\",\"36\",\"03102\"],\\n[\"47931\",\"Westchester County (Northeast) PUMA, New York\",\"36\",\"03103\"],\\n[\"39625\",\"Westchester County (Southeast) PUMA, New York\",\"36\",\"03104\"],\\n[\"60389\",\"Westchester County (Central)--White Plains City PUMA, New York\",\"36\",\"03105\"],\\n[\"72040\",\"Westchester County (Southwest)--Yonkers City PUMA, New York\",\"36\",\"03106\"],\\n[\"70354\",\"Westchester County (South Central)--New Rochelle & Mount Vernon Cities PUMA, New York\",\"36\",\"03107\"],\\n[\"39823\",\"Nassau County (Northwest)--North Hempstead Town (North) PUMA, New York\",\"36\",\"03201\"],\\n[\"39271\",\"Nassau County (Northeast)--Oyster Bay Town (North) & Glen Cove City PUMA, New York\",\"36\",\"03202\"],\\n[\"33458\",\"Nassau County (East Central)--Oyster Bay Town (Central) PUMA, New York\",\"36\",\"03203\"],\\n[\"35830\",\"Nassau County (West Central)--North Hempstead Town (South) PUMA, New York\",\"36\",\"03204\"],\\n[\"34492\",\"Nassau County (West Central)--Hempstead Town (Northwest) PUMA, New York\",\"36\",\"03205\"],\\n[\"39362\",\"Nassau County (Central)--Hempstead Town (North Central)--Meadowbrook Corridor PUMA, New York\",\"36\",\"03206\"],\\n[\"37090\",\"Nassau County (Central)--Hempstead Town (Northeast) PUMA, New York\",\"36\",\"03207\"],\\n[\"37152\",\"Nassau County (Southeast)--Oyster Bay Town (South) PUMA, New York\",\"36\",\"03208\"],\\n[\"34409\",\"Nassau County (Central)--Hempstead Town (East Central) PUMA, New York\",\"36\",\"03209\"],\\n[\"36136\",\"Nassau County (South Central)--Hempstead Town (Southeast) PUMA, New York\",\"36\",\"03210\"],\\n[\"36565\",\"Nassau County (West Central)--Hempstead Town (West Central) PUMA, New York\",\"36\",\"03211\"],\\n[\"37178\",\"Nassau County (Southwest)--Hempstead Town (Southwest) & Long Beach City PUMA, New York\",\"36\",\"03212\"],\\n[\"34268\",\"Suffolk County (Northwest)--Huntington Town (North) PUMA, New York\",\"36\",\"03301\"],\\n[\"33099\",\"Suffolk County (Northwest)--Huntington Town (South) PUMA, New York\",\"36\",\"03302\"],\\n[\"39118\",\"Suffolk County (Northwest)--Smithtown Town PUMA, New York\",\"36\",\"03303\"],\\n[\"36190\",\"Suffolk County (North Central)--Brookhaven Town (North) PUMA, New York\",\"36\",\"03304\"],\\n[\"52451\",\"Suffolk County (East) PUMA, New York\",\"36\",\"03305\"],\\n[\"41486\",\"Suffolk County (South Central)--Brookhaven Town (South) PUMA, New York\",\"36\",\"03306\"],\\n[\"43800\",\"Suffolk County (Central)--Brookhaven Town (Central) PUMA, New York\",\"36\",\"03307\"],\\n[\"33262\",\"Suffolk County (Central)--Brookhaven Town (West Central) PUMA, New York\",\"36\",\"03308\"],\\n[\"34192\",\"Suffolk County (Central)--Islip Town (East) PUMA, New York\",\"36\",\"03309\"],\\n[\"29923\",\"Suffolk County (Central)--Islip Town (Northwest) PUMA, New York\",\"36\",\"03310\"],\\n[\"32480\",\"Suffolk County (Southwest)--Islip Town (South) PUMA, New York\",\"36\",\"03311\"],\\n[\"31194\",\"Suffolk County (Southwest)--Babylon Town (Southeast) PUMA, New York\",\"36\",\"03312\"],\\n[\"32848\",\"Suffolk County (West Central)--Babylon Town (Northwest) PUMA, New York\",\"36\",\"03313\"],\\n[\"42158\",\"NYC-Bronx Community District 8--Riverdale, Fieldston & Kingsbridge PUMA; New York\",\"36\",\"03701\"],\\n[\"49817\",\"NYC-Bronx Community District 12--Wakefield, Williamsbridge & Woodlawn PUMA; New York\",\"36\",\"03702\"],\\n[\"44329\",\"NYC-Bronx Community District 10--Co-op City, Pelham Bay & Schuylerville PUMA; New York\",\"36\",\"03703\"],\\n[\"44476\",\"NYC-Bronx Community District 11--Pelham Parkway, Morris Park & Laconia PUMA; New York\",\"36\",\"03704\"],\\n[\"58706\",\"NYC-Bronx Community District 3 & 6--Belmont, Crotona Park East & East Tremont PUMA; New York\",\"36\",\"03705\"],\\n[\"46018\",\"NYC-Bronx Community District 7--Bedford Park, Fordham North & Norwood PUMA; New York\",\"36\",\"03706\"],\\n[\"46654\",\"NYC-Bronx Community District 5--Morris Heights, Fordham South & Mount Hope PUMA; New York\",\"36\",\"03707\"],\\n[\"50192\",\"NYC-Bronx Community District 4--Concourse, Highbridge & Mount Eden PUMA; New York\",\"36\",\"03708\"],\\n[\"63433\",\"NYC-Bronx Community District 9--Castle Hill, Clason Point & Parkchester PUMA; New York\",\"36\",\"03709\"],\\n[\"52756\",\"NYC-Bronx Community District 1 & 2--Hunts Point, Longwood & Melrose PUMA; New York\",\"36\",\"03710\"],\\n[\"76174\",\"NYC-Manhattan Community District 12--Washington Heights, Inwood & Marble Hill PUMA; New York\",\"36\",\"03801\"],\\n[\"44790\",\"NYC-Manhattan Community District 9--Hamilton Heights, Manhattanville & West Harlem PUMA; New York\",\"36\",\"03802\"],\\n[\"58217\",\"NYC-Manhattan Community District 10--Central Harlem PUMA, New York\",\"36\",\"03803\"],\\n[\"51915\",\"NYC-Manhattan Community District 11--East Harlem PUMA, New York\",\"36\",\"03804\"],\\n[\"111507\",\"NYC-Manhattan Community District 8--Upper East Side PUMA, New York\",\"36\",\"03805\"],\\n[\"98941\",\"NYC-Manhattan Community District 7--Upper West Side & West Side PUMA, New York\",\"36\",\"03806\"],\\n[\"81546\",\"NYC-Manhattan Community District 4 & 5--Chelsea, Clinton & Midtown Business District PUMA; New York\",\"36\",\"03807\"],\\n[\"75794\",\"NYC-Manhattan Community District 6--Murray Hill, Gramercy & Stuyvesant Town PUMA; New York\",\"36\",\"03808\"],\\n[\"76131\",\"NYC-Manhattan Community District 3--Chinatown & Lower East Side PUMA, New York\",\"36\",\"03809\"],\\n[\"73278\",\"NYC-Manhattan Community District 1 & 2--Battery Park City, Greenwich Village & Soho PUMA; New York\",\"36\",\"03810\"],\\n[\"57734\",\"NYC-Staten Island Community District 3--Tottenville, Great Kills & Annadale PUMA; New York\",\"36\",\"03901\"],\\n[\"47452\",\"NYC-Staten Island Community District 2--New Springville & South Beach PUMA, New York\",\"36\",\"03902\"],\\n[\"59103\",\"NYC-Staten Island Community District 1--Port Richmond, Stapleton & Mariner\\'s Harbor PUMA; New York\",\"36\",\"03903\"],\\n[\"66037\",\"NYC-Brooklyn Community District 1--Greenpoint & Williamsburg PUMA, New York\",\"36\",\"04001\"],\\n[\"47709\",\"NYC-Brooklyn Community District 4--Bushwick PUMA, New York\",\"36\",\"04002\"],\\n[\"52074\",\"NYC-Brooklyn Community District 3--Bedford-Stuyvesant PUMA, New York\",\"36\",\"04003\"],\\n[\"60292\",\"NYC-Brooklyn Community District 2--Brooklyn Heights & Fort Greene PUMA, New York\",\"36\",\"04004\"],\\n[\"46522\",\"NYC-Brooklyn Community District 6--Park Slope, Carroll Gardens & Red Hook PUMA; New York\",\"36\",\"04005\"],\\n[\"56005\",\"NYC-Brooklyn Community District 8--Crown Heights North & Prospect Heights PUMA, New York\",\"36\",\"04006\"],\\n[\"42579\",\"NYC-Brooklyn Community District 16--Brownsville & Ocean Hill PUMA, New York\",\"36\",\"04007\"],\\n[\"54506\",\"NYC-Brooklyn Community District 5--East New York & Starrett City PUMA, New York\",\"36\",\"04008\"],\\n[\"65735\",\"NYC-Brooklyn Community District 18--Canarsie & Flatlands PUMA, New York\",\"36\",\"04009\"],\\n[\"50017\",\"NYC-Brooklyn Community District 17--East Flatbush, Farragut & Rugby PUMA; New York\",\"36\",\"04010\"],\\n[\"42176\",\"NYC-Brooklyn Community District 9--Crown Heights South, Prospect Lefferts & Wingate PUMA; New York\",\"36\",\"04011\"],\\n[\"45627\",\"NYC-Brooklyn Community District 7--Sunset Park & Windsor Terrace PUMA, New York\",\"36\",\"04012\"],\\n[\"45191\",\"NYC-Brooklyn Community District 10--Bay Ridge & Dyker Heights PUMA, New York\",\"36\",\"04013\"],\\n[\"42114\",\"NYC-Brooklyn Community District 12--Borough Park, Kensington & Ocean Parkway PUMA; New York\",\"36\",\"04014\"],\\n[\"55953\",\"NYC-Brooklyn Community District 14--Flatbush & Midwood PUMA, New York\",\"36\",\"04015\"],\\n[\"58343\",\"NYC-Brooklyn Community District 15--Sheepshead Bay, Gerritsen Beach & Homecrest PUMA; New York\",\"36\",\"04016\"],\\n[\"63963\",\"NYC-Brooklyn Community District 11--Bensonhurst & Bath Beach PUMA, New York\",\"36\",\"04017\"],\\n[\"47028\",\"NYC-Brooklyn Community District 13--Brighton Beach & Coney Island PUMA, New York\",\"36\",\"04018\"],\\n[\"72177\",\"NYC-Queens Community District 1--Astoria & Long Island City PUMA, New York\",\"36\",\"04101\"],\\n[\"49036\",\"NYC-Queens Community District 3--Jackson Heights & North Corona PUMA, New York\",\"36\",\"04102\"],\\n[\"84004\",\"NYC-Queens Community District 7--Flushing, Murray Hill & Whitestone PUMA; New York\",\"36\",\"04103\"],\\n[\"42003\",\"NYC-Queens Community District 11--Bayside, Douglaston & Little Neck PUMA; New York\",\"36\",\"04104\"],\\n[\"58924\",\"NYC-Queens Community District 13--Queens Village, Cambria Heights & Rosedale PUMA; New York\",\"36\",\"04105\"],\\n[\"54605\",\"NYC-Queens Community District 8--Briarwood, Fresh Meadows & Hillcrest PUMA; New York\",\"36\",\"04106\"],\\n[\"40473\",\"NYC-Queens Community District 4--Elmhurst & South Corona PUMA, New York\",\"36\",\"04107\"],\\n[\"51169\",\"NYC-Queens Community District 6--Forest Hills & Rego Park PUMA, New York\",\"36\",\"04108\"],\\n[\"52591\",\"NYC-Queens Community District 2--Sunnyside & Woodside PUMA, New York\",\"36\",\"04109\"],\\n[\"61570\",\"NYC-Queens Community District 5--Ridgewood, Glendale & Middle Village PUMA; New York\",\"36\",\"04110\"],\\n[\"44811\",\"NYC-Queens Community District 9--Richmond Hill & Woodhaven PUMA, New York\",\"36\",\"04111\"],\\n[\"71109\",\"NYC-Queens Community District 12--Jamaica, Hollis & St. Albans PUMA; New York\",\"36\",\"04112\"],\\n[\"37998\",\"NYC-Queens Community District 10--Howard Beach & Ozone Park PUMA, New York\",\"36\",\"04113\"],\\n[\"41368\",\"NYC-Queens Community District 14--Far Rockaway, Breezy Point & Broad Channel PUMA; New York\",\"36\",\"04114\"]]'\n"
     ]
    },
    {
     "data": {
      "text/html": [
       "<div>\n",
       "<table border=\"1\" class=\"dataframe\">\n",
       "  <thead>\n",
       "    <tr style=\"text-align: right;\">\n",
       "      <th></th>\n",
       "      <th>B28002_001E</th>\n",
       "      <th>NAME</th>\n",
       "      <th>state</th>\n",
       "      <th>public use microdata area</th>\n",
       "      <th>Unnamed: 4</th>\n",
       "    </tr>\n",
       "  </thead>\n",
       "  <tbody>\n",
       "    <tr>\n",
       "      <th>0</th>\n",
       "      <td>40479</td>\n",
       "      <td>St. Lawrence County PUMA, New York</td>\n",
       "      <td>36</td>\n",
       "      <td>100</td>\n",
       "      <td>NaN</td>\n",
       "    </tr>\n",
       "    <tr>\n",
       "      <th>1</th>\n",
       "      <td>67092</td>\n",
       "      <td>Clinton, Franklin, Essex &amp; Hamilton Counties P...</td>\n",
       "      <td>36</td>\n",
       "      <td>200</td>\n",
       "      <td>NaN</td>\n",
       "    </tr>\n",
       "    <tr>\n",
       "      <th>2</th>\n",
       "      <td>51614</td>\n",
       "      <td>Warren &amp; Washington Counties PUMA, New York</td>\n",
       "      <td>36</td>\n",
       "      <td>300</td>\n",
       "      <td>NaN</td>\n",
       "    </tr>\n",
       "    <tr>\n",
       "      <th>3</th>\n",
       "      <td>44300</td>\n",
       "      <td>Herkimer (North &amp; Central) &amp; Oneida (Outer) Co...</td>\n",
       "      <td>36</td>\n",
       "      <td>401</td>\n",
       "      <td>NaN</td>\n",
       "    </tr>\n",
       "    <tr>\n",
       "      <th>4</th>\n",
       "      <td>61146</td>\n",
       "      <td>Oneida County (Central)--Greater Utica &amp; Rome ...</td>\n",
       "      <td>36</td>\n",
       "      <td>402</td>\n",
       "      <td>NaN</td>\n",
       "    </tr>\n",
       "    <tr>\n",
       "      <th>5</th>\n",
       "      <td>42081</td>\n",
       "      <td>Otsego, Schoharie, Oneida (South) &amp; Herkimer (...</td>\n",
       "      <td>36</td>\n",
       "      <td>403</td>\n",
       "      <td>NaN</td>\n",
       "    </tr>\n",
       "    <tr>\n",
       "      <th>6</th>\n",
       "      <td>50860</td>\n",
       "      <td>Jefferson &amp; Lewis Counties PUMA, New York</td>\n",
       "      <td>36</td>\n",
       "      <td>500</td>\n",
       "      <td>NaN</td>\n",
       "    </tr>\n",
       "    <tr>\n",
       "      <th>7</th>\n",
       "      <td>44633</td>\n",
       "      <td>Oswego County PUMA, New York</td>\n",
       "      <td>36</td>\n",
       "      <td>600</td>\n",
       "      <td>NaN</td>\n",
       "    </tr>\n",
       "    <tr>\n",
       "      <th>8</th>\n",
       "      <td>56295</td>\n",
       "      <td>Onondaga County (Central)--Syracuse City PUMA,...</td>\n",
       "      <td>36</td>\n",
       "      <td>701</td>\n",
       "      <td>NaN</td>\n",
       "    </tr>\n",
       "    <tr>\n",
       "      <th>9</th>\n",
       "      <td>47988</td>\n",
       "      <td>Onondaga County (North) PUMA, New York</td>\n",
       "      <td>36</td>\n",
       "      <td>702</td>\n",
       "      <td>NaN</td>\n",
       "    </tr>\n",
       "    <tr>\n",
       "      <th>10</th>\n",
       "      <td>65650</td>\n",
       "      <td>Onondaga County (Central)--Syracuse City (Oute...</td>\n",
       "      <td>36</td>\n",
       "      <td>703</td>\n",
       "      <td>NaN</td>\n",
       "    </tr>\n",
       "    <tr>\n",
       "      <th>11</th>\n",
       "      <td>44017</td>\n",
       "      <td>Cayuga &amp; Onondaga (South) Counties PUMA, New York</td>\n",
       "      <td>36</td>\n",
       "      <td>704</td>\n",
       "      <td>NaN</td>\n",
       "    </tr>\n",
       "    <tr>\n",
       "      <th>12</th>\n",
       "      <td>50496</td>\n",
       "      <td>Wayne &amp; Seneca Counties PUMA, New York</td>\n",
       "      <td>36</td>\n",
       "      <td>800</td>\n",
       "      <td>NaN</td>\n",
       "    </tr>\n",
       "    <tr>\n",
       "      <th>13</th>\n",
       "      <td>54567</td>\n",
       "      <td>Monroe County (East) PUMA, New York</td>\n",
       "      <td>36</td>\n",
       "      <td>901</td>\n",
       "      <td>NaN</td>\n",
       "    </tr>\n",
       "    <tr>\n",
       "      <th>14</th>\n",
       "      <td>47005</td>\n",
       "      <td>Monroe County (Central)--Rochester City (East)...</td>\n",
       "      <td>36</td>\n",
       "      <td>902</td>\n",
       "      <td>NaN</td>\n",
       "    </tr>\n",
       "    <tr>\n",
       "      <th>15</th>\n",
       "      <td>37435</td>\n",
       "      <td>Monroe County (Central)--Rochester City (West)...</td>\n",
       "      <td>36</td>\n",
       "      <td>903</td>\n",
       "      <td>NaN</td>\n",
       "    </tr>\n",
       "    <tr>\n",
       "      <th>16</th>\n",
       "      <td>53507</td>\n",
       "      <td>Monroe County (Central)--Greece &amp; Gates Towns ...</td>\n",
       "      <td>36</td>\n",
       "      <td>904</td>\n",
       "      <td>NaN</td>\n",
       "    </tr>\n",
       "    <tr>\n",
       "      <th>17</th>\n",
       "      <td>39808</td>\n",
       "      <td>Monroe County (North &amp; West) PUMA, New York</td>\n",
       "      <td>36</td>\n",
       "      <td>905</td>\n",
       "      <td>NaN</td>\n",
       "    </tr>\n",
       "    <tr>\n",
       "      <th>18</th>\n",
       "      <td>66902</td>\n",
       "      <td>Monroe County (South) PUMA, New York</td>\n",
       "      <td>36</td>\n",
       "      <td>906</td>\n",
       "      <td>NaN</td>\n",
       "    </tr>\n",
       "    <tr>\n",
       "      <th>19</th>\n",
       "      <td>39793</td>\n",
       "      <td>Genesee &amp; Orleans Counties PUMA, New York</td>\n",
       "      <td>36</td>\n",
       "      <td>1000</td>\n",
       "      <td>NaN</td>\n",
       "    </tr>\n",
       "    <tr>\n",
       "      <th>20</th>\n",
       "      <td>44915</td>\n",
       "      <td>Niagara County (Southwest)--Greater Niagara Fa...</td>\n",
       "      <td>36</td>\n",
       "      <td>1101</td>\n",
       "      <td>NaN</td>\n",
       "    </tr>\n",
       "    <tr>\n",
       "      <th>21</th>\n",
       "      <td>41871</td>\n",
       "      <td>Niagara County (North &amp; East) PUMA, New York</td>\n",
       "      <td>36</td>\n",
       "      <td>1102</td>\n",
       "      <td>NaN</td>\n",
       "    </tr>\n",
       "    <tr>\n",
       "      <th>22</th>\n",
       "      <td>44657</td>\n",
       "      <td>Erie County (Northwest) PUMA, New York</td>\n",
       "      <td>36</td>\n",
       "      <td>1201</td>\n",
       "      <td>NaN</td>\n",
       "    </tr>\n",
       "    <tr>\n",
       "      <th>23</th>\n",
       "      <td>50286</td>\n",
       "      <td>Erie County (North Central) PUMA, New York</td>\n",
       "      <td>36</td>\n",
       "      <td>1202</td>\n",
       "      <td>NaN</td>\n",
       "    </tr>\n",
       "    <tr>\n",
       "      <th>24</th>\n",
       "      <td>46712</td>\n",
       "      <td>Erie County (Northeast) PUMA, New York</td>\n",
       "      <td>36</td>\n",
       "      <td>1203</td>\n",
       "      <td>NaN</td>\n",
       "    </tr>\n",
       "    <tr>\n",
       "      <th>25</th>\n",
       "      <td>66143</td>\n",
       "      <td>Erie County (Central) PUMA, New York</td>\n",
       "      <td>36</td>\n",
       "      <td>1204</td>\n",
       "      <td>NaN</td>\n",
       "    </tr>\n",
       "    <tr>\n",
       "      <th>26</th>\n",
       "      <td>58418</td>\n",
       "      <td>Erie County (West Central)--Buffalo City (East...</td>\n",
       "      <td>36</td>\n",
       "      <td>1205</td>\n",
       "      <td>NaN</td>\n",
       "    </tr>\n",
       "    <tr>\n",
       "      <th>27</th>\n",
       "      <td>47721</td>\n",
       "      <td>Erie County (West Central)--Buffalo City (West...</td>\n",
       "      <td>36</td>\n",
       "      <td>1206</td>\n",
       "      <td>NaN</td>\n",
       "    </tr>\n",
       "    <tr>\n",
       "      <th>28</th>\n",
       "      <td>66536</td>\n",
       "      <td>Erie County (South) PUMA, New York</td>\n",
       "      <td>36</td>\n",
       "      <td>1207</td>\n",
       "      <td>NaN</td>\n",
       "    </tr>\n",
       "    <tr>\n",
       "      <th>29</th>\n",
       "      <td>39642</td>\n",
       "      <td>Livingston &amp; Wyoming Counties PUMA, New York</td>\n",
       "      <td>36</td>\n",
       "      <td>1300</td>\n",
       "      <td>NaN</td>\n",
       "    </tr>\n",
       "    <tr>\n",
       "      <th>...</th>\n",
       "      <td>...</td>\n",
       "      <td>...</td>\n",
       "      <td>...</td>\n",
       "      <td>...</td>\n",
       "      <td>...</td>\n",
       "    </tr>\n",
       "    <tr>\n",
       "      <th>115</th>\n",
       "      <td>52074</td>\n",
       "      <td>NYC-Brooklyn Community District 3--Bedford-Stu...</td>\n",
       "      <td>36</td>\n",
       "      <td>4003</td>\n",
       "      <td>NaN</td>\n",
       "    </tr>\n",
       "    <tr>\n",
       "      <th>116</th>\n",
       "      <td>60292</td>\n",
       "      <td>NYC-Brooklyn Community District 2--Brooklyn He...</td>\n",
       "      <td>36</td>\n",
       "      <td>4004</td>\n",
       "      <td>NaN</td>\n",
       "    </tr>\n",
       "    <tr>\n",
       "      <th>117</th>\n",
       "      <td>46522</td>\n",
       "      <td>NYC-Brooklyn Community District 6--Park Slope,...</td>\n",
       "      <td>36</td>\n",
       "      <td>4005</td>\n",
       "      <td>NaN</td>\n",
       "    </tr>\n",
       "    <tr>\n",
       "      <th>118</th>\n",
       "      <td>56005</td>\n",
       "      <td>NYC-Brooklyn Community District 8--Crown Heigh...</td>\n",
       "      <td>36</td>\n",
       "      <td>4006</td>\n",
       "      <td>NaN</td>\n",
       "    </tr>\n",
       "    <tr>\n",
       "      <th>119</th>\n",
       "      <td>42579</td>\n",
       "      <td>NYC-Brooklyn Community District 16--Brownsvill...</td>\n",
       "      <td>36</td>\n",
       "      <td>4007</td>\n",
       "      <td>NaN</td>\n",
       "    </tr>\n",
       "    <tr>\n",
       "      <th>120</th>\n",
       "      <td>54506</td>\n",
       "      <td>NYC-Brooklyn Community District 5--East New Yo...</td>\n",
       "      <td>36</td>\n",
       "      <td>4008</td>\n",
       "      <td>NaN</td>\n",
       "    </tr>\n",
       "    <tr>\n",
       "      <th>121</th>\n",
       "      <td>65735</td>\n",
       "      <td>NYC-Brooklyn Community District 18--Canarsie &amp;...</td>\n",
       "      <td>36</td>\n",
       "      <td>4009</td>\n",
       "      <td>NaN</td>\n",
       "    </tr>\n",
       "    <tr>\n",
       "      <th>122</th>\n",
       "      <td>50017</td>\n",
       "      <td>NYC-Brooklyn Community District 17--East Flatb...</td>\n",
       "      <td>36</td>\n",
       "      <td>4010</td>\n",
       "      <td>NaN</td>\n",
       "    </tr>\n",
       "    <tr>\n",
       "      <th>123</th>\n",
       "      <td>42176</td>\n",
       "      <td>NYC-Brooklyn Community District 9--Crown Heigh...</td>\n",
       "      <td>36</td>\n",
       "      <td>4011</td>\n",
       "      <td>NaN</td>\n",
       "    </tr>\n",
       "    <tr>\n",
       "      <th>124</th>\n",
       "      <td>45627</td>\n",
       "      <td>NYC-Brooklyn Community District 7--Sunset Park...</td>\n",
       "      <td>36</td>\n",
       "      <td>4012</td>\n",
       "      <td>NaN</td>\n",
       "    </tr>\n",
       "    <tr>\n",
       "      <th>125</th>\n",
       "      <td>45191</td>\n",
       "      <td>NYC-Brooklyn Community District 10--Bay Ridge ...</td>\n",
       "      <td>36</td>\n",
       "      <td>4013</td>\n",
       "      <td>NaN</td>\n",
       "    </tr>\n",
       "    <tr>\n",
       "      <th>126</th>\n",
       "      <td>42114</td>\n",
       "      <td>NYC-Brooklyn Community District 12--Borough Pa...</td>\n",
       "      <td>36</td>\n",
       "      <td>4014</td>\n",
       "      <td>NaN</td>\n",
       "    </tr>\n",
       "    <tr>\n",
       "      <th>127</th>\n",
       "      <td>55953</td>\n",
       "      <td>NYC-Brooklyn Community District 14--Flatbush &amp;...</td>\n",
       "      <td>36</td>\n",
       "      <td>4015</td>\n",
       "      <td>NaN</td>\n",
       "    </tr>\n",
       "    <tr>\n",
       "      <th>128</th>\n",
       "      <td>58343</td>\n",
       "      <td>NYC-Brooklyn Community District 15--Sheepshead...</td>\n",
       "      <td>36</td>\n",
       "      <td>4016</td>\n",
       "      <td>NaN</td>\n",
       "    </tr>\n",
       "    <tr>\n",
       "      <th>129</th>\n",
       "      <td>63963</td>\n",
       "      <td>NYC-Brooklyn Community District 11--Bensonhurs...</td>\n",
       "      <td>36</td>\n",
       "      <td>4017</td>\n",
       "      <td>NaN</td>\n",
       "    </tr>\n",
       "    <tr>\n",
       "      <th>130</th>\n",
       "      <td>47028</td>\n",
       "      <td>NYC-Brooklyn Community District 13--Brighton B...</td>\n",
       "      <td>36</td>\n",
       "      <td>4018</td>\n",
       "      <td>NaN</td>\n",
       "    </tr>\n",
       "    <tr>\n",
       "      <th>131</th>\n",
       "      <td>72177</td>\n",
       "      <td>NYC-Queens Community District 1--Astoria &amp; Lon...</td>\n",
       "      <td>36</td>\n",
       "      <td>4101</td>\n",
       "      <td>NaN</td>\n",
       "    </tr>\n",
       "    <tr>\n",
       "      <th>132</th>\n",
       "      <td>49036</td>\n",
       "      <td>NYC-Queens Community District 3--Jackson Heigh...</td>\n",
       "      <td>36</td>\n",
       "      <td>4102</td>\n",
       "      <td>NaN</td>\n",
       "    </tr>\n",
       "    <tr>\n",
       "      <th>133</th>\n",
       "      <td>84004</td>\n",
       "      <td>NYC-Queens Community District 7--Flushing, Mur...</td>\n",
       "      <td>36</td>\n",
       "      <td>4103</td>\n",
       "      <td>NaN</td>\n",
       "    </tr>\n",
       "    <tr>\n",
       "      <th>134</th>\n",
       "      <td>42003</td>\n",
       "      <td>NYC-Queens Community District 11--Bayside, Dou...</td>\n",
       "      <td>36</td>\n",
       "      <td>4104</td>\n",
       "      <td>NaN</td>\n",
       "    </tr>\n",
       "    <tr>\n",
       "      <th>135</th>\n",
       "      <td>58924</td>\n",
       "      <td>NYC-Queens Community District 13--Queens Villa...</td>\n",
       "      <td>36</td>\n",
       "      <td>4105</td>\n",
       "      <td>NaN</td>\n",
       "    </tr>\n",
       "    <tr>\n",
       "      <th>136</th>\n",
       "      <td>54605</td>\n",
       "      <td>NYC-Queens Community District 8--Briarwood, Fr...</td>\n",
       "      <td>36</td>\n",
       "      <td>4106</td>\n",
       "      <td>NaN</td>\n",
       "    </tr>\n",
       "    <tr>\n",
       "      <th>137</th>\n",
       "      <td>40473</td>\n",
       "      <td>NYC-Queens Community District 4--Elmhurst &amp; So...</td>\n",
       "      <td>36</td>\n",
       "      <td>4107</td>\n",
       "      <td>NaN</td>\n",
       "    </tr>\n",
       "    <tr>\n",
       "      <th>138</th>\n",
       "      <td>51169</td>\n",
       "      <td>NYC-Queens Community District 6--Forest Hills ...</td>\n",
       "      <td>36</td>\n",
       "      <td>4108</td>\n",
       "      <td>NaN</td>\n",
       "    </tr>\n",
       "    <tr>\n",
       "      <th>139</th>\n",
       "      <td>52591</td>\n",
       "      <td>NYC-Queens Community District 2--Sunnyside &amp; W...</td>\n",
       "      <td>36</td>\n",
       "      <td>4109</td>\n",
       "      <td>NaN</td>\n",
       "    </tr>\n",
       "    <tr>\n",
       "      <th>140</th>\n",
       "      <td>61570</td>\n",
       "      <td>NYC-Queens Community District 5--Ridgewood, Gl...</td>\n",
       "      <td>36</td>\n",
       "      <td>4110</td>\n",
       "      <td>NaN</td>\n",
       "    </tr>\n",
       "    <tr>\n",
       "      <th>141</th>\n",
       "      <td>44811</td>\n",
       "      <td>NYC-Queens Community District 9--Richmond Hill...</td>\n",
       "      <td>36</td>\n",
       "      <td>4111</td>\n",
       "      <td>NaN</td>\n",
       "    </tr>\n",
       "    <tr>\n",
       "      <th>142</th>\n",
       "      <td>71109</td>\n",
       "      <td>NYC-Queens Community District 12--Jamaica, Hol...</td>\n",
       "      <td>36</td>\n",
       "      <td>4112</td>\n",
       "      <td>NaN</td>\n",
       "    </tr>\n",
       "    <tr>\n",
       "      <th>143</th>\n",
       "      <td>37998</td>\n",
       "      <td>NYC-Queens Community District 10--Howard Beach...</td>\n",
       "      <td>36</td>\n",
       "      <td>4113</td>\n",
       "      <td>NaN</td>\n",
       "    </tr>\n",
       "    <tr>\n",
       "      <th>144</th>\n",
       "      <td>41368</td>\n",
       "      <td>NYC-Queens Community District 14--Far Rockaway...</td>\n",
       "      <td>36</td>\n",
       "      <td>4114</td>\n",
       "      <td>NaN</td>\n",
       "    </tr>\n",
       "  </tbody>\n",
       "</table>\n",
       "<p>145 rows × 5 columns</p>\n",
       "</div>"
      ],
      "text/plain": [
       "     B28002_001E                                               NAME  state  \\\n",
       "0          40479                 St. Lawrence County PUMA, New York     36   \n",
       "1          67092  Clinton, Franklin, Essex & Hamilton Counties P...     36   \n",
       "2          51614        Warren & Washington Counties PUMA, New York     36   \n",
       "3          44300  Herkimer (North & Central) & Oneida (Outer) Co...     36   \n",
       "4          61146  Oneida County (Central)--Greater Utica & Rome ...     36   \n",
       "5          42081  Otsego, Schoharie, Oneida (South) & Herkimer (...     36   \n",
       "6          50860          Jefferson & Lewis Counties PUMA, New York     36   \n",
       "7          44633                       Oswego County PUMA, New York     36   \n",
       "8          56295  Onondaga County (Central)--Syracuse City PUMA,...     36   \n",
       "9          47988             Onondaga County (North) PUMA, New York     36   \n",
       "10         65650  Onondaga County (Central)--Syracuse City (Oute...     36   \n",
       "11         44017  Cayuga & Onondaga (South) Counties PUMA, New York     36   \n",
       "12         50496             Wayne & Seneca Counties PUMA, New York     36   \n",
       "13         54567                Monroe County (East) PUMA, New York     36   \n",
       "14         47005  Monroe County (Central)--Rochester City (East)...     36   \n",
       "15         37435  Monroe County (Central)--Rochester City (West)...     36   \n",
       "16         53507  Monroe County (Central)--Greece & Gates Towns ...     36   \n",
       "17         39808        Monroe County (North & West) PUMA, New York     36   \n",
       "18         66902               Monroe County (South) PUMA, New York     36   \n",
       "19         39793          Genesee & Orleans Counties PUMA, New York     36   \n",
       "20         44915  Niagara County (Southwest)--Greater Niagara Fa...     36   \n",
       "21         41871       Niagara County (North & East) PUMA, New York     36   \n",
       "22         44657             Erie County (Northwest) PUMA, New York     36   \n",
       "23         50286         Erie County (North Central) PUMA, New York     36   \n",
       "24         46712             Erie County (Northeast) PUMA, New York     36   \n",
       "25         66143               Erie County (Central) PUMA, New York     36   \n",
       "26         58418  Erie County (West Central)--Buffalo City (East...     36   \n",
       "27         47721  Erie County (West Central)--Buffalo City (West...     36   \n",
       "28         66536                 Erie County (South) PUMA, New York     36   \n",
       "29         39642       Livingston & Wyoming Counties PUMA, New York     36   \n",
       "..           ...                                                ...    ...   \n",
       "115        52074  NYC-Brooklyn Community District 3--Bedford-Stu...     36   \n",
       "116        60292  NYC-Brooklyn Community District 2--Brooklyn He...     36   \n",
       "117        46522  NYC-Brooklyn Community District 6--Park Slope,...     36   \n",
       "118        56005  NYC-Brooklyn Community District 8--Crown Heigh...     36   \n",
       "119        42579  NYC-Brooklyn Community District 16--Brownsvill...     36   \n",
       "120        54506  NYC-Brooklyn Community District 5--East New Yo...     36   \n",
       "121        65735  NYC-Brooklyn Community District 18--Canarsie &...     36   \n",
       "122        50017  NYC-Brooklyn Community District 17--East Flatb...     36   \n",
       "123        42176  NYC-Brooklyn Community District 9--Crown Heigh...     36   \n",
       "124        45627  NYC-Brooklyn Community District 7--Sunset Park...     36   \n",
       "125        45191  NYC-Brooklyn Community District 10--Bay Ridge ...     36   \n",
       "126        42114  NYC-Brooklyn Community District 12--Borough Pa...     36   \n",
       "127        55953  NYC-Brooklyn Community District 14--Flatbush &...     36   \n",
       "128        58343  NYC-Brooklyn Community District 15--Sheepshead...     36   \n",
       "129        63963  NYC-Brooklyn Community District 11--Bensonhurs...     36   \n",
       "130        47028  NYC-Brooklyn Community District 13--Brighton B...     36   \n",
       "131        72177  NYC-Queens Community District 1--Astoria & Lon...     36   \n",
       "132        49036  NYC-Queens Community District 3--Jackson Heigh...     36   \n",
       "133        84004  NYC-Queens Community District 7--Flushing, Mur...     36   \n",
       "134        42003  NYC-Queens Community District 11--Bayside, Dou...     36   \n",
       "135        58924  NYC-Queens Community District 13--Queens Villa...     36   \n",
       "136        54605  NYC-Queens Community District 8--Briarwood, Fr...     36   \n",
       "137        40473  NYC-Queens Community District 4--Elmhurst & So...     36   \n",
       "138        51169  NYC-Queens Community District 6--Forest Hills ...     36   \n",
       "139        52591  NYC-Queens Community District 2--Sunnyside & W...     36   \n",
       "140        61570  NYC-Queens Community District 5--Ridgewood, Gl...     36   \n",
       "141        44811  NYC-Queens Community District 9--Richmond Hill...     36   \n",
       "142        71109  NYC-Queens Community District 12--Jamaica, Hol...     36   \n",
       "143        37998  NYC-Queens Community District 10--Howard Beach...     36   \n",
       "144        41368  NYC-Queens Community District 14--Far Rockaway...     36   \n",
       "\n",
       "     public use microdata area  Unnamed: 4  \n",
       "0                          100         NaN  \n",
       "1                          200         NaN  \n",
       "2                          300         NaN  \n",
       "3                          401         NaN  \n",
       "4                          402         NaN  \n",
       "5                          403         NaN  \n",
       "6                          500         NaN  \n",
       "7                          600         NaN  \n",
       "8                          701         NaN  \n",
       "9                          702         NaN  \n",
       "10                         703         NaN  \n",
       "11                         704         NaN  \n",
       "12                         800         NaN  \n",
       "13                         901         NaN  \n",
       "14                         902         NaN  \n",
       "15                         903         NaN  \n",
       "16                         904         NaN  \n",
       "17                         905         NaN  \n",
       "18                         906         NaN  \n",
       "19                        1000         NaN  \n",
       "20                        1101         NaN  \n",
       "21                        1102         NaN  \n",
       "22                        1201         NaN  \n",
       "23                        1202         NaN  \n",
       "24                        1203         NaN  \n",
       "25                        1204         NaN  \n",
       "26                        1205         NaN  \n",
       "27                        1206         NaN  \n",
       "28                        1207         NaN  \n",
       "29                        1300         NaN  \n",
       "..                         ...         ...  \n",
       "115                       4003         NaN  \n",
       "116                       4004         NaN  \n",
       "117                       4005         NaN  \n",
       "118                       4006         NaN  \n",
       "119                       4007         NaN  \n",
       "120                       4008         NaN  \n",
       "121                       4009         NaN  \n",
       "122                       4010         NaN  \n",
       "123                       4011         NaN  \n",
       "124                       4012         NaN  \n",
       "125                       4013         NaN  \n",
       "126                       4014         NaN  \n",
       "127                       4015         NaN  \n",
       "128                       4016         NaN  \n",
       "129                       4017         NaN  \n",
       "130                       4018         NaN  \n",
       "131                       4101         NaN  \n",
       "132                       4102         NaN  \n",
       "133                       4103         NaN  \n",
       "134                       4104         NaN  \n",
       "135                       4105         NaN  \n",
       "136                       4106         NaN  \n",
       "137                       4107         NaN  \n",
       "138                       4108         NaN  \n",
       "139                       4109         NaN  \n",
       "140                       4110         NaN  \n",
       "141                       4111         NaN  \n",
       "142                       4112         NaN  \n",
       "143                       4113         NaN  \n",
       "144                       4114         NaN  \n",
       "\n",
       "[145 rows x 5 columns]"
      ]
     },
     "execution_count": 15,
     "metadata": {},
     "output_type": "execute_result"
    }
   ],
   "source": [
    "# Getting total number of households\n",
    "url = 'http://api.census.gov/data/2016/acs/acs1?get=B28002_001E,NAME&for=public%20use%20microdata%20area:*&in=state:36&key='\n",
    "\"\"\"\n",
    "url = \"https://api.census.gov/data/2016/acs/acs1?get=\" + keyNhouseholds + \\\n",
    "\",NAME&for=public%20use%20microdata%20area:*&in=state:36&key=\"\n",
    "\"\"\"\n",
    "resp = requests.request('GET', url).content\n",
    "print(resp)\n",
    "pumaHH = pd.read_csv(io.StringIO(resp.decode('utf-8').replace('[','').replace(']','')))\n",
    "\n",
    "pumaHH"
   ]
  },
  {
   "cell_type": "code",
   "execution_count": 16,
   "metadata": {},
   "outputs": [
    {
     "data": {
      "text/html": [
       "<div>\n",
       "<table border=\"1\" class=\"dataframe\">\n",
       "  <thead>\n",
       "    <tr style=\"text-align: right;\">\n",
       "      <th></th>\n",
       "      <th>B28002_004E</th>\n",
       "      <th>NAME</th>\n",
       "      <th>state</th>\n",
       "      <th>public use microdata area</th>\n",
       "      <th>Unnamed: 4</th>\n",
       "    </tr>\n",
       "  </thead>\n",
       "  <tbody>\n",
       "    <tr>\n",
       "      <th>0</th>\n",
       "      <td>32607</td>\n",
       "      <td>St. Lawrence County PUMA, New York</td>\n",
       "      <td>36</td>\n",
       "      <td>100</td>\n",
       "      <td>NaN</td>\n",
       "    </tr>\n",
       "    <tr>\n",
       "      <th>1</th>\n",
       "      <td>50811</td>\n",
       "      <td>Clinton, Franklin, Essex &amp; Hamilton Counties P...</td>\n",
       "      <td>36</td>\n",
       "      <td>200</td>\n",
       "      <td>NaN</td>\n",
       "    </tr>\n",
       "    <tr>\n",
       "      <th>2</th>\n",
       "      <td>41210</td>\n",
       "      <td>Warren &amp; Washington Counties PUMA, New York</td>\n",
       "      <td>36</td>\n",
       "      <td>300</td>\n",
       "      <td>NaN</td>\n",
       "    </tr>\n",
       "    <tr>\n",
       "      <th>3</th>\n",
       "      <td>36075</td>\n",
       "      <td>Herkimer (North &amp; Central) &amp; Oneida (Outer) Co...</td>\n",
       "      <td>36</td>\n",
       "      <td>401</td>\n",
       "      <td>NaN</td>\n",
       "    </tr>\n",
       "    <tr>\n",
       "      <th>4</th>\n",
       "      <td>47786</td>\n",
       "      <td>Oneida County (Central)--Greater Utica &amp; Rome ...</td>\n",
       "      <td>36</td>\n",
       "      <td>402</td>\n",
       "      <td>NaN</td>\n",
       "    </tr>\n",
       "  </tbody>\n",
       "</table>\n",
       "</div>"
      ],
      "text/plain": [
       "   B28002_004E                                               NAME  state  \\\n",
       "0        32607                 St. Lawrence County PUMA, New York     36   \n",
       "1        50811  Clinton, Franklin, Essex & Hamilton Counties P...     36   \n",
       "2        41210        Warren & Washington Counties PUMA, New York     36   \n",
       "3        36075  Herkimer (North & Central) & Oneida (Outer) Co...     36   \n",
       "4        47786  Oneida County (Central)--Greater Utica & Rome ...     36   \n",
       "\n",
       "   public use microdata area  Unnamed: 4  \n",
       "0                        100         NaN  \n",
       "1                        200         NaN  \n",
       "2                        300         NaN  \n",
       "3                        401         NaN  \n",
       "4                        402         NaN  "
      ]
     },
     "execution_count": 16,
     "metadata": {},
     "output_type": "execute_result"
    }
   ],
   "source": [
    "# Getting number of households with broadband access\n",
    "url = \"https://api.census.gov/data/2016/acs/acs1?get=\" + keyNBB + \\\n",
    "\",NAME&for=public%20use%20microdata%20area:*&in=state:36&key=\"\n",
    "resp = requests.request('GET', url).content\n",
    "pumaBB = pd.read_csv(io.StringIO(resp.decode('utf-8').replace('[','').replace(']','')))\n",
    "\n",
    "pumaBB.head()"
   ]
  },
  {
   "cell_type": "code",
   "execution_count": 17,
   "metadata": {},
   "outputs": [],
   "source": [
    "pumaHH.rename(columns={'public use microdata area':'puma'}, inplace=True)\n",
    "pumaBB.rename(columns={'public use microdata area':'puma'}, inplace=True)"
   ]
  },
  {
   "cell_type": "markdown",
   "metadata": {},
   "source": [
    "### 2.2 Generate a feature for the percentage of households with broadband access"
   ]
  },
  {
   "cell_type": "code",
   "execution_count": 18,
   "metadata": {},
   "outputs": [
    {
     "data": {
      "text/html": [
       "<div>\n",
       "<table border=\"1\" class=\"dataframe\">\n",
       "  <thead>\n",
       "    <tr style=\"text-align: right;\">\n",
       "      <th></th>\n",
       "      <th>B28002_001E</th>\n",
       "      <th>NAME</th>\n",
       "      <th>state</th>\n",
       "      <th>puma</th>\n",
       "      <th>Unnamed: 4</th>\n",
       "      <th>B28002_004E</th>\n",
       "    </tr>\n",
       "  </thead>\n",
       "  <tbody>\n",
       "    <tr>\n",
       "      <th>0</th>\n",
       "      <td>40479</td>\n",
       "      <td>St. Lawrence County PUMA, New York</td>\n",
       "      <td>36</td>\n",
       "      <td>100</td>\n",
       "      <td>NaN</td>\n",
       "      <td>32607</td>\n",
       "    </tr>\n",
       "    <tr>\n",
       "      <th>1</th>\n",
       "      <td>67092</td>\n",
       "      <td>Clinton, Franklin, Essex &amp; Hamilton Counties P...</td>\n",
       "      <td>36</td>\n",
       "      <td>200</td>\n",
       "      <td>NaN</td>\n",
       "      <td>50811</td>\n",
       "    </tr>\n",
       "    <tr>\n",
       "      <th>2</th>\n",
       "      <td>51614</td>\n",
       "      <td>Warren &amp; Washington Counties PUMA, New York</td>\n",
       "      <td>36</td>\n",
       "      <td>300</td>\n",
       "      <td>NaN</td>\n",
       "      <td>41210</td>\n",
       "    </tr>\n",
       "    <tr>\n",
       "      <th>3</th>\n",
       "      <td>44300</td>\n",
       "      <td>Herkimer (North &amp; Central) &amp; Oneida (Outer) Co...</td>\n",
       "      <td>36</td>\n",
       "      <td>401</td>\n",
       "      <td>NaN</td>\n",
       "      <td>36075</td>\n",
       "    </tr>\n",
       "    <tr>\n",
       "      <th>4</th>\n",
       "      <td>61146</td>\n",
       "      <td>Oneida County (Central)--Greater Utica &amp; Rome ...</td>\n",
       "      <td>36</td>\n",
       "      <td>402</td>\n",
       "      <td>NaN</td>\n",
       "      <td>47786</td>\n",
       "    </tr>\n",
       "  </tbody>\n",
       "</table>\n",
       "</div>"
      ],
      "text/plain": [
       "   B28002_001E                                               NAME  state  \\\n",
       "0        40479                 St. Lawrence County PUMA, New York     36   \n",
       "1        67092  Clinton, Franklin, Essex & Hamilton Counties P...     36   \n",
       "2        51614        Warren & Washington Counties PUMA, New York     36   \n",
       "3        44300  Herkimer (North & Central) & Oneida (Outer) Co...     36   \n",
       "4        61146  Oneida County (Central)--Greater Utica & Rome ...     36   \n",
       "\n",
       "   puma  Unnamed: 4  B28002_004E  \n",
       "0   100         NaN        32607  \n",
       "1   200         NaN        50811  \n",
       "2   300         NaN        41210  \n",
       "3   401         NaN        36075  \n",
       "4   402         NaN        47786  "
      ]
     },
     "execution_count": 18,
     "metadata": {},
     "output_type": "execute_result"
    }
   ],
   "source": [
    "merged = pd.merge(pumaHH,pumaBB[['puma','B28002_004E']],on='puma', how='left')\n",
    "merged.head(5)"
   ]
  },
  {
   "cell_type": "code",
   "execution_count": 19,
   "metadata": {},
   "outputs": [],
   "source": [
    "merged['pcBB'] = merged['B28002_004E']/merged['B28002_001E']*100"
   ]
  },
  {
   "cell_type": "code",
   "execution_count": 20,
   "metadata": {},
   "outputs": [
    {
     "data": {
      "text/html": [
       "<div>\n",
       "<table border=\"1\" class=\"dataframe\">\n",
       "  <thead>\n",
       "    <tr style=\"text-align: right;\">\n",
       "      <th></th>\n",
       "      <th>B28002_001E</th>\n",
       "      <th>NAME</th>\n",
       "      <th>state</th>\n",
       "      <th>puma</th>\n",
       "      <th>Unnamed: 4</th>\n",
       "      <th>B28002_004E</th>\n",
       "      <th>pcBB</th>\n",
       "    </tr>\n",
       "  </thead>\n",
       "  <tbody>\n",
       "    <tr>\n",
       "      <th>0</th>\n",
       "      <td>40479</td>\n",
       "      <td>St. Lawrence County PUMA, New York</td>\n",
       "      <td>36</td>\n",
       "      <td>100</td>\n",
       "      <td>NaN</td>\n",
       "      <td>32607</td>\n",
       "      <td>80.552879</td>\n",
       "    </tr>\n",
       "    <tr>\n",
       "      <th>1</th>\n",
       "      <td>67092</td>\n",
       "      <td>Clinton, Franklin, Essex &amp; Hamilton Counties P...</td>\n",
       "      <td>36</td>\n",
       "      <td>200</td>\n",
       "      <td>NaN</td>\n",
       "      <td>50811</td>\n",
       "      <td>75.733321</td>\n",
       "    </tr>\n",
       "    <tr>\n",
       "      <th>2</th>\n",
       "      <td>51614</td>\n",
       "      <td>Warren &amp; Washington Counties PUMA, New York</td>\n",
       "      <td>36</td>\n",
       "      <td>300</td>\n",
       "      <td>NaN</td>\n",
       "      <td>41210</td>\n",
       "      <td>79.842678</td>\n",
       "    </tr>\n",
       "    <tr>\n",
       "      <th>3</th>\n",
       "      <td>44300</td>\n",
       "      <td>Herkimer (North &amp; Central) &amp; Oneida (Outer) Co...</td>\n",
       "      <td>36</td>\n",
       "      <td>401</td>\n",
       "      <td>NaN</td>\n",
       "      <td>36075</td>\n",
       "      <td>81.433409</td>\n",
       "    </tr>\n",
       "    <tr>\n",
       "      <th>4</th>\n",
       "      <td>61146</td>\n",
       "      <td>Oneida County (Central)--Greater Utica &amp; Rome ...</td>\n",
       "      <td>36</td>\n",
       "      <td>402</td>\n",
       "      <td>NaN</td>\n",
       "      <td>47786</td>\n",
       "      <td>78.150656</td>\n",
       "    </tr>\n",
       "  </tbody>\n",
       "</table>\n",
       "</div>"
      ],
      "text/plain": [
       "   B28002_001E                                               NAME  state  \\\n",
       "0        40479                 St. Lawrence County PUMA, New York     36   \n",
       "1        67092  Clinton, Franklin, Essex & Hamilton Counties P...     36   \n",
       "2        51614        Warren & Washington Counties PUMA, New York     36   \n",
       "3        44300  Herkimer (North & Central) & Oneida (Outer) Co...     36   \n",
       "4        61146  Oneida County (Central)--Greater Utica & Rome ...     36   \n",
       "\n",
       "   puma  Unnamed: 4  B28002_004E       pcBB  \n",
       "0   100         NaN        32607  80.552879  \n",
       "1   200         NaN        50811  75.733321  \n",
       "2   300         NaN        41210  79.842678  \n",
       "3   401         NaN        36075  81.433409  \n",
       "4   402         NaN        47786  78.150656  "
      ]
     },
     "execution_count": 20,
     "metadata": {},
     "output_type": "execute_result"
    }
   ],
   "source": [
    "merged.head(5)"
   ]
  },
  {
   "cell_type": "markdown",
   "metadata": {},
   "source": [
    "### 2.3 Now compare it with the AFF published \"percentage of households with broadband access.\""
   ]
  },
  {
   "cell_type": "code",
   "execution_count": 21,
   "metadata": {},
   "outputs": [
    {
     "name": "stdout",
     "output_type": "stream",
     "text": [
      "Yes\r\n"
     ]
    }
   ],
   "source": [
    "# Unzip and load file downloaded directly from Census website\n",
    "!if [ $PUIDATA/ACS_16 ] ; then echo \"Yes\"; else unzip ACS_16_1YR_GCT2801.ST50.zip -d $PUIdata/ACS_16; fi"
   ]
  },
  {
   "cell_type": "code",
   "execution_count": 22,
   "metadata": {},
   "outputs": [],
   "source": [
    "GCT2801 = pd.read_csv(os.getenv(\"PUIDATA\") + \"/ACS_16/ACS_16_1YR_GCT2801.ST50.csv\",\\\n",
    "                       usecols=[\"GCT_STUB.target-geo-id2\",\"HC01\",\"HC02\"])"
   ]
  },
  {
   "cell_type": "code",
   "execution_count": 23,
   "metadata": {},
   "outputs": [
    {
     "data": {
      "text/html": [
       "<div>\n",
       "<table border=\"1\" class=\"dataframe\">\n",
       "  <thead>\n",
       "    <tr style=\"text-align: right;\">\n",
       "      <th></th>\n",
       "      <th>GCT_STUB.target-geo-id2</th>\n",
       "      <th>HC01</th>\n",
       "      <th>HC02</th>\n",
       "    </tr>\n",
       "  </thead>\n",
       "  <tbody>\n",
       "    <tr>\n",
       "      <th>0</th>\n",
       "      <td>Target Geo Id2</td>\n",
       "      <td>Percent</td>\n",
       "      <td>Margin of Error</td>\n",
       "    </tr>\n",
       "    <tr>\n",
       "      <th>1</th>\n",
       "      <td>36</td>\n",
       "      <td>81.7</td>\n",
       "      <td>0.2</td>\n",
       "    </tr>\n",
       "    <tr>\n",
       "      <th>2</th>\n",
       "      <td>3600100</td>\n",
       "      <td>80.6</td>\n",
       "      <td>2.6</td>\n",
       "    </tr>\n",
       "    <tr>\n",
       "      <th>3</th>\n",
       "      <td>3600200</td>\n",
       "      <td>75.7</td>\n",
       "      <td>2.2</td>\n",
       "    </tr>\n",
       "    <tr>\n",
       "      <th>4</th>\n",
       "      <td>3600300</td>\n",
       "      <td>79.8</td>\n",
       "      <td>2.6</td>\n",
       "    </tr>\n",
       "  </tbody>\n",
       "</table>\n",
       "</div>"
      ],
      "text/plain": [
       "  GCT_STUB.target-geo-id2     HC01             HC02\n",
       "0          Target Geo Id2  Percent  Margin of Error\n",
       "1                      36     81.7              0.2\n",
       "2                 3600100     80.6              2.6\n",
       "3                 3600200     75.7              2.2\n",
       "4                 3600300     79.8              2.6"
      ]
     },
     "execution_count": 23,
     "metadata": {},
     "output_type": "execute_result"
    }
   ],
   "source": [
    "GCT2801.head(5)"
   ]
  },
  {
   "cell_type": "code",
   "execution_count": 24,
   "metadata": {},
   "outputs": [],
   "source": [
    "# Rename GID column for ease of use\n",
    "GCT2801.rename(columns = {'GCT_STUB.target-geo-id2':'gid'}, inplace=True)"
   ]
  },
  {
   "cell_type": "code",
   "execution_count": 25,
   "metadata": {},
   "outputs": [],
   "source": [
    "# Drop first row and cast first column as int\n",
    "GCT2801.drop(0, inplace=True)\n",
    "GCT2801['gid'] = GCT2801['gid'].astype('int')"
   ]
  },
  {
   "cell_type": "code",
   "execution_count": 26,
   "metadata": {},
   "outputs": [
    {
     "data": {
      "text/html": [
       "<div>\n",
       "<table border=\"1\" class=\"dataframe\">\n",
       "  <thead>\n",
       "    <tr style=\"text-align: right;\">\n",
       "      <th></th>\n",
       "      <th>gid</th>\n",
       "      <th>HC01</th>\n",
       "      <th>HC02</th>\n",
       "    </tr>\n",
       "  </thead>\n",
       "  <tbody>\n",
       "    <tr>\n",
       "      <th>1</th>\n",
       "      <td>36</td>\n",
       "      <td>81.7</td>\n",
       "      <td>0.2</td>\n",
       "    </tr>\n",
       "    <tr>\n",
       "      <th>2</th>\n",
       "      <td>3600100</td>\n",
       "      <td>80.6</td>\n",
       "      <td>2.6</td>\n",
       "    </tr>\n",
       "    <tr>\n",
       "      <th>3</th>\n",
       "      <td>3600200</td>\n",
       "      <td>75.7</td>\n",
       "      <td>2.2</td>\n",
       "    </tr>\n",
       "    <tr>\n",
       "      <th>4</th>\n",
       "      <td>3600300</td>\n",
       "      <td>79.8</td>\n",
       "      <td>2.6</td>\n",
       "    </tr>\n",
       "    <tr>\n",
       "      <th>5</th>\n",
       "      <td>3600401</td>\n",
       "      <td>81.4</td>\n",
       "      <td>2.4</td>\n",
       "    </tr>\n",
       "  </tbody>\n",
       "</table>\n",
       "</div>"
      ],
      "text/plain": [
       "       gid  HC01 HC02\n",
       "1       36  81.7  0.2\n",
       "2  3600100  80.6  2.6\n",
       "3  3600200  75.7  2.2\n",
       "4  3600300  79.8  2.6\n",
       "5  3600401  81.4  2.4"
      ]
     },
     "execution_count": 26,
     "metadata": {},
     "output_type": "execute_result"
    }
   ],
   "source": [
    "GCT2801.head(5)"
   ]
  },
  {
   "cell_type": "code",
   "execution_count": 27,
   "metadata": {},
   "outputs": [],
   "source": [
    "# Perform subtraction on GIDs so data can be merged with PUMA\n",
    "GCT2801['gid'] = GCT2801['gid'] - 3600000"
   ]
  },
  {
   "cell_type": "code",
   "execution_count": 28,
   "metadata": {},
   "outputs": [
    {
     "data": {
      "text/html": [
       "<div>\n",
       "<table border=\"1\" class=\"dataframe\">\n",
       "  <thead>\n",
       "    <tr style=\"text-align: right;\">\n",
       "      <th></th>\n",
       "      <th>gid</th>\n",
       "      <th>HC01</th>\n",
       "      <th>HC02</th>\n",
       "    </tr>\n",
       "  </thead>\n",
       "  <tbody>\n",
       "    <tr>\n",
       "      <th>1</th>\n",
       "      <td>-3599964</td>\n",
       "      <td>81.7</td>\n",
       "      <td>0.2</td>\n",
       "    </tr>\n",
       "    <tr>\n",
       "      <th>2</th>\n",
       "      <td>100</td>\n",
       "      <td>80.6</td>\n",
       "      <td>2.6</td>\n",
       "    </tr>\n",
       "    <tr>\n",
       "      <th>3</th>\n",
       "      <td>200</td>\n",
       "      <td>75.7</td>\n",
       "      <td>2.2</td>\n",
       "    </tr>\n",
       "    <tr>\n",
       "      <th>4</th>\n",
       "      <td>300</td>\n",
       "      <td>79.8</td>\n",
       "      <td>2.6</td>\n",
       "    </tr>\n",
       "    <tr>\n",
       "      <th>5</th>\n",
       "      <td>401</td>\n",
       "      <td>81.4</td>\n",
       "      <td>2.4</td>\n",
       "    </tr>\n",
       "  </tbody>\n",
       "</table>\n",
       "</div>"
      ],
      "text/plain": [
       "       gid  HC01 HC02\n",
       "1 -3599964  81.7  0.2\n",
       "2      100  80.6  2.6\n",
       "3      200  75.7  2.2\n",
       "4      300  79.8  2.6\n",
       "5      401  81.4  2.4"
      ]
     },
     "execution_count": 28,
     "metadata": {},
     "output_type": "execute_result"
    }
   ],
   "source": [
    "GCT2801.head(5)"
   ]
  },
  {
   "cell_type": "code",
   "execution_count": 29,
   "metadata": {},
   "outputs": [
    {
     "data": {
      "text/html": [
       "<div>\n",
       "<table border=\"1\" class=\"dataframe\">\n",
       "  <thead>\n",
       "    <tr style=\"text-align: right;\">\n",
       "      <th></th>\n",
       "      <th>pcBB</th>\n",
       "      <th>HC01</th>\n",
       "      <th>diff</th>\n",
       "    </tr>\n",
       "  </thead>\n",
       "  <tbody>\n",
       "    <tr>\n",
       "      <th>0</th>\n",
       "      <td>80.552879</td>\n",
       "      <td>80.6</td>\n",
       "      <td>0.047121</td>\n",
       "    </tr>\n",
       "    <tr>\n",
       "      <th>1</th>\n",
       "      <td>75.733321</td>\n",
       "      <td>75.7</td>\n",
       "      <td>0.033321</td>\n",
       "    </tr>\n",
       "    <tr>\n",
       "      <th>2</th>\n",
       "      <td>79.842678</td>\n",
       "      <td>79.8</td>\n",
       "      <td>0.042678</td>\n",
       "    </tr>\n",
       "    <tr>\n",
       "      <th>3</th>\n",
       "      <td>81.433409</td>\n",
       "      <td>81.4</td>\n",
       "      <td>0.033409</td>\n",
       "    </tr>\n",
       "    <tr>\n",
       "      <th>4</th>\n",
       "      <td>78.150656</td>\n",
       "      <td>78.2</td>\n",
       "      <td>0.049344</td>\n",
       "    </tr>\n",
       "  </tbody>\n",
       "</table>\n",
       "</div>"
      ],
      "text/plain": [
       "        pcBB  HC01      diff\n",
       "0  80.552879  80.6  0.047121\n",
       "1  75.733321  75.7  0.033321\n",
       "2  79.842678  79.8  0.042678\n",
       "3  81.433409  81.4  0.033409\n",
       "4  78.150656  78.2  0.049344"
      ]
     },
     "execution_count": 29,
     "metadata": {},
     "output_type": "execute_result"
    }
   ],
   "source": [
    "diff_ = merged.merge(GCT2801, right_on=\"gid\", \n",
    "                     left_on=\"puma\")[[\"pcBB\", \"HC01\"]]\n",
    "\n",
    "diff_[\"diff\"] = np.abs(diff_[\"pcBB\"] - diff_[\"HC01\"].astype(float))\n",
    "diff_.head(5)"
   ]
  },
  {
   "cell_type": "code",
   "execution_count": 30,
   "metadata": {},
   "outputs": [
    {
     "data": {
      "text/html": [
       "<div>\n",
       "<table border=\"1\" class=\"dataframe\">\n",
       "  <thead>\n",
       "    <tr style=\"text-align: right;\">\n",
       "      <th></th>\n",
       "      <th>pcBB</th>\n",
       "      <th>diff</th>\n",
       "    </tr>\n",
       "  </thead>\n",
       "  <tbody>\n",
       "    <tr>\n",
       "      <th>count</th>\n",
       "      <td>145.000000</td>\n",
       "      <td>145.000000</td>\n",
       "    </tr>\n",
       "    <tr>\n",
       "      <th>mean</th>\n",
       "      <td>81.845478</td>\n",
       "      <td>0.026217</td>\n",
       "    </tr>\n",
       "    <tr>\n",
       "      <th>std</th>\n",
       "      <td>7.063369</td>\n",
       "      <td>0.014480</td>\n",
       "    </tr>\n",
       "    <tr>\n",
       "      <th>min</th>\n",
       "      <td>54.932945</td>\n",
       "      <td>0.000178</td>\n",
       "    </tr>\n",
       "    <tr>\n",
       "      <th>25%</th>\n",
       "      <td>77.770257</td>\n",
       "      <td>0.012252</td>\n",
       "    </tr>\n",
       "    <tr>\n",
       "      <th>50%</th>\n",
       "      <td>82.826141</td>\n",
       "      <td>0.027230</td>\n",
       "    </tr>\n",
       "    <tr>\n",
       "      <th>75%</th>\n",
       "      <td>87.305077</td>\n",
       "      <td>0.039090</td>\n",
       "    </tr>\n",
       "    <tr>\n",
       "      <th>max</th>\n",
       "      <td>93.404143</td>\n",
       "      <td>0.049872</td>\n",
       "    </tr>\n",
       "  </tbody>\n",
       "</table>\n",
       "</div>"
      ],
      "text/plain": [
       "             pcBB        diff\n",
       "count  145.000000  145.000000\n",
       "mean    81.845478    0.026217\n",
       "std      7.063369    0.014480\n",
       "min     54.932945    0.000178\n",
       "25%     77.770257    0.012252\n",
       "50%     82.826141    0.027230\n",
       "75%     87.305077    0.039090\n",
       "max     93.404143    0.049872"
      ]
     },
     "execution_count": 30,
     "metadata": {},
     "output_type": "execute_result"
    }
   ],
   "source": [
    "# Check max difference\n",
    "diff_.describe()"
   ]
  },
  {
   "cell_type": "markdown",
   "metadata": {},
   "source": [
    "# 3. Plot a choropleth of NYC broadband access "
   ]
  },
  {
   "cell_type": "markdown",
   "metadata": {},
   "source": [
    "### 3.1 Merge with the PUMA geodataframe and plot a choropleth of the percentage of households with broadband access"
   ]
  },
  {
   "cell_type": "code",
   "execution_count": 31,
   "metadata": {},
   "outputs": [
    {
     "data": {
      "text/html": [
       "<div>\n",
       "<table border=\"1\" class=\"dataframe\">\n",
       "  <thead>\n",
       "    <tr style=\"text-align: right;\">\n",
       "      <th></th>\n",
       "      <th>puma</th>\n",
       "      <th>shape_area</th>\n",
       "      <th>shape_leng</th>\n",
       "      <th>geometry</th>\n",
       "      <th>pcBB</th>\n",
       "    </tr>\n",
       "  </thead>\n",
       "  <tbody>\n",
       "    <tr>\n",
       "      <th>0</th>\n",
       "      <td>3701</td>\n",
       "      <td>9.792852e+07</td>\n",
       "      <td>53227.144461</td>\n",
       "      <td>POLYGON ((-73.89641133483133 40.90450452082026...</td>\n",
       "      <td>84.275820</td>\n",
       "    </tr>\n",
       "    <tr>\n",
       "      <th>1</th>\n",
       "      <td>3702</td>\n",
       "      <td>1.889860e+08</td>\n",
       "      <td>106050.002302</td>\n",
       "      <td>POLYGON ((-73.8442314689986 40.86942035096838,...</td>\n",
       "      <td>68.310015</td>\n",
       "    </tr>\n",
       "    <tr>\n",
       "      <th>2</th>\n",
       "      <td>3703</td>\n",
       "      <td>2.670137e+08</td>\n",
       "      <td>304071.257466</td>\n",
       "      <td>(POLYGON ((-73.78833349834532 40.8346671297593...</td>\n",
       "      <td>82.826141</td>\n",
       "    </tr>\n",
       "    <tr>\n",
       "      <th>3</th>\n",
       "      <td>3704</td>\n",
       "      <td>1.062129e+08</td>\n",
       "      <td>47970.901277</td>\n",
       "      <td>POLYGON ((-73.84792614069238 40.8713422330779,...</td>\n",
       "      <td>72.553737</td>\n",
       "    </tr>\n",
       "    <tr>\n",
       "      <th>4</th>\n",
       "      <td>4015</td>\n",
       "      <td>8.105438e+07</td>\n",
       "      <td>50007.415493</td>\n",
       "      <td>POLYGON ((-73.95374853778468 40.63858633758547...</td>\n",
       "      <td>78.778618</td>\n",
       "    </tr>\n",
       "  </tbody>\n",
       "</table>\n",
       "</div>"
      ],
      "text/plain": [
       "   puma    shape_area     shape_leng  \\\n",
       "0  3701  9.792852e+07   53227.144461   \n",
       "1  3702  1.889860e+08  106050.002302   \n",
       "2  3703  2.670137e+08  304071.257466   \n",
       "3  3704  1.062129e+08   47970.901277   \n",
       "4  4015  8.105438e+07   50007.415493   \n",
       "\n",
       "                                            geometry       pcBB  \n",
       "0  POLYGON ((-73.89641133483133 40.90450452082026...  84.275820  \n",
       "1  POLYGON ((-73.8442314689986 40.86942035096838,...  68.310015  \n",
       "2  (POLYGON ((-73.78833349834532 40.8346671297593...  82.826141  \n",
       "3  POLYGON ((-73.84792614069238 40.8713422330779,...  72.553737  \n",
       "4  POLYGON ((-73.95374853778468 40.63858633758547...  78.778618  "
      ]
     },
     "execution_count": 31,
     "metadata": {},
     "output_type": "execute_result"
    }
   ],
   "source": [
    "# Merge pumashp with broadband % data\n",
    "pumashpmerge = pumashp.merge(merged[['puma','pcBB']],on='puma', how='inner')\n",
    "pumashpmerge.head(5)"
   ]
  },
  {
   "cell_type": "code",
   "execution_count": 32,
   "metadata": {},
   "outputs": [
    {
     "data": {
      "image/png": "[encoded data removed]",
      "text/plain": [
       "<matplotlib.figure.Figure at 0x7f60c6c07400>"
      ]
     },
     "metadata": {},
     "output_type": "display_data"
    }
   ],
   "source": [
    "# Plot chloropleth of merged data\n",
    "f, ax = plt.subplots(figsize=(10,10))\n",
    "ax.get_xaxis().set_visible(False)\n",
    "ax.get_yaxis().set_visible(False)\n",
    "pumashpmerge.plot(column='pcBB',alpha=1,linewidth=0.5,ax=ax,label='pcBB',scheme=\"Equal_interval\",k=10, legend=True)\n",
    "plt.title(\"Map of BB Access across PUMAs in NYC\",fontsize=20)\n",
    "plt.show()\n"
   ]
  },
  {
   "cell_type": "markdown",
   "metadata": {},
   "source": [
    "### Note on above plot:\n",
    "\n",
    "The above plot shows the percentage of households per PUMA that have broadband internet service. PUMAs with the highest concentration of households with broadband access are highlighted in lighter colors while those with lower concentrations are colored in darker shades. \n",
    "\n",
    "The plot shows that the highest concentrations of households with broadband are mostly located in Manhattan. Parts of Brooklyn and the Bronx have some of the lowest levels."
   ]
  },
  {
   "cell_type": "markdown",
   "metadata": {},
   "source": [
    "# 4. LinkNYC: assess whether the locations of the linkNYC stations are supplying internet where it is needed."
   ]
  },
  {
   "cell_type": "code",
   "execution_count": 33,
   "metadata": {},
   "outputs": [
    {
     "data": {
      "text/html": [
       "<div>\n",
       "<table border=\"1\" class=\"dataframe\">\n",
       "  <thead>\n",
       "    <tr style=\"text-align: right;\">\n",
       "      <th></th>\n",
       "      <th>Unnamed: 0</th>\n",
       "      <th>link_site</th>\n",
       "      <th>longitude</th>\n",
       "      <th>date_link_</th>\n",
       "      <th>latitude</th>\n",
       "    </tr>\n",
       "  </thead>\n",
       "  <tbody>\n",
       "    <tr>\n",
       "      <th>0</th>\n",
       "      <td>0</td>\n",
       "      <td>bk-01-138951</td>\n",
       "      <td>-73.942489</td>\n",
       "      <td>2017-07-01</td>\n",
       "      <td>40.701668</td>\n",
       "    </tr>\n",
       "    <tr>\n",
       "      <th>1</th>\n",
       "      <td>1</td>\n",
       "      <td>bk-01-109091</td>\n",
       "      <td>-73.942169</td>\n",
       "      <td>2017-07-01</td>\n",
       "      <td>40.701542</td>\n",
       "    </tr>\n",
       "    <tr>\n",
       "      <th>2</th>\n",
       "      <td>2</td>\n",
       "      <td>bk-01-143982</td>\n",
       "      <td>-73.942239</td>\n",
       "      <td>2017-07-01</td>\n",
       "      <td>40.701930</td>\n",
       "    </tr>\n",
       "    <tr>\n",
       "      <th>3</th>\n",
       "      <td>3</td>\n",
       "      <td>bk-01-109262</td>\n",
       "      <td>-73.942918</td>\n",
       "      <td>2017-04-28</td>\n",
       "      <td>40.705060</td>\n",
       "    </tr>\n",
       "    <tr>\n",
       "      <th>4</th>\n",
       "      <td>4</td>\n",
       "      <td>bk-01-125268</td>\n",
       "      <td>-73.953439</td>\n",
       "      <td>2017-03-31</td>\n",
       "      <td>40.728133</td>\n",
       "    </tr>\n",
       "  </tbody>\n",
       "</table>\n",
       "</div>"
      ],
      "text/plain": [
       "   Unnamed: 0     link_site  longitude  date_link_   latitude\n",
       "0           0  bk-01-138951 -73.942489  2017-07-01  40.701668\n",
       "1           1  bk-01-109091 -73.942169  2017-07-01  40.701542\n",
       "2           2  bk-01-143982 -73.942239  2017-07-01  40.701930\n",
       "3           3  bk-01-109262 -73.942918  2017-04-28  40.705060\n",
       "4           4  bk-01-125268 -73.953439  2017-03-31  40.728133"
      ]
     },
     "execution_count": 33,
     "metadata": {},
     "output_type": "execute_result"
    }
   ],
   "source": [
    "# Create linkNYC df\n",
    "linkNYC = pd.read_csv(\"linkNYClocations.csv\")\n",
    "linkNYC.head(5)"
   ]
  },
  {
   "cell_type": "code",
   "execution_count": 34,
   "metadata": {},
   "outputs": [
    {
     "data": {
      "text/plain": [
       "(1414, 5)"
      ]
     },
     "execution_count": 34,
     "metadata": {},
     "output_type": "execute_result"
    }
   ],
   "source": [
    "linkNYC.shape"
   ]
  },
  {
   "cell_type": "code",
   "execution_count": 35,
   "metadata": {},
   "outputs": [
    {
     "data": {
      "text/html": [
       "<div>\n",
       "<table border=\"1\" class=\"dataframe\">\n",
       "  <thead>\n",
       "    <tr style=\"text-align: right;\">\n",
       "      <th></th>\n",
       "      <th>link_site</th>\n",
       "      <th>longitude</th>\n",
       "      <th>date_link_</th>\n",
       "      <th>latitude</th>\n",
       "    </tr>\n",
       "  </thead>\n",
       "  <tbody>\n",
       "    <tr>\n",
       "      <th>0</th>\n",
       "      <td>bk-01-138951</td>\n",
       "      <td>-73.942489</td>\n",
       "      <td>2017-07-01</td>\n",
       "      <td>40.701668</td>\n",
       "    </tr>\n",
       "    <tr>\n",
       "      <th>1</th>\n",
       "      <td>bk-01-109091</td>\n",
       "      <td>-73.942169</td>\n",
       "      <td>2017-07-01</td>\n",
       "      <td>40.701542</td>\n",
       "    </tr>\n",
       "    <tr>\n",
       "      <th>2</th>\n",
       "      <td>bk-01-143982</td>\n",
       "      <td>-73.942239</td>\n",
       "      <td>2017-07-01</td>\n",
       "      <td>40.701930</td>\n",
       "    </tr>\n",
       "    <tr>\n",
       "      <th>3</th>\n",
       "      <td>bk-01-109262</td>\n",
       "      <td>-73.942918</td>\n",
       "      <td>2017-04-28</td>\n",
       "      <td>40.705060</td>\n",
       "    </tr>\n",
       "    <tr>\n",
       "      <th>4</th>\n",
       "      <td>bk-01-125268</td>\n",
       "      <td>-73.953439</td>\n",
       "      <td>2017-03-31</td>\n",
       "      <td>40.728133</td>\n",
       "    </tr>\n",
       "  </tbody>\n",
       "</table>\n",
       "</div>"
      ],
      "text/plain": [
       "      link_site  longitude  date_link_   latitude\n",
       "0  bk-01-138951 -73.942489  2017-07-01  40.701668\n",
       "1  bk-01-109091 -73.942169  2017-07-01  40.701542\n",
       "2  bk-01-143982 -73.942239  2017-07-01  40.701930\n",
       "3  bk-01-109262 -73.942918  2017-04-28  40.705060\n",
       "4  bk-01-125268 -73.953439  2017-03-31  40.728133"
      ]
     },
     "execution_count": 35,
     "metadata": {},
     "output_type": "execute_result"
    }
   ],
   "source": [
    "# Drop first column since it is unnecessary\n",
    "linkNYC.drop(linkNYC.columns[0], axis=1, inplace=True)\n",
    "linkNYC.head(5)"
   ]
  },
  {
   "cell_type": "code",
   "execution_count": 36,
   "metadata": {},
   "outputs": [
    {
     "data": {
      "text/plain": [
       "(1414, 4)"
      ]
     },
     "execution_count": 36,
     "metadata": {},
     "output_type": "execute_result"
    }
   ],
   "source": [
    "linkNYC.shape"
   ]
  },
  {
   "cell_type": "code",
   "execution_count": 37,
   "metadata": {},
   "outputs": [
    {
     "data": {
      "text/html": [
       "<div>\n",
       "<table border=\"1\" class=\"dataframe\">\n",
       "  <thead>\n",
       "    <tr style=\"text-align: right;\">\n",
       "      <th></th>\n",
       "      <th>link_site</th>\n",
       "      <th>longitude</th>\n",
       "      <th>date_link_</th>\n",
       "      <th>latitude</th>\n",
       "      <th>lonlat</th>\n",
       "      <th>geometry</th>\n",
       "    </tr>\n",
       "  </thead>\n",
       "  <tbody>\n",
       "    <tr>\n",
       "      <th>0</th>\n",
       "      <td>bk-01-138951</td>\n",
       "      <td>-73.942489</td>\n",
       "      <td>2017-07-01</td>\n",
       "      <td>40.701668</td>\n",
       "      <td>(-73.94248859, 40.70166753)</td>\n",
       "      <td>POINT (-73.94248859 40.70166753)</td>\n",
       "    </tr>\n",
       "    <tr>\n",
       "      <th>1</th>\n",
       "      <td>bk-01-109091</td>\n",
       "      <td>-73.942169</td>\n",
       "      <td>2017-07-01</td>\n",
       "      <td>40.701542</td>\n",
       "      <td>(-73.9421692831, 40.7015421938)</td>\n",
       "      <td>POINT (-73.9421692831 40.7015421938)</td>\n",
       "    </tr>\n",
       "    <tr>\n",
       "      <th>2</th>\n",
       "      <td>bk-01-143982</td>\n",
       "      <td>-73.942239</td>\n",
       "      <td>2017-07-01</td>\n",
       "      <td>40.701930</td>\n",
       "      <td>(-73.9422392385, 40.7019303439)</td>\n",
       "      <td>POINT (-73.94223923850001 40.7019303439)</td>\n",
       "    </tr>\n",
       "    <tr>\n",
       "      <th>3</th>\n",
       "      <td>bk-01-109262</td>\n",
       "      <td>-73.942918</td>\n",
       "      <td>2017-04-28</td>\n",
       "      <td>40.705060</td>\n",
       "      <td>(-73.94291758, 40.70506042)</td>\n",
       "      <td>POINT (-73.94291758 40.70506042)</td>\n",
       "    </tr>\n",
       "    <tr>\n",
       "      <th>4</th>\n",
       "      <td>bk-01-125268</td>\n",
       "      <td>-73.953439</td>\n",
       "      <td>2017-03-31</td>\n",
       "      <td>40.728133</td>\n",
       "      <td>(-73.953439, 40.728133)</td>\n",
       "      <td>POINT (-73.953439 40.728133)</td>\n",
       "    </tr>\n",
       "  </tbody>\n",
       "</table>\n",
       "</div>"
      ],
      "text/plain": [
       "      link_site  longitude  date_link_   latitude  \\\n",
       "0  bk-01-138951 -73.942489  2017-07-01  40.701668   \n",
       "1  bk-01-109091 -73.942169  2017-07-01  40.701542   \n",
       "2  bk-01-143982 -73.942239  2017-07-01  40.701930   \n",
       "3  bk-01-109262 -73.942918  2017-04-28  40.705060   \n",
       "4  bk-01-125268 -73.953439  2017-03-31  40.728133   \n",
       "\n",
       "                            lonlat                                  geometry  \n",
       "0      (-73.94248859, 40.70166753)          POINT (-73.94248859 40.70166753)  \n",
       "1  (-73.9421692831, 40.7015421938)      POINT (-73.9421692831 40.7015421938)  \n",
       "2  (-73.9422392385, 40.7019303439)  POINT (-73.94223923850001 40.7019303439)  \n",
       "3      (-73.94291758, 40.70506042)          POINT (-73.94291758 40.70506042)  \n",
       "4          (-73.953439, 40.728133)              POINT (-73.953439 40.728133)  "
      ]
     },
     "execution_count": 37,
     "metadata": {},
     "output_type": "execute_result"
    }
   ],
   "source": [
    "linkNYC['lonlat'] = list(zip(linkNYC.longitude, linkNYC.latitude))\n",
    "linkNYC['geometry'] = linkNYC[['lonlat']].applymap(lambda x:shapely.geometry.Point(x))\n",
    "linkNYC.head(5)"
   ]
  },
  {
   "cell_type": "code",
   "execution_count": 38,
   "metadata": {},
   "outputs": [
    {
     "data": {
      "text/html": [
       "<div>\n",
       "<table border=\"1\" class=\"dataframe\">\n",
       "  <thead>\n",
       "    <tr style=\"text-align: right;\">\n",
       "      <th></th>\n",
       "      <th>link_site</th>\n",
       "      <th>longitude</th>\n",
       "      <th>date_link_</th>\n",
       "      <th>latitude</th>\n",
       "      <th>lonlat</th>\n",
       "      <th>geometry</th>\n",
       "    </tr>\n",
       "  </thead>\n",
       "  <tbody>\n",
       "    <tr>\n",
       "      <th>0</th>\n",
       "      <td>bk-01-138951</td>\n",
       "      <td>-73.942489</td>\n",
       "      <td>2017-07-01</td>\n",
       "      <td>40.701668</td>\n",
       "      <td>(-73.94248859, 40.70166753)</td>\n",
       "      <td>POINT (-73.94248859 40.70166753)</td>\n",
       "    </tr>\n",
       "    <tr>\n",
       "      <th>1</th>\n",
       "      <td>bk-01-109091</td>\n",
       "      <td>-73.942169</td>\n",
       "      <td>2017-07-01</td>\n",
       "      <td>40.701542</td>\n",
       "      <td>(-73.9421692831, 40.7015421938)</td>\n",
       "      <td>POINT (-73.9421692831 40.7015421938)</td>\n",
       "    </tr>\n",
       "    <tr>\n",
       "      <th>2</th>\n",
       "      <td>bk-01-143982</td>\n",
       "      <td>-73.942239</td>\n",
       "      <td>2017-07-01</td>\n",
       "      <td>40.701930</td>\n",
       "      <td>(-73.9422392385, 40.7019303439)</td>\n",
       "      <td>POINT (-73.94223923850001 40.7019303439)</td>\n",
       "    </tr>\n",
       "    <tr>\n",
       "      <th>3</th>\n",
       "      <td>bk-01-109262</td>\n",
       "      <td>-73.942918</td>\n",
       "      <td>2017-04-28</td>\n",
       "      <td>40.705060</td>\n",
       "      <td>(-73.94291758, 40.70506042)</td>\n",
       "      <td>POINT (-73.94291758 40.70506042)</td>\n",
       "    </tr>\n",
       "    <tr>\n",
       "      <th>4</th>\n",
       "      <td>bk-01-125268</td>\n",
       "      <td>-73.953439</td>\n",
       "      <td>2017-03-31</td>\n",
       "      <td>40.728133</td>\n",
       "      <td>(-73.953439, 40.728133)</td>\n",
       "      <td>POINT (-73.953439 40.728133)</td>\n",
       "    </tr>\n",
       "  </tbody>\n",
       "</table>\n",
       "</div>"
      ],
      "text/plain": [
       "      link_site  longitude  date_link_   latitude  \\\n",
       "0  bk-01-138951 -73.942489  2017-07-01  40.701668   \n",
       "1  bk-01-109091 -73.942169  2017-07-01  40.701542   \n",
       "2  bk-01-143982 -73.942239  2017-07-01  40.701930   \n",
       "3  bk-01-109262 -73.942918  2017-04-28  40.705060   \n",
       "4  bk-01-125268 -73.953439  2017-03-31  40.728133   \n",
       "\n",
       "                            lonlat                                  geometry  \n",
       "0      (-73.94248859, 40.70166753)          POINT (-73.94248859 40.70166753)  \n",
       "1  (-73.9421692831, 40.7015421938)      POINT (-73.9421692831 40.7015421938)  \n",
       "2  (-73.9422392385, 40.7019303439)  POINT (-73.94223923850001 40.7019303439)  \n",
       "3      (-73.94291758, 40.70506042)          POINT (-73.94291758 40.70506042)  \n",
       "4          (-73.953439, 40.728133)              POINT (-73.953439 40.728133)  "
      ]
     },
     "execution_count": 38,
     "metadata": {},
     "output_type": "execute_result"
    }
   ],
   "source": [
    "linkNYC = gpd.GeoDataFrame(linkNYC)\n",
    "linkNYC.head(5)"
   ]
  },
  {
   "cell_type": "code",
   "execution_count": 39,
   "metadata": {},
   "outputs": [
    {
     "data": {
      "text/plain": [
       "{'init': 'epsg:4326', 'no_defs': True}"
      ]
     },
     "execution_count": 39,
     "metadata": {},
     "output_type": "execute_result"
    }
   ],
   "source": [
    "linkNYC.crs = from_epsg(4326)\n",
    "linkNYC.crs"
   ]
  },
  {
   "cell_type": "code",
   "execution_count": 40,
   "metadata": {},
   "outputs": [
    {
     "data": {
      "text/html": [
       "<div>\n",
       "<table border=\"1\" class=\"dataframe\">\n",
       "  <thead>\n",
       "    <tr style=\"text-align: right;\">\n",
       "      <th></th>\n",
       "      <th>puma</th>\n",
       "      <th>shape_area</th>\n",
       "      <th>shape_leng</th>\n",
       "      <th>geometry</th>\n",
       "      <th>pcBB</th>\n",
       "    </tr>\n",
       "  </thead>\n",
       "  <tbody>\n",
       "    <tr>\n",
       "      <th>0</th>\n",
       "      <td>3701</td>\n",
       "      <td>9.792852e+07</td>\n",
       "      <td>53227.144461</td>\n",
       "      <td>POLYGON ((-73.89641133483133 40.90450452082026...</td>\n",
       "      <td>84.275820</td>\n",
       "    </tr>\n",
       "    <tr>\n",
       "      <th>1</th>\n",
       "      <td>3702</td>\n",
       "      <td>1.889860e+08</td>\n",
       "      <td>106050.002302</td>\n",
       "      <td>POLYGON ((-73.8442314689986 40.86942035096838,...</td>\n",
       "      <td>68.310015</td>\n",
       "    </tr>\n",
       "    <tr>\n",
       "      <th>2</th>\n",
       "      <td>3703</td>\n",
       "      <td>2.670137e+08</td>\n",
       "      <td>304071.257466</td>\n",
       "      <td>(POLYGON ((-73.78833349834532 40.8346671297593...</td>\n",
       "      <td>82.826141</td>\n",
       "    </tr>\n",
       "    <tr>\n",
       "      <th>3</th>\n",
       "      <td>3704</td>\n",
       "      <td>1.062129e+08</td>\n",
       "      <td>47970.901277</td>\n",
       "      <td>POLYGON ((-73.84792614069238 40.8713422330779,...</td>\n",
       "      <td>72.553737</td>\n",
       "    </tr>\n",
       "    <tr>\n",
       "      <th>4</th>\n",
       "      <td>4015</td>\n",
       "      <td>8.105438e+07</td>\n",
       "      <td>50007.415493</td>\n",
       "      <td>POLYGON ((-73.95374853778468 40.63858633758547...</td>\n",
       "      <td>78.778618</td>\n",
       "    </tr>\n",
       "  </tbody>\n",
       "</table>\n",
       "</div>"
      ],
      "text/plain": [
       "   puma    shape_area     shape_leng  \\\n",
       "0  3701  9.792852e+07   53227.144461   \n",
       "1  3702  1.889860e+08  106050.002302   \n",
       "2  3703  2.670137e+08  304071.257466   \n",
       "3  3704  1.062129e+08   47970.901277   \n",
       "4  4015  8.105438e+07   50007.415493   \n",
       "\n",
       "                                            geometry       pcBB  \n",
       "0  POLYGON ((-73.89641133483133 40.90450452082026...  84.275820  \n",
       "1  POLYGON ((-73.8442314689986 40.86942035096838,...  68.310015  \n",
       "2  (POLYGON ((-73.78833349834532 40.8346671297593...  82.826141  \n",
       "3  POLYGON ((-73.84792614069238 40.8713422330779,...  72.553737  \n",
       "4  POLYGON ((-73.95374853778468 40.63858633758547...  78.778618  "
      ]
     },
     "execution_count": 40,
     "metadata": {},
     "output_type": "execute_result"
    }
   ],
   "source": [
    "pumashpmerge.head(5)"
   ]
  },
  {
   "cell_type": "code",
   "execution_count": 41,
   "metadata": {},
   "outputs": [
    {
     "data": {
      "image/png": "[encoded data removed]",
      "text/plain": [
       "<matplotlib.figure.Figure at 0x7f60bb972cc0>"
      ]
     },
     "metadata": {},
     "output_type": "display_data"
    }
   ],
   "source": [
    "# Plot chloropleth of merged data\n",
    "f, ax = plt.subplots(figsize=(10,10))\n",
    "pumashpmerge.plot(column='pcBB',alpha=.8,linewidth=0.5,ax=ax,scheme=\"Equal_interval\",k=5, legend=True)\n",
    "linkNYC.plot(column='date_link_',alpha=1,ax=ax,scheme=\"Equal_interval\",k=5,s=10)\n",
    "ax.get_xaxis().set_visible(False)\n",
    "ax.get_yaxis().set_visible(False)\n",
    "plt.title(\"LinkNYC Stations by BB Access in NYC PUMAs\",fontsize=20)\n",
    "plt.show()"
   ]
  },
  {
   "cell_type": "markdown",
   "metadata": {},
   "source": [
    "### Note on above plot:\n",
    "\n",
    "The above plot shows the percentage of households per PUMA that have broadband internet service. PUMAs with the highest concentration of households with broadband access are highlighted in lighter colors while those with lower concentrations are colored in darker shades. The locations of LinkNYC stations have been plotted as points on top of the map of broadband access per PUMA.\n",
    "\n",
    "The distribution of LinkNYC stations does not appear to follow a particular pattern of broadband access within NYC."
   ]
  },
  {
   "cell_type": "markdown",
   "metadata": {},
   "source": [
    "# 5 Find the number of linkNYC locations per person by PUMA"
   ]
  },
  {
   "cell_type": "markdown",
   "metadata": {},
   "source": [
    "### 5.1 With the AFF API from ACS, get the total population by PUMA and merge it into your GeoDF"
   ]
  },
  {
   "cell_type": "code",
   "execution_count": 42,
   "metadata": {},
   "outputs": [
    {
     "data": {
      "text/plain": [
       "{'attributes': 'B00001_001EA',\n",
       " 'concept': 'UNWEIGHTED SAMPLE COUNT OF THE POPULATION',\n",
       " 'group': 'B00001',\n",
       " 'label': 'Estimate!!Total',\n",
       " 'limit': 0,\n",
       " 'predicateType': 'int'}"
      ]
     },
     "execution_count": 42,
     "metadata": {},
     "output_type": "execute_result"
    }
   ],
   "source": [
    "# Get total population per PUMA\n",
    "[(k, aff1y['variables'][k]['label'])  for k in affkeys if k.startswith (\"B00001_001E\")]\n",
    "keyTotpop = 'B00001_001E'\n",
    "aff1y['variables'][keyTotpop]"
   ]
  },
  {
   "cell_type": "code",
   "execution_count": 43,
   "metadata": {},
   "outputs": [],
   "source": [
    "url = \"https://api.census.gov/data/2016/acs/acs1?get=\" + keyTotpop + \\\n",
    "\",NAME&for=public%20use%20microdata%20area:*&in=state:36&key=\"\n",
    "resp = requests.request('GET', url).content\n",
    "pumaPop = pd.read_csv(io.StringIO(resp.decode('utf-8').replace('[','').replace(']','')))\n",
    "pumaPop.rename(columns={'public use microdata area':'puma'}, inplace=True)"
   ]
  },
  {
   "cell_type": "code",
   "execution_count": 44,
   "metadata": {},
   "outputs": [
    {
     "data": {
      "text/html": [
       "<div>\n",
       "<table border=\"1\" class=\"dataframe\">\n",
       "  <thead>\n",
       "    <tr style=\"text-align: right;\">\n",
       "      <th></th>\n",
       "      <th>B00001_001E</th>\n",
       "      <th>NAME</th>\n",
       "      <th>state</th>\n",
       "      <th>puma</th>\n",
       "      <th>Unnamed: 4</th>\n",
       "    </tr>\n",
       "  </thead>\n",
       "  <tbody>\n",
       "    <tr>\n",
       "      <th>0</th>\n",
       "      <td>3075</td>\n",
       "      <td>St. Lawrence County PUMA, New York</td>\n",
       "      <td>36</td>\n",
       "      <td>100</td>\n",
       "      <td>NaN</td>\n",
       "    </tr>\n",
       "    <tr>\n",
       "      <th>1</th>\n",
       "      <td>4356</td>\n",
       "      <td>Clinton, Franklin, Essex &amp; Hamilton Counties P...</td>\n",
       "      <td>36</td>\n",
       "      <td>200</td>\n",
       "      <td>NaN</td>\n",
       "    </tr>\n",
       "    <tr>\n",
       "      <th>2</th>\n",
       "      <td>2736</td>\n",
       "      <td>Warren &amp; Washington Counties PUMA, New York</td>\n",
       "      <td>36</td>\n",
       "      <td>300</td>\n",
       "      <td>NaN</td>\n",
       "    </tr>\n",
       "    <tr>\n",
       "      <th>3</th>\n",
       "      <td>2722</td>\n",
       "      <td>Herkimer (North &amp; Central) &amp; Oneida (Outer) Co...</td>\n",
       "      <td>36</td>\n",
       "      <td>401</td>\n",
       "      <td>NaN</td>\n",
       "    </tr>\n",
       "    <tr>\n",
       "      <th>4</th>\n",
       "      <td>2874</td>\n",
       "      <td>Oneida County (Central)--Greater Utica &amp; Rome ...</td>\n",
       "      <td>36</td>\n",
       "      <td>402</td>\n",
       "      <td>NaN</td>\n",
       "    </tr>\n",
       "  </tbody>\n",
       "</table>\n",
       "</div>"
      ],
      "text/plain": [
       "   B00001_001E                                               NAME  state  \\\n",
       "0         3075                 St. Lawrence County PUMA, New York     36   \n",
       "1         4356  Clinton, Franklin, Essex & Hamilton Counties P...     36   \n",
       "2         2736        Warren & Washington Counties PUMA, New York     36   \n",
       "3         2722  Herkimer (North & Central) & Oneida (Outer) Co...     36   \n",
       "4         2874  Oneida County (Central)--Greater Utica & Rome ...     36   \n",
       "\n",
       "   puma  Unnamed: 4  \n",
       "0   100         NaN  \n",
       "1   200         NaN  \n",
       "2   300         NaN  \n",
       "3   401         NaN  \n",
       "4   402         NaN  "
      ]
     },
     "execution_count": 44,
     "metadata": {},
     "output_type": "execute_result"
    }
   ],
   "source": [
    "pumaPop.head(5)"
   ]
  },
  {
   "cell_type": "code",
   "execution_count": 45,
   "metadata": {},
   "outputs": [
    {
     "data": {
      "text/html": [
       "<div>\n",
       "<table border=\"1\" class=\"dataframe\">\n",
       "  <thead>\n",
       "    <tr style=\"text-align: right;\">\n",
       "      <th></th>\n",
       "      <th>puma</th>\n",
       "      <th>shape_area</th>\n",
       "      <th>shape_leng</th>\n",
       "      <th>geometry</th>\n",
       "    </tr>\n",
       "  </thead>\n",
       "  <tbody>\n",
       "    <tr>\n",
       "      <th>0</th>\n",
       "      <td>3701</td>\n",
       "      <td>9.792852e+07</td>\n",
       "      <td>53227.144461</td>\n",
       "      <td>POLYGON ((-73.89641133483133 40.90450452082026...</td>\n",
       "    </tr>\n",
       "    <tr>\n",
       "      <th>1</th>\n",
       "      <td>3702</td>\n",
       "      <td>1.889860e+08</td>\n",
       "      <td>106050.002302</td>\n",
       "      <td>POLYGON ((-73.8442314689986 40.86942035096838,...</td>\n",
       "    </tr>\n",
       "    <tr>\n",
       "      <th>2</th>\n",
       "      <td>3703</td>\n",
       "      <td>2.670137e+08</td>\n",
       "      <td>304071.257466</td>\n",
       "      <td>(POLYGON ((-73.78833349834532 40.8346671297593...</td>\n",
       "    </tr>\n",
       "    <tr>\n",
       "      <th>3</th>\n",
       "      <td>3704</td>\n",
       "      <td>1.062129e+08</td>\n",
       "      <td>47970.901277</td>\n",
       "      <td>POLYGON ((-73.84792614069238 40.8713422330779,...</td>\n",
       "    </tr>\n",
       "    <tr>\n",
       "      <th>4</th>\n",
       "      <td>4015</td>\n",
       "      <td>8.105438e+07</td>\n",
       "      <td>50007.415493</td>\n",
       "      <td>POLYGON ((-73.95374853778468 40.63858633758547...</td>\n",
       "    </tr>\n",
       "  </tbody>\n",
       "</table>\n",
       "</div>"
      ],
      "text/plain": [
       "   puma    shape_area     shape_leng  \\\n",
       "0  3701  9.792852e+07   53227.144461   \n",
       "1  3702  1.889860e+08  106050.002302   \n",
       "2  3703  2.670137e+08  304071.257466   \n",
       "3  3704  1.062129e+08   47970.901277   \n",
       "4  4015  8.105438e+07   50007.415493   \n",
       "\n",
       "                                            geometry  \n",
       "0  POLYGON ((-73.89641133483133 40.90450452082026...  \n",
       "1  POLYGON ((-73.8442314689986 40.86942035096838,...  \n",
       "2  (POLYGON ((-73.78833349834532 40.8346671297593...  \n",
       "3  POLYGON ((-73.84792614069238 40.8713422330779,...  \n",
       "4  POLYGON ((-73.95374853778468 40.63858633758547...  "
      ]
     },
     "execution_count": 45,
     "metadata": {},
     "output_type": "execute_result"
    }
   ],
   "source": [
    "pumashp.head(5)"
   ]
  },
  {
   "cell_type": "code",
   "execution_count": 46,
   "metadata": {},
   "outputs": [
    {
     "data": {
      "text/html": [
       "<div>\n",
       "<table border=\"1\" class=\"dataframe\">\n",
       "  <thead>\n",
       "    <tr style=\"text-align: right;\">\n",
       "      <th></th>\n",
       "      <th>puma</th>\n",
       "      <th>shape_area</th>\n",
       "      <th>shape_leng</th>\n",
       "      <th>geometry</th>\n",
       "      <th>B00001_001E</th>\n",
       "    </tr>\n",
       "  </thead>\n",
       "  <tbody>\n",
       "    <tr>\n",
       "      <th>0</th>\n",
       "      <td>3701</td>\n",
       "      <td>9.792852e+07</td>\n",
       "      <td>53227.144461</td>\n",
       "      <td>POLYGON ((-73.89641133483133 40.90450452082026...</td>\n",
       "      <td>1517</td>\n",
       "    </tr>\n",
       "    <tr>\n",
       "      <th>1</th>\n",
       "      <td>3702</td>\n",
       "      <td>1.889860e+08</td>\n",
       "      <td>106050.002302</td>\n",
       "      <td>POLYGON ((-73.8442314689986 40.86942035096838,...</td>\n",
       "      <td>1959</td>\n",
       "    </tr>\n",
       "    <tr>\n",
       "      <th>2</th>\n",
       "      <td>3703</td>\n",
       "      <td>2.670137e+08</td>\n",
       "      <td>304071.257466</td>\n",
       "      <td>(POLYGON ((-73.78833349834532 40.8346671297593...</td>\n",
       "      <td>1305</td>\n",
       "    </tr>\n",
       "    <tr>\n",
       "      <th>3</th>\n",
       "      <td>3704</td>\n",
       "      <td>1.062129e+08</td>\n",
       "      <td>47970.901277</td>\n",
       "      <td>POLYGON ((-73.84792614069238 40.8713422330779,...</td>\n",
       "      <td>1882</td>\n",
       "    </tr>\n",
       "    <tr>\n",
       "      <th>4</th>\n",
       "      <td>4015</td>\n",
       "      <td>8.105438e+07</td>\n",
       "      <td>50007.415493</td>\n",
       "      <td>POLYGON ((-73.95374853778468 40.63858633758547...</td>\n",
       "      <td>2515</td>\n",
       "    </tr>\n",
       "  </tbody>\n",
       "</table>\n",
       "</div>"
      ],
      "text/plain": [
       "   puma    shape_area     shape_leng  \\\n",
       "0  3701  9.792852e+07   53227.144461   \n",
       "1  3702  1.889860e+08  106050.002302   \n",
       "2  3703  2.670137e+08  304071.257466   \n",
       "3  3704  1.062129e+08   47970.901277   \n",
       "4  4015  8.105438e+07   50007.415493   \n",
       "\n",
       "                                            geometry  B00001_001E  \n",
       "0  POLYGON ((-73.89641133483133 40.90450452082026...         1517  \n",
       "1  POLYGON ((-73.8442314689986 40.86942035096838,...         1959  \n",
       "2  (POLYGON ((-73.78833349834532 40.8346671297593...         1305  \n",
       "3  POLYGON ((-73.84792614069238 40.8713422330779,...         1882  \n",
       "4  POLYGON ((-73.95374853778468 40.63858633758547...         2515  "
      ]
     },
     "execution_count": 46,
     "metadata": {},
     "output_type": "execute_result"
    }
   ],
   "source": [
    "# Merge population data with PUMA geometry data\n",
    "pumaPopGeo = pd.merge(pumashp, pumaPop[['B00001_001E','puma']],on='puma', how='inner')\n",
    "pumaPopGeo.head(5)"
   ]
  },
  {
   "cell_type": "code",
   "execution_count": 47,
   "metadata": {},
   "outputs": [],
   "source": [
    "# Convert merged pumashp and linkNYC to 2263 crs\n",
    "pumaPopGeo2263 = pumaPopGeo.to_crs(epsg=2263)\n",
    "linkNYC2263 = linkNYC.to_crs(epsg=2263)"
   ]
  },
  {
   "cell_type": "code",
   "execution_count": 48,
   "metadata": {},
   "outputs": [
    {
     "name": "stdout",
     "output_type": "stream",
     "text": [
      "<class 'geopandas.geodataframe.GeoDataFrame'>\n",
      "<class 'geopandas.geodataframe.GeoDataFrame'>\n"
     ]
    }
   ],
   "source": [
    "print(type(linkNYC))\n",
    "print(type(pumaPopGeo2263))"
   ]
  },
  {
   "cell_type": "code",
   "execution_count": 49,
   "metadata": {},
   "outputs": [
    {
     "data": {
      "text/html": [
       "<div>\n",
       "<table border=\"1\" class=\"dataframe\">\n",
       "  <thead>\n",
       "    <tr style=\"text-align: right;\">\n",
       "      <th></th>\n",
       "      <th>puma</th>\n",
       "      <th>total_sites</th>\n",
       "    </tr>\n",
       "  </thead>\n",
       "  <tbody>\n",
       "    <tr>\n",
       "      <th>0</th>\n",
       "      <td>3701</td>\n",
       "      <td>1</td>\n",
       "    </tr>\n",
       "    <tr>\n",
       "      <th>1</th>\n",
       "      <td>3705</td>\n",
       "      <td>1</td>\n",
       "    </tr>\n",
       "    <tr>\n",
       "      <th>2</th>\n",
       "      <td>3706</td>\n",
       "      <td>20</td>\n",
       "    </tr>\n",
       "    <tr>\n",
       "      <th>3</th>\n",
       "      <td>3707</td>\n",
       "      <td>29</td>\n",
       "    </tr>\n",
       "    <tr>\n",
       "      <th>4</th>\n",
       "      <td>3708</td>\n",
       "      <td>19</td>\n",
       "    </tr>\n",
       "  </tbody>\n",
       "</table>\n",
       "</div>"
      ],
      "text/plain": [
       "   puma  total_sites\n",
       "0  3701            1\n",
       "1  3705            1\n",
       "2  3706           20\n",
       "3  3707           29\n",
       "4  3708           19"
      ]
     },
     "execution_count": 49,
     "metadata": {},
     "output_type": "execute_result"
    }
   ],
   "source": [
    "# Spatial join\n",
    "linkpp = gpd.sjoin(pumaPopGeo2263,linkNYC2263).groupby('puma')['link_site'].agg(np.size).reset_index(name='link_site')\n",
    "linkpp.rename(columns={'link_site':'total_sites'}, inplace=True)\n",
    "linkpp.head(5)"
   ]
  },
  {
   "cell_type": "markdown",
   "metadata": {},
   "source": [
    "### 5.2 Find the number of LinkNYC stations per 100 people per PUMA"
   ]
  },
  {
   "cell_type": "code",
   "execution_count": 50,
   "metadata": {},
   "outputs": [
    {
     "data": {
      "text/plain": [
       "count    37.000000\n",
       "mean      2.327677\n",
       "std       3.328955\n",
       "min       0.049727\n",
       "25%       0.538358\n",
       "50%       1.299590\n",
       "75%       1.873385\n",
       "max      15.141540\n",
       "Name: linkNYCp100p, dtype: float64"
      ]
     },
     "execution_count": 50,
     "metadata": {},
     "output_type": "execute_result"
    }
   ],
   "source": [
    "# LinkNYC per 100 inhabitants\n",
    "finalpumashp = pd.merge(pumaPopGeo,linkpp[['puma','total_sites']],on='puma', how='inner')\n",
    "finalpumashp[\"linkNYCp100p\"] = finalpumashp['total_sites']/(finalpumashp['B00001_001E']/100)\n",
    "finalpumashp[\"linkNYCp100p\"].describe()"
   ]
  },
  {
   "cell_type": "code",
   "execution_count": 51,
   "metadata": {},
   "outputs": [
    {
     "name": "stdout",
     "output_type": "stream",
     "text": [
      "<class 'geopandas.geodataframe.GeoDataFrame'>\n"
     ]
    }
   ],
   "source": [
    "print(type(finalpumashp))"
   ]
  },
  {
   "cell_type": "code",
   "execution_count": 52,
   "metadata": {},
   "outputs": [
    {
     "data": {
      "image/png": "[encoded data removed]",
      "text/plain": [
       "<matplotlib.figure.Figure at 0x7f60bb2b59b0>"
      ]
     },
     "metadata": {},
     "output_type": "display_data"
    }
   ],
   "source": [
    "# Plot chloropleth of linkNYC stations per 100 inhabitants of each PUMA\n",
    "f, ax = plt.subplots(figsize=(10,10))\n",
    "finalpumashp.plot(column='linkNYCp100p',alpha=.8,linewidth=0.5,ax=ax,label='pcBB',scheme=\"Equal_interval\",k=5, legend=True)\n",
    "linkNYC.plot(column='date_link_',alpha=.75,ax=ax,scheme=\"Equal_interval\",k=5,s=10)\n",
    "ax.get_xaxis().set_visible(False)\n",
    "ax.get_yaxis().set_visible(False)\n",
    "plt.title(\"LinkNYC Stations Per 100 Residents in NYC\", fontsize=20)\n",
    "plt.show()"
   ]
  },
  {
   "cell_type": "markdown",
   "metadata": {},
   "source": [
    "### Note on above plot:\n",
    "\n",
    "The above plot shows the number of LinkNYC stations for every 100 people living within each PUMA in NYC. PUMAs with the highest concentration of LinkNYC stations per 100 residents are highlighted in lighter colors while those with lower concentrations are colored in darker shades. The locations of individual LinkNYC stations have also been plotted as points.\n",
    "\n",
    "The plot shows that the PUMAs with the most LinkNYC stations per 100 residents are located primarily in Manhattan (excluding the southwest tip of Manhattan)."
   ]
  },
  {
   "cell_type": "code",
   "execution_count": null,
   "metadata": {},
   "outputs": [],
   "source": []
  }
 ],
 "metadata": {
  "kernelspec": {
   "display_name": "PUI2016_Python3",
   "language": "python",
   "name": "pui2016_python3"
  },
  "language_info": {
   "codemirror_mode": {
    "name": "ipython",
    "version": 3
   },
   "file_extension": ".py",
   "mimetype": "text/x-python",
   "name": "python",
   "nbconvert_exporter": "python",
   "pygments_lexer": "ipython3",
   "version": "3.5.4"
  }
 },
 "nbformat": 4,
 "nbformat_minor": 2
}
